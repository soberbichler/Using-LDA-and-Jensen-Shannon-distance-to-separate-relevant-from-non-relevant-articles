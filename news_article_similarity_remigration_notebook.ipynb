{
 "cells": [
  {
   "cell_type": "markdown",
   "metadata": {},
   "source": [
    "# Using LDA and Jensen-Shannon Distance (JSD) to group similar newspaper articles \n",
    "\n",
    "\n",
    "Many researchers have the problem that their data sets or automated set annotations contain articles that are irrelevant to their research question. For many reserarch topics, search requests are difficult to define conceptually and hard, if not impossible, to trace by a simple keyword search alone. Additionally, when building topic-specific corpora using queries, there is always a compromise between the precision and the recall of such search queries. In other words, on one hand, there is a conflict between creating a corpus that contains only relevant texts but not all texts available in the entire collection are relevant. For example, if the goal is to find articles on return migration, researchers have to deal with some ambiguous search terms. The German words \"Heimkehr\" (returning home) or \"Rückkehr\" (returning back) lead to many articles that are relevant to the research question, but also to articles that are not relevant (e.g. return from a mountain tour, work, etc.). By using topic models and document similarity measurements, this notebook allows to exclude these articles without combining the the terms \"Heimkehr\", \"Rückkehr\", \"Rückwanderung\", \"Rückwanderer\" or \"Rückkehrer\" with other search terms.\n",
    "\n",
    "The main purpose of this notebook is to consider the context of a search query (in this case the whole content of a newspaper clipping where the keyword appears) to measure the relevance, on the other hand, can make the search less influenced by the researcher's prior knowledge and avoid a too narrow tunnel vision.\n",
    "\n",
    "#### So how is this working? \n",
    "\n",
    "Given a manually annotated collection of articles containing relevant as well as non relevant articles, this program will get the topic distribution of each document using LDA (gensim library). These topic distributions serve as a comparison for other, unseen articles, in order to automatically distinguish between relevant and non-relevant articles. The annotations are used for evaluation and counting the relevance probability for an unseen article. \n",
    "\n",
    "For the comparison, the Jensen-Shannon distance method is used to measure the similarity between the topic distribution of an unseen article and the topic distribution of the training corpus. Therefore, the topic distribution of each new article will be compared to the topic distribution of the articles in the trained corpus. Then, for each unseen article, the 10 most similar articles from the training corpus are being extracted. These articles carry the information about the manually assigned relevancy. If 60 precent of the automatically found similar articles were annotated as relevant, the new article will be marked as relevant. Otherwise it will be marked as irrelevant. Using two different datasets (one about cancer and one about return migration), the average score of correct selected articles is between 80 and 90 percent. \n",
    "\n",
    "Read more about <a href=\"https://monkeylearn.com/blog/introduction-to-topic-modeling/\" target=\"_blank\">Topic Modeling</a> and the <a href=\"https://axialcorps.wordpress.com/tag/jensen-shannon-divergence/\" target=\"_blank\">Jensen-Shannon distance method</a>.\n"
   ]
  },
  {
   "cell_type": "markdown",
   "metadata": {},
   "source": [
    "## Step by step...\n",
    "* [Preparing a small manually annotated collection](#1-bullet)\n",
    "* [Installing packages in command line](#2-bullet)\n",
    "* [Importing packages](#3-bullet)\n",
    "* [Importing your manually annotated newspaper collection](#4-bullet)\n",
    "* [Cleaning and tokenizing the text (pre-processing)](#5-bullet)\n",
    "* [Optional: Reducing your data to nouns, adjectives, verbs, or adverbs](#6-bullet)\n",
    "* [Having a look at your data](#7-bullet)\n",
    "* [Removing articles that are too short](#8-bullet)\n",
    "* [Using the dataset to create a training corpus and test corpus](#9-bullet)\n",
    "* [Creating topic models using your training corpus](#10-bullet)\n",
    "* [Finding the dominant topic for each article](#11-bullet)\n",
    "* [Finding similar articles using the Jensen Shannon function](#12-bullet)\n",
    "* [Calculating the score of the output](#13-bullet)\n",
    "* [Using the whole collection](#14-bullet)\n",
    "* [Cleaning (pre-process) the whole collection](#15-bullet)\n",
    "* [Optional: Reducing your data to nouns, adjectives, verbs, or adverbs](#16-bullet)\n",
    "* [Calculating similarities in comparing articles to the training corpus](#17-bullet)\n",
    "* [Exporting the results to check if the method worked well ](#18-bullet)\n",
    "* [Exporting the final collection](#19-bullet)\n",
    "\n"
   ]
  },
  {
   "cell_type": "markdown",
   "metadata": {},
   "source": [
    "## Preparing a small manually annotated collection <a class=\"anchor\" id=\"1-bullet\"></a>\n",
    "\n",
    "This program uses a manually annotated dataset on returm migration for the calcuation of the relevanvy-probability and to successfully distinguish between relevant and non-relevant articles. Therefore, a manually annotated collection of 219 articles has been created with and exported from the <a href=\"https://platform.newseye.eu\" target=\"_blank\">NewsEye Platform</a>. This platform allows to create and manage datasets as well as adding annotations to the dataset. This means that 130 articles have been manually annotated as relevant (by assigning the number 3) and 89 articles have been annotated as irrelevant (by assigning the number 0). While creating and annotating the dataset, value was placed on the representativity of the collection (in covering all possible topics and time frames).\n",
    "\n",
    "The following steps are illustrated using the case study on return migration. The main goal is to separate the relevant from the irrelevant articles and to export the \"cleaned\" collection as CSV. Thus, the articles I want to keep deal with remigratory processes between 1850 and 1950, while the articles I want to remove deal with all kinds of topics including the word \"Heimkehr\" (return from the mountain trip, vacation, work, etc.). "
   ]
  },
  {
   "cell_type": "markdown",
   "metadata": {},
   "source": [
    "## Installing packages in command line <a class=\"anchor\" id=\"2-bullet\"></a>\n",
    " \n",
    "\n",
    "pip install pandas\n",
    "\n",
    "pip install spacy\n",
    "\n",
    "pip install regex\n",
    "\n",
    "pip install nltk\n",
    "\n",
    "pip install matplotlib\n",
    "\n",
    "pip install numpy\n",
    "\n",
    "pip install seaborn\n",
    "\n",
    "pip install gensim\n"
   ]
  },
  {
   "cell_type": "markdown",
   "metadata": {},
   "source": [
    "## Importing packages <a class=\"anchor\" id=\"3-bullet\"></a>\n",
    "\n",
    "Before you can get started, you have to install and import some packages. We are using Gensim for the topic modeling and similartiy mesure. "
   ]
  },
  {
   "cell_type": "code",
   "execution_count": 1,
   "metadata": {},
   "outputs": [],
   "source": [
    "%matplotlib inline\n",
    "import pandas as pd\n",
    "import numpy as np\n",
    "import nltk\n",
    "from nltk.corpus import stopwords\n",
    "import gensim\n",
    "from gensim.models import LdaModel\n",
    "from gensim import models, corpora, similarities\n",
    "import re\n",
    "from nltk.stem.porter import PorterStemmer\n",
    "import time\n",
    "from nltk import FreqDist\n",
    "from scipy.stats import entropy\n",
    "import matplotlib.pyplot as plt\n",
    "import seaborn as sns\n",
    "sns.set_style(\"darkgrid\")\n",
    "import matplotlib.pyplot as plt\n",
    "%matplotlib inline\n",
    "from gensim.utils import lemmatize, simple_preprocess\n",
    "import spacy\n",
    "\n",
    "\n",
    "import gensim, spacy, logging, warnings\n",
    "import gensim.corpora as corpora\n",
    "from gensim.utils import lemmatize, simple_preprocess\n",
    "from gensim.models import CoherenceModel\n",
    "import matplotlib.pyplot as plt\n",
    "\n",
    "import sys\n",
    "import re, numpy as np, pandas as pd\n",
    "from pprint import pprint"
   ]
  },
  {
   "cell_type": "markdown",
   "metadata": {},
   "source": [
    "## Importing the manually annotated newspaper collection <a class=\"anchor\" id=\"4-bullet\"></a>\n"
   ]
  },
  {
   "cell_type": "code",
   "execution_count": 2,
   "metadata": {},
   "outputs": [],
   "source": [
    "import csv"
   ]
  },
  {
   "cell_type": "code",
   "execution_count": 3,
   "metadata": {},
   "outputs": [],
   "source": [
    "df = pd.read_csv('export_remigration_06_06_2020_18_57.csv')"
   ]
  },
  {
   "cell_type": "markdown",
   "metadata": {},
   "source": [
    "### Having a look at the data"
   ]
  },
  {
   "cell_type": "code",
   "execution_count": 4,
   "metadata": {
    "scrolled": true
   },
   "outputs": [
    {
     "data": {
      "text/html": [
       "<div>\n",
       "<style scoped>\n",
       "    .dataframe tbody tr th:only-of-type {\n",
       "        vertical-align: middle;\n",
       "    }\n",
       "\n",
       "    .dataframe tbody tr th {\n",
       "        vertical-align: top;\n",
       "    }\n",
       "\n",
       "    .dataframe thead th {\n",
       "        text-align: right;\n",
       "    }\n",
       "</style>\n",
       "<table border=\"1\" class=\"dataframe\">\n",
       "  <thead>\n",
       "    <tr style=\"text-align: right;\">\n",
       "      <th></th>\n",
       "      <th>id</th>\n",
       "      <th>language</th>\n",
       "      <th>date</th>\n",
       "      <th>newspaper_id</th>\n",
       "      <th>iiif_url</th>\n",
       "      <th>relevancy</th>\n",
       "      <th>text</th>\n",
       "    </tr>\n",
       "  </thead>\n",
       "  <tbody>\n",
       "    <tr>\n",
       "      <td>0</td>\n",
       "      <td>neue_freie_presse_nfp18650323_article_595</td>\n",
       "      <td>de</td>\n",
       "      <td>1865-03-23T00:00:00Z</td>\n",
       "      <td>neue_freie_presse</td>\n",
       "      <td>https://platform.newseye.eu/iiif/neue_freie_pr...</td>\n",
       "      <td>0</td>\n",
       "      <td>Endesgefertigter litt seit längerer Zeit an Ma...</td>\n",
       "    </tr>\n",
       "    <tr>\n",
       "      <td>1</td>\n",
       "      <td>neue_freie_presse_nfp18650301_article_368</td>\n",
       "      <td>de</td>\n",
       "      <td>1865-03-01T00:00:00Z</td>\n",
       "      <td>neue_freie_presse</td>\n",
       "      <td>https://platform.newseye.eu/iiif/neue_freie_pr...</td>\n",
       "      <td>0</td>\n",
       "      <td>„ „Adepesertister lt seit längerer Seit an Mag...</td>\n",
       "    </tr>\n",
       "    <tr>\n",
       "      <td>2</td>\n",
       "      <td>neue_freie_presse_nfp18650308_article_609</td>\n",
       "      <td>de</td>\n",
       "      <td>1865-03-08T00:00:00Z</td>\n",
       "      <td>neue_freie_presse</td>\n",
       "      <td>https://platform.newseye.eu/iiif/neue_freie_pr...</td>\n",
       "      <td>0</td>\n",
       "      <td>Endesgefertigter litt seit längerer Zeit an Ma...</td>\n",
       "    </tr>\n",
       "    <tr>\n",
       "      <td>3</td>\n",
       "      <td>illustrierte_kronen_zeitung_krz19381218_articl...</td>\n",
       "      <td>de</td>\n",
       "      <td>1938-12-18T00:00:00Z</td>\n",
       "      <td>illustrierte_kronen_zeitung</td>\n",
       "      <td>https://platform.newseye.eu/iiif/illustrierte_...</td>\n",
       "      <td>3</td>\n",
       "      <td>Der Leiter der Zweigstelle Wien des Rückwander...</td>\n",
       "    </tr>\n",
       "    <tr>\n",
       "      <td>4</td>\n",
       "      <td>innsbrucker_nachrichten_ibn19120525_article_1689</td>\n",
       "      <td>de</td>\n",
       "      <td>1912-05-25T00:00:00Z</td>\n",
       "      <td>innsbrucker_nachrichten</td>\n",
       "      <td>https://platform.newseye.eu/iiif/innsbrucker_n...</td>\n",
       "      <td>0</td>\n",
       "      <td>„Ober wos denkst denn, so long ausbleibn!“\\nFü...</td>\n",
       "    </tr>\n",
       "  </tbody>\n",
       "</table>\n",
       "</div>"
      ],
      "text/plain": [
       "                                                  id language  \\\n",
       "0          neue_freie_presse_nfp18650323_article_595       de   \n",
       "1          neue_freie_presse_nfp18650301_article_368       de   \n",
       "2          neue_freie_presse_nfp18650308_article_609       de   \n",
       "3  illustrierte_kronen_zeitung_krz19381218_articl...       de   \n",
       "4   innsbrucker_nachrichten_ibn19120525_article_1689       de   \n",
       "\n",
       "                   date                 newspaper_id  \\\n",
       "0  1865-03-23T00:00:00Z            neue_freie_presse   \n",
       "1  1865-03-01T00:00:00Z            neue_freie_presse   \n",
       "2  1865-03-08T00:00:00Z            neue_freie_presse   \n",
       "3  1938-12-18T00:00:00Z  illustrierte_kronen_zeitung   \n",
       "4  1912-05-25T00:00:00Z      innsbrucker_nachrichten   \n",
       "\n",
       "                                            iiif_url  relevancy  \\\n",
       "0  https://platform.newseye.eu/iiif/neue_freie_pr...          0   \n",
       "1  https://platform.newseye.eu/iiif/neue_freie_pr...          0   \n",
       "2  https://platform.newseye.eu/iiif/neue_freie_pr...          0   \n",
       "3  https://platform.newseye.eu/iiif/illustrierte_...          3   \n",
       "4  https://platform.newseye.eu/iiif/innsbrucker_n...          0   \n",
       "\n",
       "                                                text  \n",
       "0  Endesgefertigter litt seit längerer Zeit an Ma...  \n",
       "1  „ „Adepesertister lt seit längerer Seit an Mag...  \n",
       "2  Endesgefertigter litt seit längerer Zeit an Ma...  \n",
       "3  Der Leiter der Zweigstelle Wien des Rückwander...  \n",
       "4  „Ober wos denkst denn, so long ausbleibn!“\\nFü...  "
      ]
     },
     "execution_count": 4,
     "metadata": {},
     "output_type": "execute_result"
    }
   ],
   "source": [
    "df.head(5)"
   ]
  },
  {
   "cell_type": "markdown",
   "metadata": {},
   "source": [
    "### Checking the distribution of relevant articles (3) and non relevant articles (0)"
   ]
  },
  {
   "cell_type": "code",
   "execution_count": 5,
   "metadata": {},
   "outputs": [
    {
     "data": {
      "text/plain": [
       "<matplotlib.axes._subplots.AxesSubplot at 0x1b5cc71ea48>"
      ]
     },
     "execution_count": 5,
     "metadata": {},
     "output_type": "execute_result"
    },
    {
     "data": {
      "image/png": "[encoded data removed]",
      "text/plain": [
       "<Figure size 432x288 with 1 Axes>"
      ]
     },
     "metadata": {
      "needs_background": "light"
     },
     "output_type": "display_data"
    }
   ],
   "source": [
    "df.relevancy.value_counts().plot(kind='bar')"
   ]
  },
  {
   "cell_type": "markdown",
   "metadata": {},
   "source": [
    "### For the next steps, it is easier to only use the information on text and relevancy"
   ]
  },
  {
   "cell_type": "code",
   "execution_count": 6,
   "metadata": {},
   "outputs": [],
   "source": [
    "df = pd.read_csv('export_remigration_06_06_2020_18_57.csv', usecols = ['text','relevancy'])"
   ]
  },
  {
   "cell_type": "code",
   "execution_count": 7,
   "metadata": {},
   "outputs": [
    {
     "data": {
      "text/html": [
       "<div>\n",
       "<style scoped>\n",
       "    .dataframe tbody tr th:only-of-type {\n",
       "        vertical-align: middle;\n",
       "    }\n",
       "\n",
       "    .dataframe tbody tr th {\n",
       "        vertical-align: top;\n",
       "    }\n",
       "\n",
       "    .dataframe thead th {\n",
       "        text-align: right;\n",
       "    }\n",
       "</style>\n",
       "<table border=\"1\" class=\"dataframe\">\n",
       "  <thead>\n",
       "    <tr style=\"text-align: right;\">\n",
       "      <th></th>\n",
       "      <th>relevancy</th>\n",
       "      <th>text</th>\n",
       "    </tr>\n",
       "  </thead>\n",
       "  <tbody>\n",
       "    <tr>\n",
       "      <td>0</td>\n",
       "      <td>0</td>\n",
       "      <td>Endesgefertigter litt seit längerer Zeit an Ma...</td>\n",
       "    </tr>\n",
       "    <tr>\n",
       "      <td>1</td>\n",
       "      <td>0</td>\n",
       "      <td>„ „Adepesertister lt seit längerer Seit an Mag...</td>\n",
       "    </tr>\n",
       "    <tr>\n",
       "      <td>2</td>\n",
       "      <td>0</td>\n",
       "      <td>Endesgefertigter litt seit längerer Zeit an Ma...</td>\n",
       "    </tr>\n",
       "    <tr>\n",
       "      <td>3</td>\n",
       "      <td>3</td>\n",
       "      <td>Der Leiter der Zweigstelle Wien des Rückwander...</td>\n",
       "    </tr>\n",
       "    <tr>\n",
       "      <td>4</td>\n",
       "      <td>0</td>\n",
       "      <td>„Ober wos denkst denn, so long ausbleibn!“\\nFü...</td>\n",
       "    </tr>\n",
       "  </tbody>\n",
       "</table>\n",
       "</div>"
      ],
      "text/plain": [
       "   relevancy                                               text\n",
       "0          0  Endesgefertigter litt seit längerer Zeit an Ma...\n",
       "1          0  „ „Adepesertister lt seit längerer Seit an Mag...\n",
       "2          0  Endesgefertigter litt seit längerer Zeit an Ma...\n",
       "3          3  Der Leiter der Zweigstelle Wien des Rückwander...\n",
       "4          0  „Ober wos denkst denn, so long ausbleibn!“\\nFü..."
      ]
     },
     "execution_count": 7,
     "metadata": {},
     "output_type": "execute_result"
    }
   ],
   "source": [
    "df.head(5)"
   ]
  },
  {
   "cell_type": "markdown",
   "metadata": {},
   "source": [
    "## Cleaning and tokenizing the text (pre-processing) <a class=\"anchor\" id=\"5-bullet\"></a>\n",
    "\n",
    "Before the training fo the topic models can be started, the data has to be cleaned. The follwing functions remove punctuations, lower case the text, remove stop words and lemmatize the text. \n",
    "\n",
    "#### Stop words: \n",
    "The language used for the stop words can be changed. It is also possible to create own stop words or to select words that should be ignored. It helps to ignore words that are often shared in both, relevant and non-relevant articles. "
   ]
  },
  {
   "cell_type": "code",
   "execution_count": 8,
   "metadata": {},
   "outputs": [],
   "source": [
    "# Functions to clean, tokenize, and lemmatize the data\n",
    "def initial_clean(text):\n",
    "    text = re.sub(r'[^\\w\\s]','',text)\n",
    "    text = text.lower() \n",
    "    text = nltk.word_tokenize(text)\n",
    "    return text\n",
    "\n",
    "stop_words = stopwords.words('german')#change the language here\n",
    "# add your onw stop words\n",
    "stop_words.extend([\"Heimkehr\", \"Rückkehr\", \"heimkehren\", \"zurückkehren\", \"a\", \"ab\",\"aber\",\"ach\",\"acht\",\"achte\",\"achten\",\"achter\",\"achtes\",\"ag\",\"alle\",\"allein\",\"allem\",\"allen\",\"aller\",\"allerdings\",\"alles\",\"allgemeinen\",\"als\",\"also\",\"am\",\"an\",\"andere\",\"anderen\",\"andern\",\"anders\",\"au\",\"auch\",\"auf\",\"aus\",\"ausser\",\"außer\",\"ausserdem\",\"außerdem\",\"b\",\"bald\",\"bei\",\"beide\",\"beiden\",\"beim\",\"beispiel\",\"bekannt\",\"bereits\",\"besonders\",\"besser\",\"besten\",\"bin\",\"bis\",\"bisher\",\"bist\",\"c\",\"d\",\"da\",\"dabei\",\"dadurch\",\"dafür\",\"dagegen\",\"daher\",\"dahin\",\"dahinter\",\"damals\",\"damit\",\"danach\",\"daneben\",\"dank\",\"dann\",\"daran\",\"darauf\",\"daraus\",\"darf\",\"darfst\",\"darin\",\"darüber\",\"darum\",\"darunter\",\"das\",\"dasein\",\"daselbst\",\"dass\",\"daß\",\"dasselbe\",\"davon\",\"davor\",\"dazu\",\"dazwischen\",\"dein\",\"deine\",\"deinem\",\"deiner\",\"dem\",\"dementsprechend\",\"demgegenüber\",\"demgemäss\",\"demgemäß\",\"demselben\",\"demzufolge\",\"den\",\"denen\",\"denn\",\"denselben\",\"der\",\"deren\",\"derjenige\",\"derjenigen\",\"dermassen\",\"dermaßen\",\"derselbe\",\"derselben\",\"des\",\"deshalb\",\"desselben\",\"dessen\",\"deswegen\",\"d.h\",\"dich\",\"die\",\"diejenige\",\"diejenigen\",\"dies\",\"diese\",\"dieselbe\",\"dieselben\",\"diesem\",\"diesen\",\"dieser\",\"dieses\",\"dir\",\"doch\",\"dort\",\"drei\",\"drin\",\"dritte\",\"dritten\",\"dritter\",\"drittes\",\"du\",\"durch\",\"durchaus\",\"dürfen\",\"dürft\",\"durfte\",\"durften\",\"e\",\"eben\",\"ebenso\",\"ehrlich\",\"ei\",\"ei,\",\"eigen\",\"eigene\",\"eigenen\",\"eigener\",\"eigenes\",\"ein\",\"einander\",\"eine\",\"einem\",\"einen\",\"einer\",\"eines\",\"einige\",\"einigen\",\"einiger\",\"einiges\",\"einmal\",\"eins\",\"elf\",\"en\",\"ende\",\"endlich\",\"entweder\",\"er\",\"Ernst\",\"erst\",\"erste\",\"ersten\",\"erster\",\"erstes\",\"es\",\"etwa\",\"etwas\",\"euch\",\"f\",\"früher\",\"fünf\",\"fünfte\",\"fünften\",\"fünfter\",\"fünftes\",\"für\",\"g\",\"gab\",\"ganz\",\"ganze\",\"ganzen\",\"ganzer\",\"ganzes\",\"gar\",\"gedurft\",\"gegen\",\"gegenüber\",\"gehabt\",\"gehen\",\"geht\",\"gekannt\",\"gekonnt\",\"gemacht\",\"gemocht\",\"gemusst\",\"genug\",\"gerade\",\"gern\",\"gesagt\",\"geschweige\",\"gewesen\",\"gewollt\",\"geworden\",\"gibt\",\"ging\",\"gleich\",\"gott\",\"gross\",\"groß\",\"grosse\",\"große\",\"grossen\",\"großen\",\"grosser\",\"großer\",\"grosses\",\"großes\",\"gut\",\"gute\",\"guter\",\"gutes\",\"h\",\"habe\",\"haben\",\"habt\",\"hast\",\"hat\",\"hatte\",\"hätte\",\"hatten\",\"hätten\",\"heisst\",\"her\",\"heute\",\"hier\",\"hin\",\"hinter\",\"hoch\",\"i\",\"ich\",\"ihm\",\"ihn\",\"ihnen\",\"ihr\",\"ihre\",\"ihrem\",\"ihren\",\"ihrer\",\"ihres\",\"im\",\"immer\",\"in\",\"indem\",\"infolgedessen\",\"ins\",\"irgend\",\"ist\",\"j\",\"ja\",\"jahr\",\"jahre\",\"jahren\",\"je\",\"jede\",\"jedem\",\"jeden\",\"jeder\",\"jedermann\",\"jedermanns\",\"jedoch\",\"jemand\",\"jemandem\",\"jemanden\",\"jene\",\"jenem\",\"jenen\",\"jener\",\"jenes\",\"jetzt\",\"k\",\"kam\",\"kann\",\"kannst\",\"kaum\",\"kein\",\"keine\",\"keinem\",\"keinen\",\"keiner\",\"kleine\",\"kleinen\",\"kleiner\",\"kleines\",\"kommen\",\"kommt\",\"können\",\"könnt\",\"konnte\",\"könnte\",\"konnten\",\"kurz\",\"l\",\"lang\",\"lange\",\"leicht\",\"leide\",\"lieber\",\"los\",\"m\",\"machen\",\"macht\",\"machte\",\"mag\",\"magst\",\"mahn\",\"man\",\"manche\",\"manchem\",\"manchen\",\"mancher\",\"manches\",\"mann\",\"mehr\",\"mein\",\"meine\",\"meinem\",\"meinen\",\"meiner\",\"meines\",\"mensch\",\"menschen\",\"mich\",\"mir\",\"mit\",\"mittel\",\"mochte\",\"möchte\",\"mochten\",\"mögen\",\"möglich\",\"mögt\",\"morgen\",\"muss\",\"muß\",\"müssen\",\"musst\",\"müsst\",\"musste\",\"mussten\",\"n\",\"na\",\"nach\",\"nachdem\",\"nahm\",\"natürlich\",\"neben\",\"nein\",\"neue\",\"neuen\",\"neun\",\"neunte\",\"neunten\",\"neunter\",\"neuntes\",\"nicht\",\"nichts\",\"nie\",\"niemand\",\"niemandem\",\"niemanden\",\"noch\",\"nun\",\"nur\",\"o\",\"ob\",\"oben\",\"oder\",\"offen\",\"oft\",\"ohne\",\"Ordnung\",\"p\",\"q\",\"r\",\"recht\",\"rechte\",\"rechten\",\"rechter\",\"rechtes\",\"richtig\",\"rund\",\"s\",\"sa\",\"sache\",\"sagt\",\"sagte\",\"sah\",\"satt\",\"schlecht\",\"Schluss\",\"schon\",\"sechs\",\"sechste\",\"sechsten\",\"sechster\",\"sechstes\",\"sehr\",\"sei\",\"seid\",\"seien\",\"sein\",\"seine\",\"seinem\",\"seinen\",\"seiner\",\"seines\",\"seit\",\"seitdem\",\"selbst\",\"sich\",\"sie\",\"sieben\",\"siebente\",\"siebenten\",\"siebenter\",\"siebentes\",\"sind\",\"so\",\"solang\",\"solche\",\"solchem\",\"solchen\",\"solcher\",\"solches\",\"soll\",\"sollen\",\"sollte\",\"sollten\",\"sondern\",\"sonst\",\"sowie\",\"später\",\"statt\",\"t\",\"tag\",\"tage\",\"tagen\",\"tat\",\"teil\",\"tel\",\"tritt\",\"trotzdem\",\"tun\",\"u\",\"über\",\"überhaupt\",\"übrigens\",\"uhr\",\"um\",\"und\",\"und?\",\"uns\",\"unser\",\"unsere\",\"unserer\",\"unter\",\"v\",\"vergangenen\",\"viel\",\"viele\",\"vielem\",\"vielen\",\"vielleicht\",\"vier\",\"vierte\",\"vierten\",\"vierter\",\"viertes\",\"vom\",\"von\",\"vor\",\"w\",\"wahr?\",\"während\",\"währenddem\",\"währenddessen\",\"wann\",\"war\",\"wäre\",\"waren\",\"wart\",\"warum\",\"was\",\"wegen\",\"weil\",\"weit\",\"weiter\",\"weitere\",\"weiteren\",\"weiteres\",\"welche\",\"welchem\",\"welchen\",\"welcher\",\"welches\",\"wem\",\"wen\",\"wenig\",\"wenige\",\"weniger\",\"weniges\",\"wenigstens\",\"wenn\",\"wer\",\"werde\",\"werden\",\"werdet\",\"wessen\",\"wie\",\"wieder\",\"will\",\"willst\",\"wir\",\"wird\",\"wirklich\",\"wirst\",\"wo\",\"wohl\",\"wollen\",\"wollt\",\"wollte\",\"wollten\",\"worden\",\"wurde\",\"würde\",\"wurden\",\"würden\",\"x\",\"y\",\"z\",\"z.b\",\"zehn\",\"zehnte\",\"zehnten\",\"zehnter\",\"zehntes\",\"zeit\",\"zu\",\"zuerst\",\"zugleich\",\"zum\",\"zunächst\",\"zur\",\"zurück\",\"zusammen\",\"zwanzig\",\"zwar\",\"zwei\",\"zweite\",\"zweiten\",\"zweiter\",\"zweites\",\"zwischen\",\"zwölf\",\"euer\",\"eure\",\"hattest\",\"hattet\",\"jedes\",\"mußt\",\"müßt\",\"sollst\",\"sollt\",\"soweit\",\"weshalb\",\"wieso\",\"woher\",\"wohin\"])\n",
    "def remove_stop_words(text):\n",
    "    return [word for word in text if word not in stop_words]\n",
    "\n",
    "stemmer = PorterStemmer()\n",
    "def stem_words(text):\n",
    "    try:\n",
    "        text = [stemmer.stem(word) for word in text]\n",
    "        text = [word for word in text if len(word) > 1] \n",
    "    except IndexError: \n",
    "        pass\n",
    "    return text\n",
    "\n",
    "def apply_all(text):\n",
    "    return stem_words(remove_stop_words(initial_clean(text)))"
   ]
  },
  {
   "cell_type": "code",
   "execution_count": 9,
   "metadata": {},
   "outputs": [],
   "source": [
    "\n",
    "df['tokenized'] = df['text'].apply(apply_all) \n"
   ]
  },
  {
   "cell_type": "markdown",
   "metadata": {},
   "source": [
    "## Optional: Reducing the data to nouns, adjectives, verbs, or adverbs  <a class=\"anchor\" id=\"6-bullet\"></a>\n",
    "\n",
    "This function be can used or be omitted. Sometimes, it makes sense to reduce your data to parts of speech (pos). This depents very much on the research question. To see which method works best, it makes sense to run this program once with and once without pos-tagging. The package Spacy is used for the pos tagging. Spacy can be used in many differnt languages. To use Spazy in your preferred language, you have to install the right model. This model can be found here: https://spacy.io/usage/models"
   ]
  },
  {
   "cell_type": "code",
   "execution_count": 10,
   "metadata": {},
   "outputs": [],
   "source": [
    "def lemmatization(texts, allowed_postags=['NOUN', 'ADJ', 'VERB', 'ADV']):\n",
    "    texts_out = []\n",
    "    for sent in texts:\n",
    "        doc = nlp(\" \".join(sent)) \n",
    "        texts_out.append([token.lemma_ for token in doc if token.pos_ in allowed_postags])\n",
    "    return texts_out"
   ]
  },
  {
   "cell_type": "code",
   "execution_count": 11,
   "metadata": {},
   "outputs": [],
   "source": [
    "#nlp = spacy.load('de_core_news_sm', disable=['parser', 'ner'])\n",
    "\n",
    "#df['tokenized'] = lemmatization(df['tokenized'], allowed_postags=['NOUN', 'ADJ'])"
   ]
  },
  {
   "cell_type": "markdown",
   "metadata": {},
   "source": [
    "## Having a look at the data <a class=\"anchor\" id=\"7-bullet\"></a>\n"
   ]
  },
  {
   "cell_type": "code",
   "execution_count": 12,
   "metadata": {},
   "outputs": [
    {
     "data": {
      "text/html": [
       "<div>\n",
       "<style scoped>\n",
       "    .dataframe tbody tr th:only-of-type {\n",
       "        vertical-align: middle;\n",
       "    }\n",
       "\n",
       "    .dataframe tbody tr th {\n",
       "        vertical-align: top;\n",
       "    }\n",
       "\n",
       "    .dataframe thead th {\n",
       "        text-align: right;\n",
       "    }\n",
       "</style>\n",
       "<table border=\"1\" class=\"dataframe\">\n",
       "  <thead>\n",
       "    <tr style=\"text-align: right;\">\n",
       "      <th></th>\n",
       "      <th>relevancy</th>\n",
       "      <th>text</th>\n",
       "      <th>tokenized</th>\n",
       "    </tr>\n",
       "  </thead>\n",
       "  <tbody>\n",
       "    <tr>\n",
       "      <td>0</td>\n",
       "      <td>0</td>\n",
       "      <td>Endesgefertigter litt seit längerer Zeit an Ma...</td>\n",
       "      <td>[endesgefertigt, litt, längerer, magenbeschwer...</td>\n",
       "    </tr>\n",
       "    <tr>\n",
       "      <td>1</td>\n",
       "      <td>0</td>\n",
       "      <td>„ „Adepesertister lt seit längerer Seit an Mag...</td>\n",
       "      <td>[adepesertist, lt, längerer, magenbeschwerden,...</td>\n",
       "    </tr>\n",
       "    <tr>\n",
       "      <td>2</td>\n",
       "      <td>0</td>\n",
       "      <td>Endesgefertigter litt seit längerer Zeit an Ma...</td>\n",
       "      <td>[endesgefertigt, litt, längerer, magenbeschwer...</td>\n",
       "    </tr>\n",
       "    <tr>\n",
       "      <td>3</td>\n",
       "      <td>3</td>\n",
       "      <td>Der Leiter der Zweigstelle Wien des Rückwander...</td>\n",
       "      <td>[leiter, zweigstel, wien, rückwandereramt, pg,...</td>\n",
       "    </tr>\n",
       "    <tr>\n",
       "      <td>4</td>\n",
       "      <td>0</td>\n",
       "      <td>„Ober wos denkst denn, so long ausbleibn!“\\nFü...</td>\n",
       "      <td>[ober, wo, denkst, long, ausbleibn, getadelten...</td>\n",
       "    </tr>\n",
       "    <tr>\n",
       "      <td>...</td>\n",
       "      <td>...</td>\n",
       "      <td>...</td>\n",
       "      <td>...</td>\n",
       "    </tr>\n",
       "    <tr>\n",
       "      <td>214</td>\n",
       "      <td>3</td>\n",
       "      <td>Davon sind allerdings die Rückwanderer abzuzie...</td>\n",
       "      <td>[rückwander, abzuziehen, zahl, belief, 190809,...</td>\n",
       "    </tr>\n",
       "    <tr>\n",
       "      <td>215</td>\n",
       "      <td>3</td>\n",
       "      <td>* Beweismaterial gegen die Kriegsgefangenen.\\n...</td>\n",
       "      <td>[beweismateri, kriegsgefangenen, kriegsminist,...</td>\n",
       "    </tr>\n",
       "    <tr>\n",
       "      <td>216</td>\n",
       "      <td>3</td>\n",
       "      <td>Der Austausch der Kriegsgefangenen wird\\nim An...</td>\n",
       "      <td>[austausch, kriegsgefangenen, anschluß, peters...</td>\n",
       "    </tr>\n",
       "    <tr>\n",
       "      <td>217</td>\n",
       "      <td>3</td>\n",
       "      <td>* Das amerikanische Echo. Aus New=York wird\\nu...</td>\n",
       "      <td>[amerikanisch, echo, newyork, geschrieben, mas...</td>\n",
       "    </tr>\n",
       "    <tr>\n",
       "      <td>218</td>\n",
       "      <td>3</td>\n",
       "      <td>Der Tag von Adua, die fruchtlosen Kämpfe in\\nT...</td>\n",
       "      <td>[adua, fruchtlosen, kämpfe, tripoli, urteil, w...</td>\n",
       "    </tr>\n",
       "  </tbody>\n",
       "</table>\n",
       "<p>219 rows × 3 columns</p>\n",
       "</div>"
      ],
      "text/plain": [
       "     relevancy                                               text  \\\n",
       "0            0  Endesgefertigter litt seit längerer Zeit an Ma...   \n",
       "1            0  „ „Adepesertister lt seit längerer Seit an Mag...   \n",
       "2            0  Endesgefertigter litt seit längerer Zeit an Ma...   \n",
       "3            3  Der Leiter der Zweigstelle Wien des Rückwander...   \n",
       "4            0  „Ober wos denkst denn, so long ausbleibn!“\\nFü...   \n",
       "..         ...                                                ...   \n",
       "214          3  Davon sind allerdings die Rückwanderer abzuzie...   \n",
       "215          3  * Beweismaterial gegen die Kriegsgefangenen.\\n...   \n",
       "216          3  Der Austausch der Kriegsgefangenen wird\\nim An...   \n",
       "217          3  * Das amerikanische Echo. Aus New=York wird\\nu...   \n",
       "218          3  Der Tag von Adua, die fruchtlosen Kämpfe in\\nT...   \n",
       "\n",
       "                                             tokenized  \n",
       "0    [endesgefertigt, litt, längerer, magenbeschwer...  \n",
       "1    [adepesertist, lt, längerer, magenbeschwerden,...  \n",
       "2    [endesgefertigt, litt, längerer, magenbeschwer...  \n",
       "3    [leiter, zweigstel, wien, rückwandereramt, pg,...  \n",
       "4    [ober, wo, denkst, long, ausbleibn, getadelten...  \n",
       "..                                                 ...  \n",
       "214  [rückwander, abzuziehen, zahl, belief, 190809,...  \n",
       "215  [beweismateri, kriegsgefangenen, kriegsminist,...  \n",
       "216  [austausch, kriegsgefangenen, anschluß, peters...  \n",
       "217  [amerikanisch, echo, newyork, geschrieben, mas...  \n",
       "218  [adua, fruchtlosen, kämpfe, tripoli, urteil, w...  \n",
       "\n",
       "[219 rows x 3 columns]"
      ]
     },
     "execution_count": 12,
     "metadata": {},
     "output_type": "execute_result"
    }
   ],
   "source": [
    "df"
   ]
  },
  {
   "cell_type": "code",
   "execution_count": 13,
   "metadata": {},
   "outputs": [
    {
     "data": {
      "text/plain": [
       "'The number of unique words is 8632'"
      ]
     },
     "execution_count": 13,
     "metadata": {},
     "output_type": "execute_result"
    }
   ],
   "source": [
    "# first get a list of all words\n",
    "all_words = [word for item in list(df['tokenized']) for word in item]\n",
    "# use nltk fdist to get a frequency distribution of all words\n",
    "fdist = FreqDist(all_words)\n",
    "f\"The number of unique words is {len(fdist)}\""
   ]
  },
  {
   "cell_type": "code",
   "execution_count": 14,
   "metadata": {},
   "outputs": [
    {
     "name": "stdout",
     "output_type": "stream",
     "text": [
      "length of list: 219\n",
      "average document length: 77.10502283105023\n",
      "minimum document length: 12\n",
      "maximum document length: 296\n"
     ]
    }
   ],
   "source": [
    "# document length\n",
    "df['doc_len'] = df['tokenized'].apply(lambda x: len(x))\n",
    "doc_lengths = list(df['doc_len'])\n",
    "df.drop(labels='doc_len', axis=1, inplace=True)\n",
    "\n",
    "print(f\"length of list: {len(doc_lengths)}\")\n",
    "print(f\"average document length: {np.average(doc_lengths)}\")\n",
    "print(f\"minimum document length: {min(doc_lengths)}\")\n",
    "print(f\"maximum document length: {max(doc_lengths)}\")"
   ]
  },
  {
   "cell_type": "markdown",
   "metadata": {},
   "source": [
    "## Removing articles that are too short <a class=\"anchor\" id=\"8-bullet\"></a>\n",
    "\n",
    "To optimize the topic model results, it can make sence to avoid articles with less then 30 tokens after cleaning"
   ]
  },
  {
   "cell_type": "code",
   "execution_count": 15,
   "metadata": {},
   "outputs": [
    {
     "name": "stdout",
     "output_type": "stream",
     "text": [
      "After cleaning and excluding short aticles, the dataframe now has: 203 articles\n"
     ]
    }
   ],
   "source": [
    "df = df[df['tokenized'].map(len) >= 30]\n",
    "# make sure all tokenized items are lists\n",
    "df = df[df['tokenized'].map(type) == list]\n",
    "df.reset_index(drop=True,inplace=True)\n",
    "print(\"After cleaning and excluding short aticles, the dataframe now has:\", len(df), \"articles\")"
   ]
  },
  {
   "cell_type": "code",
   "execution_count": 16,
   "metadata": {},
   "outputs": [
    {
     "data": {
      "text/html": [
       "<div>\n",
       "<style scoped>\n",
       "    .dataframe tbody tr th:only-of-type {\n",
       "        vertical-align: middle;\n",
       "    }\n",
       "\n",
       "    .dataframe tbody tr th {\n",
       "        vertical-align: top;\n",
       "    }\n",
       "\n",
       "    .dataframe thead th {\n",
       "        text-align: right;\n",
       "    }\n",
       "</style>\n",
       "<table border=\"1\" class=\"dataframe\">\n",
       "  <thead>\n",
       "    <tr style=\"text-align: right;\">\n",
       "      <th></th>\n",
       "      <th>relevancy</th>\n",
       "      <th>text</th>\n",
       "      <th>tokenized</th>\n",
       "    </tr>\n",
       "  </thead>\n",
       "  <tbody>\n",
       "    <tr>\n",
       "      <td>0</td>\n",
       "      <td>0</td>\n",
       "      <td>Endesgefertigter litt seit längerer Zeit an Ma...</td>\n",
       "      <td>[endesgefertigt, litt, längerer, magenbeschwer...</td>\n",
       "    </tr>\n",
       "    <tr>\n",
       "      <td>1</td>\n",
       "      <td>0</td>\n",
       "      <td>„ „Adepesertister lt seit längerer Seit an Mag...</td>\n",
       "      <td>[adepesertist, lt, längerer, magenbeschwerden,...</td>\n",
       "    </tr>\n",
       "    <tr>\n",
       "      <td>2</td>\n",
       "      <td>0</td>\n",
       "      <td>Endesgefertigter litt seit längerer Zeit an Ma...</td>\n",
       "      <td>[endesgefertigt, litt, längerer, magenbeschwer...</td>\n",
       "    </tr>\n",
       "    <tr>\n",
       "      <td>3</td>\n",
       "      <td>3</td>\n",
       "      <td>Der Leiter der Zweigstelle Wien des Rückwander...</td>\n",
       "      <td>[leiter, zweigstel, wien, rückwandereramt, pg,...</td>\n",
       "    </tr>\n",
       "    <tr>\n",
       "      <td>4</td>\n",
       "      <td>0</td>\n",
       "      <td>„Ober wos denkst denn, so long ausbleibn!“\\nFü...</td>\n",
       "      <td>[ober, wo, denkst, long, ausbleibn, getadelten...</td>\n",
       "    </tr>\n",
       "  </tbody>\n",
       "</table>\n",
       "</div>"
      ],
      "text/plain": [
       "   relevancy                                               text  \\\n",
       "0          0  Endesgefertigter litt seit längerer Zeit an Ma...   \n",
       "1          0  „ „Adepesertister lt seit längerer Seit an Mag...   \n",
       "2          0  Endesgefertigter litt seit längerer Zeit an Ma...   \n",
       "3          3  Der Leiter der Zweigstelle Wien des Rückwander...   \n",
       "4          0  „Ober wos denkst denn, so long ausbleibn!“\\nFü...   \n",
       "\n",
       "                                           tokenized  \n",
       "0  [endesgefertigt, litt, längerer, magenbeschwer...  \n",
       "1  [adepesertist, lt, längerer, magenbeschwerden,...  \n",
       "2  [endesgefertigt, litt, längerer, magenbeschwer...  \n",
       "3  [leiter, zweigstel, wien, rückwandereramt, pg,...  \n",
       "4  [ober, wo, denkst, long, ausbleibn, getadelten...  "
      ]
     },
     "execution_count": 16,
     "metadata": {},
     "output_type": "execute_result"
    }
   ],
   "source": [
    "df.head()"
   ]
  },
  {
   "cell_type": "markdown",
   "metadata": {},
   "source": [
    "## Using the dataset to create a training and test corpus <a class=\"anchor\" id=\"9-bullet\"></a>\n",
    "\n",
    "Before the method can be used on a big collection, the manual annotated dataset is being used to train the models and to find relevant and non-relevant articles. This helps to control the output and to adapt the code in order to get the best results for the collection. "
   ]
  },
  {
   "cell_type": "code",
   "execution_count": 17,
   "metadata": {},
   "outputs": [],
   "source": [
    "# create a mask of binary values\n",
    "msk = np.random.rand(len(df)) < 0.599"
   ]
  },
  {
   "cell_type": "code",
   "execution_count": 18,
   "metadata": {},
   "outputs": [],
   "source": [
    "train_df = df[msk]\n",
    "train_df.reset_index(drop=True,inplace=True)\n",
    "\n",
    "test_df = df[~msk]\n",
    "test_df.reset_index(drop=True,inplace=True)"
   ]
  },
  {
   "cell_type": "code",
   "execution_count": 19,
   "metadata": {},
   "outputs": [
    {
     "name": "stdout",
     "output_type": "stream",
     "text": [
      "203 119 84\n"
     ]
    }
   ],
   "source": [
    "print(len(df),len(train_df),len(test_df))"
   ]
  },
  {
   "cell_type": "markdown",
   "metadata": {},
   "source": [
    "## Create topic models using your training corpus <a class=\"anchor\" id=\"10-bullet\"></a>\n",
    "\n",
    "The function \"train_lda\" trains the lda model. The parameters like number of topics or chunksize can be adapted. To distinguish between relevant and non-relevant articles, a high number of topics is best suited. Of course, this can change from research question to research question, and it makes sense to train the models with a changing number of topics to find out which amount works best for the own collection.\n"
   ]
  },
  {
   "cell_type": "code",
   "execution_count": 20,
   "metadata": {},
   "outputs": [],
   "source": [
    "def train_lda(data):\n",
    "    num_topics = 250\n",
    "    chunksize = 4000\n",
    "    dictionary = corpora.Dictionary(data['tokenized'])\n",
    "    corpus = [dictionary.doc2bow(doc) for doc in data['tokenized']]\n",
    "    t1 = time.time()\n",
    "    # low alpha means each document is only represented by a small number of topics, and vice versa\n",
    "    # low beta means each topic is only represented by a small number of words, and vice versa\n",
    "    lda = LdaModel(corpus=corpus, num_topics=num_topics, id2word=dictionary,\n",
    "                   alpha=0.2e-2, eta=0.5e-2, chunksize=chunksize, minimum_probability=0.0, passes=50, iterations=200)\n",
    "    t2 = time.time()\n",
    "    print(\"Time to train LDA model on \", len(train_df), \"articles: \", (t2-t1)/60, \"min\")\n",
    "    return dictionary,corpus,lda"
   ]
  },
  {
   "cell_type": "code",
   "execution_count": 21,
   "metadata": {},
   "outputs": [
    {
     "name": "stdout",
     "output_type": "stream",
     "text": [
      "Time to train LDA model on  119 articles:  1.8475894649823508 min\n"
     ]
    }
   ],
   "source": [
    "dictionary,corpus,lda = train_lda(train_df)"
   ]
  },
  {
   "cell_type": "markdown",
   "metadata": {},
   "source": [
    "Inspecting the outcome of the topics."
   ]
  },
  {
   "cell_type": "code",
   "execution_count": 22,
   "metadata": {},
   "outputs": [
    {
     "data": {
      "text/plain": [
       "[('tänzer', 0.0001753156),\n",
       " ('servirt', 0.0001753156),\n",
       " ('sattelt', 0.0001753156),\n",
       " ('baron', 0.0001753156),\n",
       " ('rast', 0.0001753156),\n",
       " ('pierd', 0.0001753156),\n",
       " ('schein', 0.0001753156),\n",
       " ('reitersotni', 0.0001753156),\n",
       " ('auflauern', 0.0001753156),\n",
       " ('ungezwungen', 0.0001753156),\n",
       " ('vergnügen', 0.0001753156),\n",
       " ('verkehr', 0.0001753156),\n",
       " ('weisen', 0.0001753156),\n",
       " ('werst', 0.0001753156),\n",
       " ('woloczysk', 0.0001753156),\n",
       " ('affair', 0.0001753156),\n",
       " ('allabendlich', 0.0001753156),\n",
       " ('traten', 0.0001753156),\n",
       " ('sängern', 0.0001753156),\n",
       " ('sänger', 0.0001753156)]"
      ]
     },
     "execution_count": 22,
     "metadata": {},
     "output_type": "execute_result"
    }
   ],
   "source": [
    "\n",
    "\n",
    "lda.show_topic(topicid=0, topn=20)\n",
    "\n"
   ]
  },
  {
   "cell_type": "markdown",
   "metadata": {},
   "source": [
    "## Finding the dominant topic for each article <a class=\"anchor\" id=\"11-bullet\"></a>\n",
    "\n",
    "This function will find the most dominant topic for each article in the training corpus. The manual annotated relevance label of each article is includet in the graph. This makes it possible to visualize relevant and non-relevant articles together with their dominant topics. This visualization helps to see how effective the models were trained. The fewer articles share the same dominant topic, the better the results: \n",
    "\n"
   ]
  },
  {
   "cell_type": "code",
   "execution_count": 23,
   "metadata": {},
   "outputs": [
    {
     "data": {
      "text/html": [
       "<div>\n",
       "<style scoped>\n",
       "    .dataframe tbody tr th:only-of-type {\n",
       "        vertical-align: middle;\n",
       "    }\n",
       "\n",
       "    .dataframe tbody tr th {\n",
       "        vertical-align: top;\n",
       "    }\n",
       "\n",
       "    .dataframe thead th {\n",
       "        text-align: right;\n",
       "    }\n",
       "</style>\n",
       "<table border=\"1\" class=\"dataframe\">\n",
       "  <thead>\n",
       "    <tr style=\"text-align: right;\">\n",
       "      <th></th>\n",
       "      <th>Document_No</th>\n",
       "      <th>Dominant_Topic</th>\n",
       "      <th>Topic_Perc_Contrib</th>\n",
       "      <th>Keywords</th>\n",
       "      <th>Relevancy</th>\n",
       "    </tr>\n",
       "  </thead>\n",
       "  <tbody>\n",
       "    <tr>\n",
       "      <td>0</td>\n",
       "      <td>0</td>\n",
       "      <td>101.0</td>\n",
       "      <td>0.9922</td>\n",
       "      <td>edw, herrn, voll, apothek, dr, mehrer, pearces...</td>\n",
       "      <td>0</td>\n",
       "    </tr>\n",
       "    <tr>\n",
       "      <td>1</td>\n",
       "      <td>1</td>\n",
       "      <td>169.0</td>\n",
       "      <td>0.9949</td>\n",
       "      <td>dr, wohlgeboren, magenessenz, edw, herrn, appe...</td>\n",
       "      <td>0</td>\n",
       "    </tr>\n",
       "    <tr>\n",
       "      <td>2</td>\n",
       "      <td>2</td>\n",
       "      <td>118.0</td>\n",
       "      <td>0.9860</td>\n",
       "      <td>lebhaft, beifal, gefangennahm, gefangenschaft,...</td>\n",
       "      <td>0</td>\n",
       "    </tr>\n",
       "    <tr>\n",
       "      <td>3</td>\n",
       "      <td>3</td>\n",
       "      <td>127.0</td>\n",
       "      <td>0.9983</td>\n",
       "      <td>dö, wo, göd, ober, holt, hot, mutter, mohrenkö...</td>\n",
       "      <td>3</td>\n",
       "    </tr>\n",
       "    <tr>\n",
       "      <td>4</td>\n",
       "      <td>4</td>\n",
       "      <td>188.0</td>\n",
       "      <td>0.9937</td>\n",
       "      <td>millionen, lire, schatzminist, finanziellen, w...</td>\n",
       "      <td>0</td>\n",
       "    </tr>\n",
       "  </tbody>\n",
       "</table>\n",
       "</div>"
      ],
      "text/plain": [
       "   Document_No  Dominant_Topic  Topic_Perc_Contrib  \\\n",
       "0            0           101.0              0.9922   \n",
       "1            1           169.0              0.9949   \n",
       "2            2           118.0              0.9860   \n",
       "3            3           127.0              0.9983   \n",
       "4            4           188.0              0.9937   \n",
       "\n",
       "                                            Keywords  Relevancy  \n",
       "0  edw, herrn, voll, apothek, dr, mehrer, pearces...          0  \n",
       "1  dr, wohlgeboren, magenessenz, edw, herrn, appe...          0  \n",
       "2  lebhaft, beifal, gefangennahm, gefangenschaft,...          0  \n",
       "3  dö, wo, göd, ober, holt, hot, mutter, mohrenkö...          3  \n",
       "4  millionen, lire, schatzminist, finanziellen, w...          0  "
      ]
     },
     "execution_count": 23,
     "metadata": {},
     "output_type": "execute_result"
    }
   ],
   "source": [
    "def format_topics_sentences(ldamodel=None, corpus=corpus, relevancy=df['relevancy']):\n",
    "    # Init output\n",
    "    sent_topics_df = pd.DataFrame()\n",
    "\n",
    "    # Get main topic in each document\n",
    "    for i, row in enumerate(ldamodel[corpus]):\n",
    "        row = sorted(row, key=lambda x: (x[1]), reverse=True)\n",
    "        # Get the Dominant topic, Perc Contribution and Keywords for each document\n",
    "        for j, (topic_num, prop_topic) in enumerate(row):\n",
    "            if j == 0:  # => dominant topic\n",
    "                wp = ldamodel.show_topic(topic_num)\n",
    "                topic_keywords = \", \".join([word for word, prop in wp])\n",
    "                sent_topics_df = sent_topics_df.append(pd.Series([int(topic_num), round(prop_topic,4), topic_keywords]), ignore_index=True)\n",
    "            else:\n",
    "                break\n",
    "    sent_topics_df.columns = ['Dominant_Topic', 'Perc_Contribution', 'Topic_Keywords']\n",
    "\n",
    "    # Add relevancy to the end of the output\n",
    "    contents = pd.Series(relevancy)\n",
    "    \n",
    "    sent_topics_df = pd.concat([sent_topics_df, contents], axis=1)\n",
    "    return(sent_topics_df)\n",
    "\n",
    "\n",
    "df_topic_sents_keywords = format_topics_sentences(ldamodel=lda, corpus=corpus, relevancy=df['relevancy'])\n",
    "\n",
    "# Format\n",
    "df_dominant_topic = df_topic_sents_keywords.reset_index()\n",
    "df_dominant_topic.columns = ['Document_No', 'Dominant_Topic', 'Topic_Perc_Contrib', 'Keywords', 'Relevancy']\n",
    "\n",
    "# Show\n",
    "df_dominant_topic.head(5)"
   ]
  },
  {
   "cell_type": "markdown",
   "metadata": {},
   "source": [
    "Saving the output as csv and creating lists using the numbers of the dominant topic and numbers of the relevancy level"
   ]
  },
  {
   "cell_type": "code",
   "execution_count": 24,
   "metadata": {},
   "outputs": [],
   "source": [
    "df_dominant_topic.to_csv('topic_relevancy.csv')"
   ]
  },
  {
   "cell_type": "code",
   "execution_count": 25,
   "metadata": {},
   "outputs": [],
   "source": [
    "import csv"
   ]
  },
  {
   "cell_type": "code",
   "execution_count": 26,
   "metadata": {},
   "outputs": [],
   "source": [
    "with open('topic_relevancy.csv',  encoding=\"utf8\") as infile:\n",
    "    reader = csv.reader(infile)    \n",
    "    csv_data = list(reader)\n"
   ]
  },
  {
   "cell_type": "code",
   "execution_count": 27,
   "metadata": {},
   "outputs": [],
   "source": [
    "df_dominant_topics= pd.read_csv('topic_relevancy.csv', usecols = ['Dominant_Topic', 'Relevancy'])\n"
   ]
  },
  {
   "cell_type": "code",
   "execution_count": 28,
   "metadata": {},
   "outputs": [],
   "source": [
    "list_topic = []\n",
    "for key in csv_data: \n",
    "    list_topic.append(key[2])\n",
    "topic = list_topic[1:]\n",
    "\n",
    "list_relevancy = []\n",
    "for key in csv_data:\n",
    "    list_relevancy.append(key[5])\n",
    "relevance = list_relevancy[1:]   "
   ]
  },
  {
   "cell_type": "markdown",
   "metadata": {},
   "source": [
    "Creating a network visualization to see how well the dominant topics are separated between relevant (3) and non-relevant (0) articles. This helps to see if the topics are clearly related to the relevant articles or to the non-relevant articles. "
   ]
  },
  {
   "cell_type": "code",
   "execution_count": 29,
   "metadata": {},
   "outputs": [
    {
     "name": "stderr",
     "output_type": "stream",
     "text": [
      "C:\\Users\\c62255\\anaconda3\\lib\\site-packages\\networkx\\drawing\\nx_pylab.py:579: MatplotlibDeprecationWarning: \n",
      "The iterable function was deprecated in Matplotlib 3.1 and will be removed in 3.3. Use np.iterable instead.\n",
      "  if not cb.iterable(width):\n"
     ]
    },
    {
     "data": {
      "image/png": "[encoded data removed]",
      "text/plain": [
       "<Figure size 432x288 with 1 Axes>"
      ]
     },
     "metadata": {},
     "output_type": "display_data"
    }
   ],
   "source": [
    "import pandas as pd\n",
    "import numpy as np\n",
    "import networkx as nx\n",
    "import matplotlib.pyplot as plt\n",
    "\n",
    "# Build a dataframe with 4 connections\n",
    "df = pd.DataFrame({ 'from': relevance, 'to': topic})\n",
    "df\n",
    "\n",
    "# Build your graph\n",
    "G = nx.from_pandas_edgelist(df, 'from', 'to')\n",
    "\n",
    "\n",
    "\n",
    "# Plot it\n",
    "nx.draw(G, with_labels=True)\n",
    "plt.show()"
   ]
  },
  {
   "cell_type": "markdown",
   "metadata": {},
   "source": [
    "To check out the results, the topics one also be inspected one by one. It might help to choose a topic connected to a relevant article (3) and compare it with a topic conntected to a non-relevant article. If the results do not make sense, restart the kurnel and train the models again. "
   ]
  },
  {
   "cell_type": "code",
   "execution_count": 30,
   "metadata": {},
   "outputs": [
    {
     "data": {
      "text/plain": [
       "[('tänzer', 0.0001753156),\n",
       " ('servirt', 0.0001753156),\n",
       " ('sattelt', 0.0001753156),\n",
       " ('baron', 0.0001753156),\n",
       " ('rast', 0.0001753156),\n",
       " ('pierd', 0.0001753156),\n",
       " ('schein', 0.0001753156),\n",
       " ('reitersotni', 0.0001753156),\n",
       " ('auflauern', 0.0001753156),\n",
       " ('ungezwungen', 0.0001753156),\n",
       " ('vergnügen', 0.0001753156),\n",
       " ('verkehr', 0.0001753156),\n",
       " ('weisen', 0.0001753156),\n",
       " ('werst', 0.0001753156),\n",
       " ('woloczysk', 0.0001753156),\n",
       " ('affair', 0.0001753156),\n",
       " ('allabendlich', 0.0001753156),\n",
       " ('traten', 0.0001753156),\n",
       " ('sängern', 0.0001753156),\n",
       " ('sänger', 0.0001753156)]"
      ]
     },
     "execution_count": 30,
     "metadata": {},
     "output_type": "execute_result"
    }
   ],
   "source": [
    "lda.show_topic(topicid=99, topn=20)"
   ]
  },
  {
   "cell_type": "markdown",
   "metadata": {},
   "source": [
    "Insepcting the shared topics and finding out what tokens are often shared between relevant and non-relevant articles (it might help to remove some of these words in order to improve the segmentation) "
   ]
  },
  {
   "cell_type": "code",
   "execution_count": 31,
   "metadata": {},
   "outputs": [
    {
     "name": "stdout",
     "output_type": "stream",
     "text": [
      "['', '166.0', '84.0', '103.0', '65.0', '209.0', '235.0', '207.0', '188.0', '177.0', '9.0', '102.0', '203.0', '136.0', '48.0', '17.0', '85.0', '159.0', '118.0']\n"
     ]
    }
   ],
   "source": [
    "# Inspect the shared topics\n",
    "topic_share = [x for x in set(topic) if topic.count(x) > 1]\n",
    "print(topic_share)"
   ]
  },
  {
   "cell_type": "markdown",
   "metadata": {},
   "source": [
    "## Finding similar articles using the Jensen Shannon function <a class=\"anchor\" id=\"12-bullet\"></a>\n",
    "\n",
    "Now lets see if the articles in the test corpus are relevant or irrelevant to your research question. Therefore, we compare each unseen article in the test corpus with the topic distribution of the articles in the trained corpus. \n",
    "\n",
    "The first function implements a Jensen-Shannon similarity between the input query (an LDA topic distribution for a document)and the entire corpus of topic distributions. It returns an array of length M where M is the number of documents in the corpus. The second function implements the Jensen-Shannon distance above and retruns the top k (in our case 10) indices of the smallest jensen shannon distances. \n",
    "\n",
    "### Scipy version 1.3.1 is needed here"
   ]
  },
  {
   "cell_type": "code",
   "execution_count": 32,
   "metadata": {},
   "outputs": [],
   "source": [
    "def jensen_shannon(query, matrix):\n",
    "    p = query[None,:].T \n",
    "    q = matrix.T \n",
    "    m = 0.5*(p + q)\n",
    "    return np.sqrt(0.5*(entropy(p,m) + entropy(q,m)))"
   ]
  },
  {
   "cell_type": "code",
   "execution_count": 33,
   "metadata": {},
   "outputs": [],
   "source": [
    "def get_most_similar_documents(query,matrix,k=10):\n",
    "    sims = jensen_shannon(query,matrix) \n",
    "    return sims.argsort()[:k] "
   ]
  },
  {
   "cell_type": "markdown",
   "metadata": {},
   "source": [
    "Now every single article in the test corpus is being compared with the articles in the training corpus. Each useen article gets 10 most similar articles from the training corpus. If 60 percent of the automatically found similar articles were manually annotated as relevant, the new article will be marked as relevant. \n",
    "\n"
   ]
  },
  {
   "cell_type": "code",
   "execution_count": 34,
   "metadata": {},
   "outputs": [],
   "source": [
    "#create lists for your output\n",
    "\n",
    "text_relevant = []\n",
    "number_relevant = []\n",
    "text_non_relevant = []\n",
    "number_non_relevant = []\n",
    "\n",
    "#find most similar articles and select between relevant and non-relevant\n",
    "\n",
    "index = 0\n",
    "while index < len(test_df) -1:\n",
    "    index +=1\n",
    "    new_bow = dictionary.doc2bow(test_df.iloc[index,2])\n",
    "    new_doc_distribution = np.array([tup[1] for tup in lda.get_document_topics(bow=new_bow)])\n",
    "    doc_topic_dist = np.stack([np.array([tup[1] for tup in lst]) for lst in lda[corpus]])\n",
    "    doc_topic_dist.shape\n",
    "    most_sim_ids = get_most_similar_documents(new_doc_distribution,doc_topic_dist)\n",
    "    most_similar_df = train_df[train_df.index.isin(most_sim_ids)]\n",
    "    relevant = []\n",
    "    if sum(most_similar_df['relevancy']) > 17: \n",
    "        text_relevant.append(test_df.iloc[index,1])\n",
    "        number_relevant.append(test_df.iloc[index,0])\n",
    "    else:\n",
    "        text_non_relevant.append(test_df.iloc[index,1])\n",
    "        number_non_relevant.append(test_df.iloc[index,0])\n",
    "    pass\n",
    "\n"
   ]
  },
  {
   "cell_type": "code",
   "execution_count": 35,
   "metadata": {
    "scrolled": true
   },
   "outputs": [
    {
     "data": {
      "text/html": [
       "<div>\n",
       "<style scoped>\n",
       "    .dataframe tbody tr th:only-of-type {\n",
       "        vertical-align: middle;\n",
       "    }\n",
       "\n",
       "    .dataframe tbody tr th {\n",
       "        vertical-align: top;\n",
       "    }\n",
       "\n",
       "    .dataframe thead th {\n",
       "        text-align: right;\n",
       "    }\n",
       "</style>\n",
       "<table border=\"1\" class=\"dataframe\">\n",
       "  <thead>\n",
       "    <tr style=\"text-align: right;\">\n",
       "      <th></th>\n",
       "      <th>Relevant_Text</th>\n",
       "      <th>3</th>\n",
       "      <th>Non_Relevant_Text</th>\n",
       "      <th>0</th>\n",
       "    </tr>\n",
       "  </thead>\n",
       "  <tbody>\n",
       "    <tr>\n",
       "      <td>0</td>\n",
       "      <td>In dieser Lage trat zunächst auch durch die im...</td>\n",
       "      <td>3</td>\n",
       "      <td>Nachdem Gauleiter Fritz Wächtler die Meldung d...</td>\n",
       "      <td>0</td>\n",
       "    </tr>\n",
       "    <tr>\n",
       "      <td>1</td>\n",
       "      <td>Ein Knirps unterm Tropenhelm\\n Auf dem Anlegep...</td>\n",
       "      <td>3</td>\n",
       "      <td>Der Stand der Sonne erinnerte Henriette daran,...</td>\n",
       "      <td>0</td>\n",
       "    </tr>\n",
       "    <tr>\n",
       "      <td>2</td>\n",
       "      <td>Was die materialle Versorgung der Heimkehrer\\n...</td>\n",
       "      <td>3</td>\n",
       "      <td>Die „Bremen“ ist ungezählten Amerikanern\\nvon ...</td>\n",
       "      <td>3</td>\n",
       "    </tr>\n",
       "    <tr>\n",
       "      <td>3</td>\n",
       "      <td>Die Abteikung „Reisen und Wandern“ erhielt im ...</td>\n",
       "      <td>3</td>\n",
       "      <td>Vater und dreimal schoß der Sohn. Keine Kugel ...</td>\n",
       "      <td>0</td>\n",
       "    </tr>\n",
       "    <tr>\n",
       "      <td>4</td>\n",
       "      <td>Das ist alles recht schön, aber jedenfalls\\nei...</td>\n",
       "      <td>3</td>\n",
       "      <td>die ebenso spannend ist wie das ihr zugrunde l...</td>\n",
       "      <td>0</td>\n",
       "    </tr>\n",
       "    <tr>\n",
       "      <td>5</td>\n",
       "      <td>Paganini auf. Der Kartenvorverkauf hat bereits...</td>\n",
       "      <td>3</td>\n",
       "      <td>Das Abenteuer eines unreifen Knaben wird in de...</td>\n",
       "      <td>0</td>\n",
       "    </tr>\n",
       "    <tr>\n",
       "      <td>6</td>\n",
       "      <td>ausenden täglich aus Rußland zurückkehren, sin...</td>\n",
       "      <td>3</td>\n",
       "      <td>Es ist merkwürdig, daß dieser unerwünschte Hei...</td>\n",
       "      <td>3</td>\n",
       "    </tr>\n",
       "    <tr>\n",
       "      <td>7</td>\n",
       "      <td>Daß die Versorgung der Heimkehrenden in der\\ne...</td>\n",
       "      <td>3</td>\n",
       "      <td>Bremen, 16. Dez. Bei der Hauptverwaltung des N...</td>\n",
       "      <td>0</td>\n",
       "    </tr>\n",
       "    <tr>\n",
       "      <td>8</td>\n",
       "      <td>Das gesamte deutsche Volk, vorab wir im Gau Ti...</td>\n",
       "      <td>3</td>\n",
       "      <td>höhnung über ihn hereinzubrechen, bei der er B...</td>\n",
       "      <td>0</td>\n",
       "    </tr>\n",
       "    <tr>\n",
       "      <td>9</td>\n",
       "      <td>Der Lask ist begreiflicherweise ganz besonders...</td>\n",
       "      <td>3</td>\n",
       "      <td>Repertoire des Deutschen Volkstheaters. Samsta...</td>\n",
       "      <td>0</td>\n",
       "    </tr>\n",
       "    <tr>\n",
       "      <td>10</td>\n",
       "      <td>Schutzwall-Ehrenzeichen für Gauleiter Bürckel\\...</td>\n",
       "      <td>3</td>\n",
       "      <td>Mönch erinnere, der sich zwar sein Kloster geö...</td>\n",
       "      <td>0</td>\n",
       "    </tr>\n",
       "    <tr>\n",
       "      <td>11</td>\n",
       "      <td>gd. Schwaz. Zum Tode des Ortsgruppenleiters\\nF...</td>\n",
       "      <td>0</td>\n",
       "      <td>Im Mittelpunkt des Interesses und der Erörteru...</td>\n",
       "      <td>0</td>\n",
       "    </tr>\n",
       "    <tr>\n",
       "      <td>12</td>\n",
       "      <td>[Die Bilanz von Monte=Carlo.] Der Mailänder\\nS...</td>\n",
       "      <td>0</td>\n",
       "      <td>[Neue Bücher.] Baumgartner, Handwörterbuch des...</td>\n",
       "      <td>0</td>\n",
       "    </tr>\n",
       "    <tr>\n",
       "      <td>13</td>\n",
       "      <td>Mit dem Ausbruch des Kriegszustandes in Spanie...</td>\n",
       "      <td>3</td>\n",
       "      <td>man sich suchen läßt oder ob man sucht. Die Ar...</td>\n",
       "      <td>0</td>\n",
       "    </tr>\n",
       "    <tr>\n",
       "      <td>14</td>\n",
       "      <td>Meisterwerk und Musterbeispiel ist, sind hier ...</td>\n",
       "      <td>3</td>\n",
       "      <td>Graz, 29. August.\\nMitten in der Nacht schreck...</td>\n",
       "      <td>3</td>\n",
       "    </tr>\n",
       "    <tr>\n",
       "      <td>15</td>\n",
       "      <td>Der Ausbruch des europäischen Konfliktes besch...</td>\n",
       "      <td>3</td>\n",
       "      <td>Manche Forscher nehmen ein Ortsgedächtnis der ...</td>\n",
       "      <td>0</td>\n",
       "    </tr>\n",
       "    <tr>\n",
       "      <td>16</td>\n",
       "      <td>Bosnische Rückwanderer.\\nTriest, 10. Jänner. W...</td>\n",
       "      <td>3</td>\n",
       "      <td>Der Vortragende, der selbst an der Leitung der...</td>\n",
       "      <td>3</td>\n",
       "    </tr>\n",
       "    <tr>\n",
       "      <td>17</td>\n",
       "      <td>Dieser große Krieg, den wir jetzt erleben, er ...</td>\n",
       "      <td>3</td>\n",
       "      <td>Man hat es also hier, wo sich die Aufmerksamke...</td>\n",
       "      <td>0</td>\n",
       "    </tr>\n",
       "    <tr>\n",
       "      <td>18</td>\n",
       "      <td>jahre die Ermächtigung des Völkerbundes erteil...</td>\n",
       "      <td>0</td>\n",
       "      <td>ein, sieben Minuten später kommt das Auto der ...</td>\n",
       "      <td>3</td>\n",
       "    </tr>\n",
       "    <tr>\n",
       "      <td>19</td>\n",
       "      <td>In der holländischen\\nHafenstadt Rotterdam\\nun...</td>\n",
       "      <td>3</td>\n",
       "      <td>London, 5. Dezember\\nDie Rückwanderung des in ...</td>\n",
       "      <td>0</td>\n",
       "    </tr>\n",
       "    <tr>\n",
       "      <td>20</td>\n",
       "      <td>Tausende von Volksgenossen haben in diesem Jah...</td>\n",
       "      <td>3</td>\n",
       "      <td>Rückwanderung europäischer Fluchtgelder\\nNewyo...</td>\n",
       "      <td>0</td>\n",
       "    </tr>\n",
       "    <tr>\n",
       "      <td>21</td>\n",
       "      <td>reichisch=bosnischen Interessentenverband\\nReg...</td>\n",
       "      <td>3</td>\n",
       "      <td>leben das prächtige Herbstbild. Eine Stunde Pr...</td>\n",
       "      <td>0</td>\n",
       "    </tr>\n",
       "    <tr>\n",
       "      <td>22</td>\n",
       "      <td>Noues Gesetz. Wenn Sie jetzt Fi\\nmehr als zwei...</td>\n",
       "      <td>3</td>\n",
       "      <td>neues Leben zu beginnen. Er will von ihr das\\n...</td>\n",
       "      <td>0</td>\n",
       "    </tr>\n",
       "    <tr>\n",
       "      <td>23</td>\n",
       "      <td>In Tirano trafen nun lange Züge italieni\\nsche...</td>\n",
       "      <td>3</td>\n",
       "      <td>Wien, 22. Juni.\\nFinanzminister Dr. Buresch ha...</td>\n",
       "      <td>0</td>\n",
       "    </tr>\n",
       "    <tr>\n",
       "      <td>24</td>\n",
       "      <td>Unter den Klangen des Generalmarsches und dann...</td>\n",
       "      <td>3</td>\n",
       "      <td>Wer mit dem Walde zusammenlebt, wird selber wi...</td>\n",
       "      <td>0</td>\n",
       "    </tr>\n",
       "    <tr>\n",
       "      <td>25</td>\n",
       "      <td>Es folgen dann Bestimmungen über die Verpflegu...</td>\n",
       "      <td>3</td>\n",
       "      <td>(Das Fulpmeser Bauerntheater) bot am\\nvorigen ...</td>\n",
       "      <td>0</td>\n",
       "    </tr>\n",
       "    <tr>\n",
       "      <td>26</td>\n",
       "      <td>Krakau, 17. November. Auf dem hiesigen Bahnhof...</td>\n",
       "      <td>3</td>\n",
       "      <td>Triest, 26. Juli. (Privat.) An Bord des die sy...</td>\n",
       "      <td>0</td>\n",
       "    </tr>\n",
       "    <tr>\n",
       "      <td>27</td>\n",
       "      <td>Beamtenheimstättenwerkes wird nunmehr auch auf...</td>\n",
       "      <td>0</td>\n",
       "      <td>NaN</td>\n",
       "      <td>NaN</td>\n",
       "    </tr>\n",
       "    <tr>\n",
       "      <td>28</td>\n",
       "      <td>Die Auswanderung über Fiume.\\n(Telegramm der „...</td>\n",
       "      <td>3</td>\n",
       "      <td>NaN</td>\n",
       "      <td>NaN</td>\n",
       "    </tr>\n",
       "    <tr>\n",
       "      <td>29</td>\n",
       "      <td>regung hervorgerufen hat. Man hat den Eintritt...</td>\n",
       "      <td>3</td>\n",
       "      <td>NaN</td>\n",
       "      <td>NaN</td>\n",
       "    </tr>\n",
       "    <tr>\n",
       "      <td>30</td>\n",
       "      <td>Wien, 11. Jannar.\\n[Deutsch=ungarische Schiffa...</td>\n",
       "      <td>3</td>\n",
       "      <td>NaN</td>\n",
       "      <td>NaN</td>\n",
       "    </tr>\n",
       "    <tr>\n",
       "      <td>31</td>\n",
       "      <td>Innsbruck, 27. Januar.\\nDie „Innsbrucker Nachr...</td>\n",
       "      <td>3</td>\n",
       "      <td>NaN</td>\n",
       "      <td>NaN</td>\n",
       "    </tr>\n",
       "    <tr>\n",
       "      <td>32</td>\n",
       "      <td>auf das schärfste zurückzuweisen.\\nDer Kriegsm...</td>\n",
       "      <td>3</td>\n",
       "      <td>NaN</td>\n",
       "      <td>NaN</td>\n",
       "    </tr>\n",
       "    <tr>\n",
       "      <td>33</td>\n",
       "      <td>Mit Arsenio Martinez Campos verliert Spanien\\n...</td>\n",
       "      <td>0</td>\n",
       "      <td>NaN</td>\n",
       "      <td>NaN</td>\n",
       "    </tr>\n",
       "    <tr>\n",
       "      <td>34</td>\n",
       "      <td>In wenigen Tagen, am 1. Februar, wird der Veru...</td>\n",
       "      <td>0</td>\n",
       "      <td>NaN</td>\n",
       "      <td>NaN</td>\n",
       "    </tr>\n",
       "    <tr>\n",
       "      <td>35</td>\n",
       "      <td>Gutenstein und gastirt sodann am Lessing=Theat...</td>\n",
       "      <td>0</td>\n",
       "      <td>NaN</td>\n",
       "      <td>NaN</td>\n",
       "    </tr>\n",
       "    <tr>\n",
       "      <td>36</td>\n",
       "      <td>sitzsteuer — wäre den Ländern und den Gemeinde...</td>\n",
       "      <td>3</td>\n",
       "      <td>NaN</td>\n",
       "      <td>NaN</td>\n",
       "    </tr>\n",
       "    <tr>\n",
       "      <td>37</td>\n",
       "      <td>Angaben veröffentlicht, die zeigen, daß die Za...</td>\n",
       "      <td>3</td>\n",
       "      <td>NaN</td>\n",
       "      <td>NaN</td>\n",
       "    </tr>\n",
       "    <tr>\n",
       "      <td>38</td>\n",
       "      <td>Fall zeigt, bei flüchtiger Betrachtung für ech...</td>\n",
       "      <td>3</td>\n",
       "      <td>NaN</td>\n",
       "      <td>NaN</td>\n",
       "    </tr>\n",
       "    <tr>\n",
       "      <td>39</td>\n",
       "      <td>Berlin, 21. Okt. Am Freitagnachmittag traf auf...</td>\n",
       "      <td>3</td>\n",
       "      <td>NaN</td>\n",
       "      <td>NaN</td>\n",
       "    </tr>\n",
       "    <tr>\n",
       "      <td>40</td>\n",
       "      <td>Adrianopel in Sicht! Die Stadt liegt auf beide...</td>\n",
       "      <td>3</td>\n",
       "      <td>NaN</td>\n",
       "      <td>NaN</td>\n",
       "    </tr>\n",
       "    <tr>\n",
       "      <td>41</td>\n",
       "      <td>Personenverkehr zeigte sowohl auf den österrei...</td>\n",
       "      <td>0</td>\n",
       "      <td>NaN</td>\n",
       "      <td>NaN</td>\n",
       "    </tr>\n",
       "    <tr>\n",
       "      <td>42</td>\n",
       "      <td>Handelsbilanz zeigt ein durchschnittliches jäh...</td>\n",
       "      <td>3</td>\n",
       "      <td>NaN</td>\n",
       "      <td>NaN</td>\n",
       "    </tr>\n",
       "    <tr>\n",
       "      <td>43</td>\n",
       "      <td>ein vorbildliches Beispiel einer in jeder Hins...</td>\n",
       "      <td>3</td>\n",
       "      <td>NaN</td>\n",
       "      <td>NaN</td>\n",
       "    </tr>\n",
       "    <tr>\n",
       "      <td>44</td>\n",
       "      <td>für uns: das sind die aus dem Süden vertrieben...</td>\n",
       "      <td>3</td>\n",
       "      <td>NaN</td>\n",
       "      <td>NaN</td>\n",
       "    </tr>\n",
       "    <tr>\n",
       "      <td>45</td>\n",
       "      <td>* Speckknödel. Aus dem Kriegstagebuch eines Ju...</td>\n",
       "      <td>3</td>\n",
       "      <td>NaN</td>\n",
       "      <td>NaN</td>\n",
       "    </tr>\n",
       "    <tr>\n",
       "      <td>46</td>\n",
       "      <td>* Künstlich „verbrannt“. In der Berliner „Nati...</td>\n",
       "      <td>0</td>\n",
       "      <td>NaN</td>\n",
       "      <td>NaN</td>\n",
       "    </tr>\n",
       "    <tr>\n",
       "      <td>47</td>\n",
       "      <td>Die Stellungspflichtigen und Flüchtigen.\\nLand...</td>\n",
       "      <td>3</td>\n",
       "      <td>NaN</td>\n",
       "      <td>NaN</td>\n",
       "    </tr>\n",
       "    <tr>\n",
       "      <td>48</td>\n",
       "      <td>Das zurückflutende Geld.\\nAuf eine Anfrage des...</td>\n",
       "      <td>3</td>\n",
       "      <td>NaN</td>\n",
       "      <td>NaN</td>\n",
       "    </tr>\n",
       "    <tr>\n",
       "      <td>49</td>\n",
       "      <td>Ein Mord infolge der Mobilisierung.\\nZu all de...</td>\n",
       "      <td>3</td>\n",
       "      <td>NaN</td>\n",
       "      <td>NaN</td>\n",
       "    </tr>\n",
       "  </tbody>\n",
       "</table>\n",
       "</div>"
      ],
      "text/plain": [
       "                                        Relevant_Text  3  \\\n",
       "0   In dieser Lage trat zunächst auch durch die im...  3   \n",
       "1   Ein Knirps unterm Tropenhelm\\n Auf dem Anlegep...  3   \n",
       "2   Was die materialle Versorgung der Heimkehrer\\n...  3   \n",
       "3   Die Abteikung „Reisen und Wandern“ erhielt im ...  3   \n",
       "4   Das ist alles recht schön, aber jedenfalls\\nei...  3   \n",
       "5   Paganini auf. Der Kartenvorverkauf hat bereits...  3   \n",
       "6   ausenden täglich aus Rußland zurückkehren, sin...  3   \n",
       "7   Daß die Versorgung der Heimkehrenden in der\\ne...  3   \n",
       "8   Das gesamte deutsche Volk, vorab wir im Gau Ti...  3   \n",
       "9   Der Lask ist begreiflicherweise ganz besonders...  3   \n",
       "10  Schutzwall-Ehrenzeichen für Gauleiter Bürckel\\...  3   \n",
       "11  gd. Schwaz. Zum Tode des Ortsgruppenleiters\\nF...  0   \n",
       "12  [Die Bilanz von Monte=Carlo.] Der Mailänder\\nS...  0   \n",
       "13  Mit dem Ausbruch des Kriegszustandes in Spanie...  3   \n",
       "14  Meisterwerk und Musterbeispiel ist, sind hier ...  3   \n",
       "15  Der Ausbruch des europäischen Konfliktes besch...  3   \n",
       "16  Bosnische Rückwanderer.\\nTriest, 10. Jänner. W...  3   \n",
       "17  Dieser große Krieg, den wir jetzt erleben, er ...  3   \n",
       "18  jahre die Ermächtigung des Völkerbundes erteil...  0   \n",
       "19  In der holländischen\\nHafenstadt Rotterdam\\nun...  3   \n",
       "20  Tausende von Volksgenossen haben in diesem Jah...  3   \n",
       "21  reichisch=bosnischen Interessentenverband\\nReg...  3   \n",
       "22  Noues Gesetz. Wenn Sie jetzt Fi\\nmehr als zwei...  3   \n",
       "23  In Tirano trafen nun lange Züge italieni\\nsche...  3   \n",
       "24  Unter den Klangen des Generalmarsches und dann...  3   \n",
       "25  Es folgen dann Bestimmungen über die Verpflegu...  3   \n",
       "26  Krakau, 17. November. Auf dem hiesigen Bahnhof...  3   \n",
       "27  Beamtenheimstättenwerkes wird nunmehr auch auf...  0   \n",
       "28  Die Auswanderung über Fiume.\\n(Telegramm der „...  3   \n",
       "29  regung hervorgerufen hat. Man hat den Eintritt...  3   \n",
       "30  Wien, 11. Jannar.\\n[Deutsch=ungarische Schiffa...  3   \n",
       "31  Innsbruck, 27. Januar.\\nDie „Innsbrucker Nachr...  3   \n",
       "32  auf das schärfste zurückzuweisen.\\nDer Kriegsm...  3   \n",
       "33  Mit Arsenio Martinez Campos verliert Spanien\\n...  0   \n",
       "34  In wenigen Tagen, am 1. Februar, wird der Veru...  0   \n",
       "35  Gutenstein und gastirt sodann am Lessing=Theat...  0   \n",
       "36  sitzsteuer — wäre den Ländern und den Gemeinde...  3   \n",
       "37  Angaben veröffentlicht, die zeigen, daß die Za...  3   \n",
       "38  Fall zeigt, bei flüchtiger Betrachtung für ech...  3   \n",
       "39  Berlin, 21. Okt. Am Freitagnachmittag traf auf...  3   \n",
       "40  Adrianopel in Sicht! Die Stadt liegt auf beide...  3   \n",
       "41  Personenverkehr zeigte sowohl auf den österrei...  0   \n",
       "42  Handelsbilanz zeigt ein durchschnittliches jäh...  3   \n",
       "43  ein vorbildliches Beispiel einer in jeder Hins...  3   \n",
       "44  für uns: das sind die aus dem Süden vertrieben...  3   \n",
       "45  * Speckknödel. Aus dem Kriegstagebuch eines Ju...  3   \n",
       "46  * Künstlich „verbrannt“. In der Berliner „Nati...  0   \n",
       "47  Die Stellungspflichtigen und Flüchtigen.\\nLand...  3   \n",
       "48  Das zurückflutende Geld.\\nAuf eine Anfrage des...  3   \n",
       "49  Ein Mord infolge der Mobilisierung.\\nZu all de...  3   \n",
       "\n",
       "                                    Non_Relevant_Text    0  \n",
       "0   Nachdem Gauleiter Fritz Wächtler die Meldung d...    0  \n",
       "1   Der Stand der Sonne erinnerte Henriette daran,...    0  \n",
       "2   Die „Bremen“ ist ungezählten Amerikanern\\nvon ...    3  \n",
       "3   Vater und dreimal schoß der Sohn. Keine Kugel ...    0  \n",
       "4   die ebenso spannend ist wie das ihr zugrunde l...    0  \n",
       "5   Das Abenteuer eines unreifen Knaben wird in de...    0  \n",
       "6   Es ist merkwürdig, daß dieser unerwünschte Hei...    3  \n",
       "7   Bremen, 16. Dez. Bei der Hauptverwaltung des N...    0  \n",
       "8   höhnung über ihn hereinzubrechen, bei der er B...    0  \n",
       "9   Repertoire des Deutschen Volkstheaters. Samsta...    0  \n",
       "10  Mönch erinnere, der sich zwar sein Kloster geö...    0  \n",
       "11  Im Mittelpunkt des Interesses und der Erörteru...    0  \n",
       "12  [Neue Bücher.] Baumgartner, Handwörterbuch des...    0  \n",
       "13  man sich suchen läßt oder ob man sucht. Die Ar...    0  \n",
       "14  Graz, 29. August.\\nMitten in der Nacht schreck...    3  \n",
       "15  Manche Forscher nehmen ein Ortsgedächtnis der ...    0  \n",
       "16  Der Vortragende, der selbst an der Leitung der...    3  \n",
       "17  Man hat es also hier, wo sich die Aufmerksamke...    0  \n",
       "18  ein, sieben Minuten später kommt das Auto der ...    3  \n",
       "19  London, 5. Dezember\\nDie Rückwanderung des in ...    0  \n",
       "20  Rückwanderung europäischer Fluchtgelder\\nNewyo...    0  \n",
       "21  leben das prächtige Herbstbild. Eine Stunde Pr...    0  \n",
       "22  neues Leben zu beginnen. Er will von ihr das\\n...    0  \n",
       "23  Wien, 22. Juni.\\nFinanzminister Dr. Buresch ha...    0  \n",
       "24  Wer mit dem Walde zusammenlebt, wird selber wi...    0  \n",
       "25  (Das Fulpmeser Bauerntheater) bot am\\nvorigen ...    0  \n",
       "26  Triest, 26. Juli. (Privat.) An Bord des die sy...    0  \n",
       "27                                                NaN  NaN  \n",
       "28                                                NaN  NaN  \n",
       "29                                                NaN  NaN  \n",
       "30                                                NaN  NaN  \n",
       "31                                                NaN  NaN  \n",
       "32                                                NaN  NaN  \n",
       "33                                                NaN  NaN  \n",
       "34                                                NaN  NaN  \n",
       "35                                                NaN  NaN  \n",
       "36                                                NaN  NaN  \n",
       "37                                                NaN  NaN  \n",
       "38                                                NaN  NaN  \n",
       "39                                                NaN  NaN  \n",
       "40                                                NaN  NaN  \n",
       "41                                                NaN  NaN  \n",
       "42                                                NaN  NaN  \n",
       "43                                                NaN  NaN  \n",
       "44                                                NaN  NaN  \n",
       "45                                                NaN  NaN  \n",
       "46                                                NaN  NaN  \n",
       "47                                                NaN  NaN  \n",
       "48                                                NaN  NaN  \n",
       "49                                                NaN  NaN  "
      ]
     },
     "execution_count": 35,
     "metadata": {},
     "output_type": "execute_result"
    }
   ],
   "source": [
    "#Create a dataframe with the automatically selected relevant and non-relevant articles\n",
    "\n",
    "df_relevant = pd.DataFrame(np.column_stack([text_relevant, number_relevant]), \n",
    "                               columns=['Relevant_Text', 'Real_Relevancy'])\n",
    "\n",
    "df_non_relevant = pd.DataFrame(np.column_stack([text_non_relevant, number_non_relevant]), \n",
    "                               columns=['Unrelevant_Text', 'Real_Revelancy'])\n",
    "\n",
    "\n",
    "df_results = pd.concat([df_relevant,df_non_relevant], ignore_index=True, axis=1)\n",
    "df_results.columns=['Relevant_Text', '3','Non_Relevant_Text', '0']\n",
    "df_results.head(50)"
   ]
  },
  {
   "cell_type": "markdown",
   "metadata": {},
   "source": [
    "## Calculating the score of the output <a class=\"anchor\" id=\"13-bullet\"></a>\n",
    "\n",
    "The code has to be adapted until a higher score than 80 percent is reached. Topic models sometimes also need several rounds. If the score is higher than 80 percent, it can be worked with the whole dataset. It is recommended to train the models at least twice. "
   ]
  },
  {
   "cell_type": "code",
   "execution_count": 36,
   "metadata": {},
   "outputs": [
    {
     "data": {
      "text/plain": [
       "'Your score is: 0.8313253012048193'"
      ]
     },
     "execution_count": 36,
     "metadata": {},
     "output_type": "execute_result"
    }
   ],
   "source": [
    "rev_3 = []\n",
    "for key in df_results['3']:\n",
    "    if key == '3':\n",
    "        rev_3.append(key)\n",
    "rev_0 = []\n",
    "for key in df_results['3']:\n",
    "    if key == '0':\n",
    "        rev_0.append(key)\n",
    "non_rev_3 = []\n",
    "for key in df_results['0']:\n",
    "    if key == '3':\n",
    "        non_rev_3.append(key)\n",
    "non_rev_0 = []\n",
    "for key in df_results['0']:\n",
    "    if key == '0':\n",
    "        non_rev_0.append(key)\n",
    "result_right = len(non_rev_0) + len(rev_3)\n",
    "result_wrng = len(non_rev_3) + len(rev_0)\n",
    "all_ = len(non_rev_3) + len(rev_0) + len(non_rev_0) + len(rev_3)\n",
    "score = result_right / all_\n",
    "f\"Your score is: {score}\"\n",
    "\n",
    "\n"
   ]
  },
  {
   "cell_type": "markdown",
   "metadata": {},
   "source": [
    "# Using the whole collection  <a class=\"anchor\" id=\"14-bullet\"></a>\n",
    "\n",
    "Importing the whole collection\n"
   ]
  },
  {
   "cell_type": "code",
   "execution_count": 37,
   "metadata": {},
   "outputs": [],
   "source": [
    "df_all = pd.read_csv('export_remigration_all_04_06_2020_04_31.csv', usecols = ['id','language','date','newspaper_id','iiif_url','text'])"
   ]
  },
  {
   "cell_type": "code",
   "execution_count": 38,
   "metadata": {
    "scrolled": true
   },
   "outputs": [
    {
     "data": {
      "text/html": [
       "<div>\n",
       "<style scoped>\n",
       "    .dataframe tbody tr th:only-of-type {\n",
       "        vertical-align: middle;\n",
       "    }\n",
       "\n",
       "    .dataframe tbody tr th {\n",
       "        vertical-align: top;\n",
       "    }\n",
       "\n",
       "    .dataframe thead th {\n",
       "        text-align: right;\n",
       "    }\n",
       "</style>\n",
       "<table border=\"1\" class=\"dataframe\">\n",
       "  <thead>\n",
       "    <tr style=\"text-align: right;\">\n",
       "      <th></th>\n",
       "      <th>id</th>\n",
       "      <th>language</th>\n",
       "      <th>date</th>\n",
       "      <th>newspaper_id</th>\n",
       "      <th>iiif_url</th>\n",
       "      <th>text</th>\n",
       "    </tr>\n",
       "  </thead>\n",
       "  <tbody>\n",
       "    <tr>\n",
       "      <td>0</td>\n",
       "      <td>neue_freie_presse_nfp19110322_article_5166</td>\n",
       "      <td>de</td>\n",
       "      <td>1911-03-22T00:00:00Z</td>\n",
       "      <td>neue_freie_presse</td>\n",
       "      <td>https://platform.newseye.eu/iiif/neue_freie_pr...</td>\n",
       "      <td>nicht unter 125,X. festarstelt gaden. Die Gele...</td>\n",
       "    </tr>\n",
       "    <tr>\n",
       "      <td>1</td>\n",
       "      <td>neue_freie_presse_nfp18661011_article_70</td>\n",
       "      <td>de</td>\n",
       "      <td>1866-10-11T00:00:00Z</td>\n",
       "      <td>neue_freie_presse</td>\n",
       "      <td>https://platform.newseye.eu/iiif/neue_freie_pr...</td>\n",
       "      <td>Breslau, 9. October. (Die preußisch=ungarische...</td>\n",
       "    </tr>\n",
       "    <tr>\n",
       "      <td>2</td>\n",
       "      <td>neue_freie_presse_nfp19160209_article_125</td>\n",
       "      <td>de</td>\n",
       "      <td>1916-02-09T00:00:00Z</td>\n",
       "      <td>neue_freie_presse</td>\n",
       "      <td>https://platform.newseye.eu/iiif/neue_freie_pr...</td>\n",
       "      <td>Die Ankunft des Ministers Grafen Theodor\\nPefa...</td>\n",
       "    </tr>\n",
       "    <tr>\n",
       "      <td>3</td>\n",
       "      <td>arbeiter_zeitung_aze19120516_article_36</td>\n",
       "      <td>de</td>\n",
       "      <td>1912-05-16T00:00:00Z</td>\n",
       "      <td>arbeiter_zeitung</td>\n",
       "      <td>https://platform.newseye.eu/iiif/arbeiter_zeit...</td>\n",
       "      <td>Wien, 15. Mai.\\nDas Abgeordnetenhaus setzte he...</td>\n",
       "    </tr>\n",
       "    <tr>\n",
       "      <td>4</td>\n",
       "      <td>innsbrucker_nachrichten_ibn19391213_article_248</td>\n",
       "      <td>de</td>\n",
       "      <td>1939-12-13T00:00:00Z</td>\n",
       "      <td>innsbrucker_nachrichten</td>\n",
       "      <td>https://platform.newseye.eu/iiif/innsbrucker_n...</td>\n",
       "      <td>Die Rücksiedlung der Südtiroler und das Gastge...</td>\n",
       "    </tr>\n",
       "  </tbody>\n",
       "</table>\n",
       "</div>"
      ],
      "text/plain": [
       "                                                id language  \\\n",
       "0       neue_freie_presse_nfp19110322_article_5166       de   \n",
       "1         neue_freie_presse_nfp18661011_article_70       de   \n",
       "2        neue_freie_presse_nfp19160209_article_125       de   \n",
       "3          arbeiter_zeitung_aze19120516_article_36       de   \n",
       "4  innsbrucker_nachrichten_ibn19391213_article_248       de   \n",
       "\n",
       "                   date             newspaper_id  \\\n",
       "0  1911-03-22T00:00:00Z        neue_freie_presse   \n",
       "1  1866-10-11T00:00:00Z        neue_freie_presse   \n",
       "2  1916-02-09T00:00:00Z        neue_freie_presse   \n",
       "3  1912-05-16T00:00:00Z         arbeiter_zeitung   \n",
       "4  1939-12-13T00:00:00Z  innsbrucker_nachrichten   \n",
       "\n",
       "                                            iiif_url  \\\n",
       "0  https://platform.newseye.eu/iiif/neue_freie_pr...   \n",
       "1  https://platform.newseye.eu/iiif/neue_freie_pr...   \n",
       "2  https://platform.newseye.eu/iiif/neue_freie_pr...   \n",
       "3  https://platform.newseye.eu/iiif/arbeiter_zeit...   \n",
       "4  https://platform.newseye.eu/iiif/innsbrucker_n...   \n",
       "\n",
       "                                                text  \n",
       "0  nicht unter 125,X. festarstelt gaden. Die Gele...  \n",
       "1  Breslau, 9. October. (Die preußisch=ungarische...  \n",
       "2  Die Ankunft des Ministers Grafen Theodor\\nPefa...  \n",
       "3  Wien, 15. Mai.\\nDas Abgeordnetenhaus setzte he...  \n",
       "4  Die Rücksiedlung der Südtiroler und das Gastge...  "
      ]
     },
     "execution_count": 38,
     "metadata": {},
     "output_type": "execute_result"
    }
   ],
   "source": [
    "df_all = df_all[df_all['text'].map(type) == str]\n",
    "df_all.dropna(axis=0, inplace=True, subset=['text'])\n",
    "# shuffle the data\n",
    "df_all = df_all.sample(frac=1.0)\n",
    "df_all.reset_index(drop=True,inplace=True)\n",
    "df_all.head()"
   ]
  },
  {
   "cell_type": "markdown",
   "metadata": {},
   "source": [
    "## Cleaning (pre-process) the whole collection <a class=\"anchor\" id=\"15-bullet\"></a>\n",
    "\n",
    "Repeating the same steps with the training and test corpus"
   ]
  },
  {
   "cell_type": "code",
   "execution_count": 39,
   "metadata": {},
   "outputs": [],
   "source": [
    "# Functions to clean, tokenize, and lemmatize the data\n",
    "def initial_clean(text):\n",
    "    text = re.sub(r'[^\\w\\s]','',text)\n",
    "    text = text.lower() \n",
    "    text = nltk.word_tokenize(text)\n",
    "    return text\n",
    "\n",
    "stop_words = stopwords.words('german')\n",
    "# add your onw stop words\n",
    "stop_words.extend([\"Heimkehr\", \"Rückkehr\", \"heimkehren\", \"zurückkehren\", \"a\", \"ab\",\"aber\",\"ach\",\"acht\",\"achte\",\"achten\",\"achter\",\"achtes\",\"ag\",\"alle\",\"allein\",\"allem\",\"allen\",\"aller\",\"allerdings\",\"alles\",\"allgemeinen\",\"als\",\"also\",\"am\",\"an\",\"andere\",\"anderen\",\"andern\",\"anders\",\"au\",\"auch\",\"auf\",\"aus\",\"ausser\",\"außer\",\"ausserdem\",\"außerdem\",\"b\",\"bald\",\"bei\",\"beide\",\"beiden\",\"beim\",\"beispiel\",\"bekannt\",\"bereits\",\"besonders\",\"besser\",\"besten\",\"bin\",\"bis\",\"bisher\",\"bist\",\"c\",\"d\",\"da\",\"dabei\",\"dadurch\",\"dafür\",\"dagegen\",\"daher\",\"dahin\",\"dahinter\",\"damals\",\"damit\",\"danach\",\"daneben\",\"dank\",\"dann\",\"daran\",\"darauf\",\"daraus\",\"darf\",\"darfst\",\"darin\",\"darüber\",\"darum\",\"darunter\",\"das\",\"dasein\",\"daselbst\",\"dass\",\"daß\",\"dasselbe\",\"davon\",\"davor\",\"dazu\",\"dazwischen\",\"dein\",\"deine\",\"deinem\",\"deiner\",\"dem\",\"dementsprechend\",\"demgegenüber\",\"demgemäss\",\"demgemäß\",\"demselben\",\"demzufolge\",\"den\",\"denen\",\"denn\",\"denselben\",\"der\",\"deren\",\"derjenige\",\"derjenigen\",\"dermassen\",\"dermaßen\",\"derselbe\",\"derselben\",\"des\",\"deshalb\",\"desselben\",\"dessen\",\"deswegen\",\"d.h\",\"dich\",\"die\",\"diejenige\",\"diejenigen\",\"dies\",\"diese\",\"dieselbe\",\"dieselben\",\"diesem\",\"diesen\",\"dieser\",\"dieses\",\"dir\",\"doch\",\"dort\",\"drei\",\"drin\",\"dritte\",\"dritten\",\"dritter\",\"drittes\",\"du\",\"durch\",\"durchaus\",\"dürfen\",\"dürft\",\"durfte\",\"durften\",\"e\",\"eben\",\"ebenso\",\"ehrlich\",\"ei\",\"ei,\",\"eigen\",\"eigene\",\"eigenen\",\"eigener\",\"eigenes\",\"ein\",\"einander\",\"eine\",\"einem\",\"einen\",\"einer\",\"eines\",\"einige\",\"einigen\",\"einiger\",\"einiges\",\"einmal\",\"eins\",\"elf\",\"en\",\"ende\",\"endlich\",\"entweder\",\"er\",\"Ernst\",\"erst\",\"erste\",\"ersten\",\"erster\",\"erstes\",\"es\",\"etwa\",\"etwas\",\"euch\",\"f\",\"früher\",\"fünf\",\"fünfte\",\"fünften\",\"fünfter\",\"fünftes\",\"für\",\"g\",\"gab\",\"ganz\",\"ganze\",\"ganzen\",\"ganzer\",\"ganzes\",\"gar\",\"gedurft\",\"gegen\",\"gegenüber\",\"gehabt\",\"gehen\",\"geht\",\"gekannt\",\"gekonnt\",\"gemacht\",\"gemocht\",\"gemusst\",\"genug\",\"gerade\",\"gern\",\"gesagt\",\"geschweige\",\"gewesen\",\"gewollt\",\"geworden\",\"gibt\",\"ging\",\"gleich\",\"gott\",\"gross\",\"groß\",\"grosse\",\"große\",\"grossen\",\"großen\",\"grosser\",\"großer\",\"grosses\",\"großes\",\"gut\",\"gute\",\"guter\",\"gutes\",\"h\",\"habe\",\"haben\",\"habt\",\"hast\",\"hat\",\"hatte\",\"hätte\",\"hatten\",\"hätten\",\"heisst\",\"her\",\"heute\",\"hier\",\"hin\",\"hinter\",\"hoch\",\"i\",\"ich\",\"ihm\",\"ihn\",\"ihnen\",\"ihr\",\"ihre\",\"ihrem\",\"ihren\",\"ihrer\",\"ihres\",\"im\",\"immer\",\"in\",\"indem\",\"infolgedessen\",\"ins\",\"irgend\",\"ist\",\"j\",\"ja\",\"jahr\",\"jahre\",\"jahren\",\"je\",\"jede\",\"jedem\",\"jeden\",\"jeder\",\"jedermann\",\"jedermanns\",\"jedoch\",\"jemand\",\"jemandem\",\"jemanden\",\"jene\",\"jenem\",\"jenen\",\"jener\",\"jenes\",\"jetzt\",\"k\",\"kam\",\"kann\",\"kannst\",\"kaum\",\"kein\",\"keine\",\"keinem\",\"keinen\",\"keiner\",\"kleine\",\"kleinen\",\"kleiner\",\"kleines\",\"kommen\",\"kommt\",\"können\",\"könnt\",\"konnte\",\"könnte\",\"konnten\",\"kurz\",\"l\",\"lang\",\"lange\",\"leicht\",\"leide\",\"lieber\",\"los\",\"m\",\"machen\",\"macht\",\"machte\",\"mag\",\"magst\",\"mahn\",\"man\",\"manche\",\"manchem\",\"manchen\",\"mancher\",\"manches\",\"mann\",\"mehr\",\"mein\",\"meine\",\"meinem\",\"meinen\",\"meiner\",\"meines\",\"mensch\",\"menschen\",\"mich\",\"mir\",\"mit\",\"mittel\",\"mochte\",\"möchte\",\"mochten\",\"mögen\",\"möglich\",\"mögt\",\"morgen\",\"muss\",\"muß\",\"müssen\",\"musst\",\"müsst\",\"musste\",\"mussten\",\"n\",\"na\",\"nach\",\"nachdem\",\"nahm\",\"natürlich\",\"neben\",\"nein\",\"neue\",\"neuen\",\"neun\",\"neunte\",\"neunten\",\"neunter\",\"neuntes\",\"nicht\",\"nichts\",\"nie\",\"niemand\",\"niemandem\",\"niemanden\",\"noch\",\"nun\",\"nur\",\"o\",\"ob\",\"oben\",\"oder\",\"offen\",\"oft\",\"ohne\",\"Ordnung\",\"p\",\"q\",\"r\",\"recht\",\"rechte\",\"rechten\",\"rechter\",\"rechtes\",\"richtig\",\"rund\",\"s\",\"sa\",\"sache\",\"sagt\",\"sagte\",\"sah\",\"satt\",\"schlecht\",\"Schluss\",\"schon\",\"sechs\",\"sechste\",\"sechsten\",\"sechster\",\"sechstes\",\"sehr\",\"sei\",\"seid\",\"seien\",\"sein\",\"seine\",\"seinem\",\"seinen\",\"seiner\",\"seines\",\"seit\",\"seitdem\",\"selbst\",\"sich\",\"sie\",\"sieben\",\"siebente\",\"siebenten\",\"siebenter\",\"siebentes\",\"sind\",\"so\",\"solang\",\"solche\",\"solchem\",\"solchen\",\"solcher\",\"solches\",\"soll\",\"sollen\",\"sollte\",\"sollten\",\"sondern\",\"sonst\",\"sowie\",\"später\",\"statt\",\"t\",\"tag\",\"tage\",\"tagen\",\"tat\",\"teil\",\"tel\",\"tritt\",\"trotzdem\",\"tun\",\"u\",\"über\",\"überhaupt\",\"übrigens\",\"uhr\",\"um\",\"und\",\"und?\",\"uns\",\"unser\",\"unsere\",\"unserer\",\"unter\",\"v\",\"vergangenen\",\"viel\",\"viele\",\"vielem\",\"vielen\",\"vielleicht\",\"vier\",\"vierte\",\"vierten\",\"vierter\",\"viertes\",\"vom\",\"von\",\"vor\",\"w\",\"wahr?\",\"während\",\"währenddem\",\"währenddessen\",\"wann\",\"war\",\"wäre\",\"waren\",\"wart\",\"warum\",\"was\",\"wegen\",\"weil\",\"weit\",\"weiter\",\"weitere\",\"weiteren\",\"weiteres\",\"welche\",\"welchem\",\"welchen\",\"welcher\",\"welches\",\"wem\",\"wen\",\"wenig\",\"wenige\",\"weniger\",\"weniges\",\"wenigstens\",\"wenn\",\"wer\",\"werde\",\"werden\",\"werdet\",\"wessen\",\"wie\",\"wieder\",\"will\",\"willst\",\"wir\",\"wird\",\"wirklich\",\"wirst\",\"wo\",\"wohl\",\"wollen\",\"wollt\",\"wollte\",\"wollten\",\"worden\",\"wurde\",\"würde\",\"wurden\",\"würden\",\"x\",\"y\",\"z\",\"z.b\",\"zehn\",\"zehnte\",\"zehnten\",\"zehnter\",\"zehntes\",\"zeit\",\"zu\",\"zuerst\",\"zugleich\",\"zum\",\"zunächst\",\"zur\",\"zurück\",\"zusammen\",\"zwanzig\",\"zwar\",\"zwei\",\"zweite\",\"zweiten\",\"zweiter\",\"zweites\",\"zwischen\",\"zwölf\",\"euer\",\"eure\",\"hattest\",\"hattet\",\"jedes\",\"mußt\",\"müßt\",\"sollst\",\"sollt\",\"soweit\",\"weshalb\",\"wieso\",\"woher\",\"wohin\"])\n",
    "def remove_stop_words(text):\n",
    "    return [word for word in text if word not in stop_words]\n",
    "\n",
    "stemmer = PorterStemmer()\n",
    "def stem_words(text):\n",
    "    try:\n",
    "        text = [stemmer.stem(word) for word in text]\n",
    "        text = [word for word in text if len(word) > 1] # make sure we have no 1 letter words\n",
    "    except IndexError: \n",
    "        pass\n",
    "    return text\n",
    "\n",
    "def apply_all(text):\n",
    "    return stem_words(remove_stop_words(initial_clean(text)))"
   ]
  },
  {
   "cell_type": "code",
   "execution_count": 40,
   "metadata": {},
   "outputs": [],
   "source": [
    "\n",
    "df_all['tokenized'] = df_all['text'].apply(apply_all) \n"
   ]
  },
  {
   "cell_type": "markdown",
   "metadata": {},
   "source": [
    "## Optional: Reducing the data to nouns, adjectives, verbs, or adverbs <a class=\"anchor\" id=\"16-bullet\"></a> \n",
    "\n",
    "This function can used or be omitted. Sometimes, it makes sense to reduce your data to parts of speech (pos). This depents very much on the research question. To see which method works best, it makes sense to run this program once with and once without pos-tagging. We use Spacy for the pos tagging. Spacy can be used in many differnt language. To use Spazy in your preferred language, you have to install the right model. This model can be found here: https://spacy.io/usage/models"
   ]
  },
  {
   "cell_type": "code",
   "execution_count": 41,
   "metadata": {},
   "outputs": [],
   "source": [
    "def lemmatization(texts, allowed_postags=['NOUN', 'ADJ', 'VERB', 'ADV']):\n",
    "    \"\"\"https://spacy.io/api/annotation\"\"\"\n",
    "    texts_out = []\n",
    "    for sent in texts:\n",
    "        doc = nlp(\" \".join(sent)) \n",
    "        texts_out.append([token.lemma_ for token in doc if token.pos_ in allowed_postags])\n",
    "    return texts_out"
   ]
  },
  {
   "cell_type": "code",
   "execution_count": 42,
   "metadata": {},
   "outputs": [],
   "source": [
    "#nlp = spacy.load('de_core_news_sm', disable=['parser', 'ner'])\n",
    "\n",
    "#df_all['tokenized'] = lemmatization(df_all['tokenized'], allowed_postags=['NOUN'])\n",
    "\n"
   ]
  },
  {
   "cell_type": "markdown",
   "metadata": {},
   "source": [
    "### Having a look at the data\n"
   ]
  },
  {
   "cell_type": "code",
   "execution_count": 43,
   "metadata": {},
   "outputs": [
    {
     "data": {
      "text/html": [
       "<div>\n",
       "<style scoped>\n",
       "    .dataframe tbody tr th:only-of-type {\n",
       "        vertical-align: middle;\n",
       "    }\n",
       "\n",
       "    .dataframe tbody tr th {\n",
       "        vertical-align: top;\n",
       "    }\n",
       "\n",
       "    .dataframe thead th {\n",
       "        text-align: right;\n",
       "    }\n",
       "</style>\n",
       "<table border=\"1\" class=\"dataframe\">\n",
       "  <thead>\n",
       "    <tr style=\"text-align: right;\">\n",
       "      <th></th>\n",
       "      <th>id</th>\n",
       "      <th>language</th>\n",
       "      <th>date</th>\n",
       "      <th>newspaper_id</th>\n",
       "      <th>iiif_url</th>\n",
       "      <th>text</th>\n",
       "      <th>tokenized</th>\n",
       "    </tr>\n",
       "  </thead>\n",
       "  <tbody>\n",
       "    <tr>\n",
       "      <td>0</td>\n",
       "      <td>neue_freie_presse_nfp19110322_article_5166</td>\n",
       "      <td>de</td>\n",
       "      <td>1911-03-22T00:00:00Z</td>\n",
       "      <td>neue_freie_presse</td>\n",
       "      <td>https://platform.newseye.eu/iiif/neue_freie_pr...</td>\n",
       "      <td>nicht unter 125,X. festarstelt gaden. Die Gele...</td>\n",
       "      <td>[125x, festarstelt, gaden, gelelschaften, bere...</td>\n",
       "    </tr>\n",
       "    <tr>\n",
       "      <td>1</td>\n",
       "      <td>neue_freie_presse_nfp18661011_article_70</td>\n",
       "      <td>de</td>\n",
       "      <td>1866-10-11T00:00:00Z</td>\n",
       "      <td>neue_freie_presse</td>\n",
       "      <td>https://platform.newseye.eu/iiif/neue_freie_pr...</td>\n",
       "      <td>Breslau, 9. October. (Die preußisch=ungarische...</td>\n",
       "      <td>[breslau, octob, preußischungarisch, legion, s...</td>\n",
       "    </tr>\n",
       "    <tr>\n",
       "      <td>2</td>\n",
       "      <td>neue_freie_presse_nfp19160209_article_125</td>\n",
       "      <td>de</td>\n",
       "      <td>1916-02-09T00:00:00Z</td>\n",
       "      <td>neue_freie_presse</td>\n",
       "      <td>https://platform.newseye.eu/iiif/neue_freie_pr...</td>\n",
       "      <td>Die Ankunft des Ministers Grafen Theodor\\nPefa...</td>\n",
       "      <td>[ankunft, minist, grafen, theodor, pefacsevich...</td>\n",
       "    </tr>\n",
       "    <tr>\n",
       "      <td>3</td>\n",
       "      <td>arbeiter_zeitung_aze19120516_article_36</td>\n",
       "      <td>de</td>\n",
       "      <td>1912-05-16T00:00:00Z</td>\n",
       "      <td>arbeiter_zeitung</td>\n",
       "      <td>https://platform.newseye.eu/iiif/arbeiter_zeit...</td>\n",
       "      <td>Wien, 15. Mai.\\nDas Abgeordnetenhaus setzte he...</td>\n",
       "      <td>[wien, 15, mai, abgeordnetenhau, setzt, debatt...</td>\n",
       "    </tr>\n",
       "    <tr>\n",
       "      <td>4</td>\n",
       "      <td>innsbrucker_nachrichten_ibn19391213_article_248</td>\n",
       "      <td>de</td>\n",
       "      <td>1939-12-13T00:00:00Z</td>\n",
       "      <td>innsbrucker_nachrichten</td>\n",
       "      <td>https://platform.newseye.eu/iiif/innsbrucker_n...</td>\n",
       "      <td>Die Rücksiedlung der Südtiroler und das Gastge...</td>\n",
       "      <td>[rücksiedlung, südtirol, gastgewerb, gastgewer...</td>\n",
       "    </tr>\n",
       "  </tbody>\n",
       "</table>\n",
       "</div>"
      ],
      "text/plain": [
       "                                                id language  \\\n",
       "0       neue_freie_presse_nfp19110322_article_5166       de   \n",
       "1         neue_freie_presse_nfp18661011_article_70       de   \n",
       "2        neue_freie_presse_nfp19160209_article_125       de   \n",
       "3          arbeiter_zeitung_aze19120516_article_36       de   \n",
       "4  innsbrucker_nachrichten_ibn19391213_article_248       de   \n",
       "\n",
       "                   date             newspaper_id  \\\n",
       "0  1911-03-22T00:00:00Z        neue_freie_presse   \n",
       "1  1866-10-11T00:00:00Z        neue_freie_presse   \n",
       "2  1916-02-09T00:00:00Z        neue_freie_presse   \n",
       "3  1912-05-16T00:00:00Z         arbeiter_zeitung   \n",
       "4  1939-12-13T00:00:00Z  innsbrucker_nachrichten   \n",
       "\n",
       "                                            iiif_url  \\\n",
       "0  https://platform.newseye.eu/iiif/neue_freie_pr...   \n",
       "1  https://platform.newseye.eu/iiif/neue_freie_pr...   \n",
       "2  https://platform.newseye.eu/iiif/neue_freie_pr...   \n",
       "3  https://platform.newseye.eu/iiif/arbeiter_zeit...   \n",
       "4  https://platform.newseye.eu/iiif/innsbrucker_n...   \n",
       "\n",
       "                                                text  \\\n",
       "0  nicht unter 125,X. festarstelt gaden. Die Gele...   \n",
       "1  Breslau, 9. October. (Die preußisch=ungarische...   \n",
       "2  Die Ankunft des Ministers Grafen Theodor\\nPefa...   \n",
       "3  Wien, 15. Mai.\\nDas Abgeordnetenhaus setzte he...   \n",
       "4  Die Rücksiedlung der Südtiroler und das Gastge...   \n",
       "\n",
       "                                           tokenized  \n",
       "0  [125x, festarstelt, gaden, gelelschaften, bere...  \n",
       "1  [breslau, octob, preußischungarisch, legion, s...  \n",
       "2  [ankunft, minist, grafen, theodor, pefacsevich...  \n",
       "3  [wien, 15, mai, abgeordnetenhau, setzt, debatt...  \n",
       "4  [rücksiedlung, südtirol, gastgewerb, gastgewer...  "
      ]
     },
     "execution_count": 43,
     "metadata": {},
     "output_type": "execute_result"
    }
   ],
   "source": [
    "df_all.head(5)"
   ]
  },
  {
   "cell_type": "code",
   "execution_count": 44,
   "metadata": {},
   "outputs": [
    {
     "data": {
      "text/plain": [
       "'The number of unique words is 23529'"
      ]
     },
     "execution_count": 44,
     "metadata": {},
     "output_type": "execute_result"
    }
   ],
   "source": [
    "# first get a list of all words\n",
    "all_words = [word for item in list(df_all['tokenized']) for word in item]\n",
    "# use nltk fdist to get a frequency distribution of all words\n",
    "fdist = FreqDist(all_words)\n",
    "f\"The number of unique words is {len(fdist)}\""
   ]
  },
  {
   "cell_type": "code",
   "execution_count": 45,
   "metadata": {},
   "outputs": [
    {
     "name": "stdout",
     "output_type": "stream",
     "text": [
      "length of list: 1154\n",
      "average document length: 57.42894280762565\n",
      "minimum document length: 1\n",
      "maximum document length: 446\n"
     ]
    }
   ],
   "source": [
    "#document length\n",
    "df_all['doc_len'] = df_all['tokenized'].apply(lambda x: len(x))\n",
    "doc_lengths = list(df_all['doc_len'])\n",
    "df_all.drop(labels='doc_len', axis=1, inplace=True)\n",
    "\n",
    "\n",
    "print(f\"length of list: {len(doc_lengths)}\")\n",
    "print(f\"average document length: {np.average(doc_lengths)}\")\n",
    "print(f\"minimum document length: {min(doc_lengths)}\")\n",
    "print(f\"maximum document length: {max(doc_lengths)}\")"
   ]
  },
  {
   "cell_type": "markdown",
   "metadata": {},
   "source": [
    "### Removing articles that are too short \n"
   ]
  },
  {
   "cell_type": "code",
   "execution_count": 46,
   "metadata": {},
   "outputs": [
    {
     "name": "stdout",
     "output_type": "stream",
     "text": [
      "After cleaning and excluding short aticles, the dataframe now has: 738 articles\n"
     ]
    }
   ],
   "source": [
    "df_all = df_all[df_all['tokenized'].map(len) >= 30]\n",
    "df_all = df_all[df_all['tokenized'].map(type) == list]\n",
    "df_all.reset_index(drop=True,inplace=True)\n",
    "print(\"After cleaning and excluding short aticles, the dataframe now has:\", len(df_all), \"articles\")"
   ]
  },
  {
   "cell_type": "code",
   "execution_count": 47,
   "metadata": {
    "scrolled": false
   },
   "outputs": [
    {
     "data": {
      "text/html": [
       "<div>\n",
       "<style scoped>\n",
       "    .dataframe tbody tr th:only-of-type {\n",
       "        vertical-align: middle;\n",
       "    }\n",
       "\n",
       "    .dataframe tbody tr th {\n",
       "        vertical-align: top;\n",
       "    }\n",
       "\n",
       "    .dataframe thead th {\n",
       "        text-align: right;\n",
       "    }\n",
       "</style>\n",
       "<table border=\"1\" class=\"dataframe\">\n",
       "  <thead>\n",
       "    <tr style=\"text-align: right;\">\n",
       "      <th></th>\n",
       "      <th>id</th>\n",
       "      <th>language</th>\n",
       "      <th>date</th>\n",
       "      <th>newspaper_id</th>\n",
       "      <th>iiif_url</th>\n",
       "      <th>text</th>\n",
       "      <th>tokenized</th>\n",
       "    </tr>\n",
       "  </thead>\n",
       "  <tbody>\n",
       "    <tr>\n",
       "      <td>0</td>\n",
       "      <td>neue_freie_presse_nfp18661011_article_70</td>\n",
       "      <td>de</td>\n",
       "      <td>1866-10-11T00:00:00Z</td>\n",
       "      <td>neue_freie_presse</td>\n",
       "      <td>https://platform.newseye.eu/iiif/neue_freie_pr...</td>\n",
       "      <td>Breslau, 9. October. (Die preußisch=ungarische...</td>\n",
       "      <td>[breslau, octob, preußischungarisch, legion, s...</td>\n",
       "    </tr>\n",
       "    <tr>\n",
       "      <td>1</td>\n",
       "      <td>arbeiter_zeitung_aze19120516_article_36</td>\n",
       "      <td>de</td>\n",
       "      <td>1912-05-16T00:00:00Z</td>\n",
       "      <td>arbeiter_zeitung</td>\n",
       "      <td>https://platform.newseye.eu/iiif/arbeiter_zeit...</td>\n",
       "      <td>Wien, 15. Mai.\\nDas Abgeordnetenhaus setzte he...</td>\n",
       "      <td>[wien, 15, mai, abgeordnetenhau, setzt, debatt...</td>\n",
       "    </tr>\n",
       "    <tr>\n",
       "      <td>2</td>\n",
       "      <td>illustrierte_kronen_zeitung_krz19210324_articl...</td>\n",
       "      <td>de</td>\n",
       "      <td>1921-03-24T00:00:00Z</td>\n",
       "      <td>illustrierte_kronen_zeitung</td>\n",
       "      <td>https://platform.newseye.eu/iiif/illustrierte_...</td>\n",
       "      <td>Wienerwaldschuhe eingetroffen sind. Da auch al...</td>\n",
       "      <td>[wienerwaldschuh, eingetroffen, de, sorten, st...</td>\n",
       "    </tr>\n",
       "    <tr>\n",
       "      <td>3</td>\n",
       "      <td>arbeiter_zeitung_aze19331019_article_310</td>\n",
       "      <td>de</td>\n",
       "      <td>1933-10-19T00:00:00Z</td>\n",
       "      <td>arbeiter_zeitung</td>\n",
       "      <td>https://platform.newseye.eu/iiif/arbeiter_zeit...</td>\n",
       "      <td>Interessant ist die Stellungnahme des\\nKongres...</td>\n",
       "      <td>[interess, stellungnahm, kongress, frage, gewe...</td>\n",
       "    </tr>\n",
       "    <tr>\n",
       "      <td>4</td>\n",
       "      <td>neue_freie_presse_nfp18710203_article_773</td>\n",
       "      <td>de</td>\n",
       "      <td>1871-02-03T00:00:00Z</td>\n",
       "      <td>neue_freie_presse</td>\n",
       "      <td>https://platform.newseye.eu/iiif/neue_freie_pr...</td>\n",
       "      <td>Inzwischen ist es Zeit geworden, im Schlosse v...</td>\n",
       "      <td>[inzwischen, schloss, margenc, aufwartung, säc...</td>\n",
       "    </tr>\n",
       "  </tbody>\n",
       "</table>\n",
       "</div>"
      ],
      "text/plain": [
       "                                                  id language  \\\n",
       "0           neue_freie_presse_nfp18661011_article_70       de   \n",
       "1            arbeiter_zeitung_aze19120516_article_36       de   \n",
       "2  illustrierte_kronen_zeitung_krz19210324_articl...       de   \n",
       "3           arbeiter_zeitung_aze19331019_article_310       de   \n",
       "4          neue_freie_presse_nfp18710203_article_773       de   \n",
       "\n",
       "                   date                 newspaper_id  \\\n",
       "0  1866-10-11T00:00:00Z            neue_freie_presse   \n",
       "1  1912-05-16T00:00:00Z             arbeiter_zeitung   \n",
       "2  1921-03-24T00:00:00Z  illustrierte_kronen_zeitung   \n",
       "3  1933-10-19T00:00:00Z             arbeiter_zeitung   \n",
       "4  1871-02-03T00:00:00Z            neue_freie_presse   \n",
       "\n",
       "                                            iiif_url  \\\n",
       "0  https://platform.newseye.eu/iiif/neue_freie_pr...   \n",
       "1  https://platform.newseye.eu/iiif/arbeiter_zeit...   \n",
       "2  https://platform.newseye.eu/iiif/illustrierte_...   \n",
       "3  https://platform.newseye.eu/iiif/arbeiter_zeit...   \n",
       "4  https://platform.newseye.eu/iiif/neue_freie_pr...   \n",
       "\n",
       "                                                text  \\\n",
       "0  Breslau, 9. October. (Die preußisch=ungarische...   \n",
       "1  Wien, 15. Mai.\\nDas Abgeordnetenhaus setzte he...   \n",
       "2  Wienerwaldschuhe eingetroffen sind. Da auch al...   \n",
       "3  Interessant ist die Stellungnahme des\\nKongres...   \n",
       "4  Inzwischen ist es Zeit geworden, im Schlosse v...   \n",
       "\n",
       "                                           tokenized  \n",
       "0  [breslau, octob, preußischungarisch, legion, s...  \n",
       "1  [wien, 15, mai, abgeordnetenhau, setzt, debatt...  \n",
       "2  [wienerwaldschuh, eingetroffen, de, sorten, st...  \n",
       "3  [interess, stellungnahm, kongress, frage, gewe...  \n",
       "4  [inzwischen, schloss, margenc, aufwartung, säc...  "
      ]
     },
     "execution_count": 47,
     "metadata": {},
     "output_type": "execute_result"
    }
   ],
   "source": [
    "df_all.head()"
   ]
  },
  {
   "cell_type": "markdown",
   "metadata": {},
   "source": [
    "## Calculating similarities in comparing articles to your training corpus   <a class=\"anchor\" id=\"17-bullet\"></a>"
   ]
  },
  {
   "cell_type": "code",
   "execution_count": 48,
   "metadata": {},
   "outputs": [],
   "source": [
    "def jensen_shannon(query, matrix):\n",
    "    p = query[None,:].T \n",
    "    q = matrix.T \n",
    "    m = 0.5*(p + q)\n",
    "    return np.sqrt(0.5*(entropy(p,m) + entropy(q,m)))"
   ]
  },
  {
   "cell_type": "code",
   "execution_count": 49,
   "metadata": {},
   "outputs": [],
   "source": [
    "def get_most_similar_documents(query,matrix,k=10):\n",
    "    sims = jensen_shannon(query,matrix) # list of jensen shannon distances\n",
    "    return sims.argsort()[:k] # the top k positional index of the smallest Jensen Shannon distances"
   ]
  },
  {
   "cell_type": "code",
   "execution_count": 50,
   "metadata": {},
   "outputs": [
    {
     "name": "stderr",
     "output_type": "stream",
     "text": [
      "C:\\Users\\c62255\\anaconda3\\lib\\site-packages\\ipykernel_launcher.py:5: RuntimeWarning: invalid value encountered in sqrt\n",
      "  \"\"\"\n"
     ]
    }
   ],
   "source": [
    "#create lists for your output\n",
    "text_relevant = []\n",
    "number_relevant = []\n",
    "date_relevant = []\n",
    "text_non_relevant = []\n",
    "number_non_relevant = []\n",
    "language_relevant = []\n",
    "newspaper_id_relevant = []\n",
    "iiif_url_relevant = []\n",
    "id_relevant = []\n",
    "\n",
    "#find most similar articles and select between relevant and non-relevant\n",
    "\n",
    "index = 0\n",
    "while index < len(df_all) -1:\n",
    "    index +=1\n",
    "    new_bow = dictionary.doc2bow(df_all.iloc[index,6])\n",
    "    new_doc_distribution = np.array([tup[1] for tup in lda.get_document_topics(bow=new_bow)])\n",
    "    doc_topic_dist = np.stack([np.array([tup[1] for tup in lst]) for lst in lda[corpus]])\n",
    "    doc_topic_dist.shape\n",
    "    most_sim_ids = get_most_similar_documents(new_doc_distribution,doc_topic_dist)\n",
    "    most_similar_df = train_df[train_df.index.isin(most_sim_ids)]\n",
    "    # Calculate \n",
    "    if sum(most_similar_df['relevancy']) > 17: \n",
    "        text_relevant.append(df_all.iloc[index,5])\n",
    "        date_relevant.append(df_all.iloc[index,2])\n",
    "        language_relevant.append(df_all.iloc[index,1])\n",
    "        newspaper_id_relevant.append(df_all.iloc[index,3])\n",
    "        iiif_url_relevant.append(df_all.iloc[index,4])\n",
    "        id_relevant.append(df_all.iloc[index,0])\n",
    "        \n",
    "    else:\n",
    "        text_non_relevant.append(df_all.iloc[index,5])\n",
    "    pass\n"
   ]
  },
  {
   "cell_type": "code",
   "execution_count": 51,
   "metadata": {},
   "outputs": [
    {
     "data": {
      "text/html": [
       "<div>\n",
       "<style scoped>\n",
       "    .dataframe tbody tr th:only-of-type {\n",
       "        vertical-align: middle;\n",
       "    }\n",
       "\n",
       "    .dataframe tbody tr th {\n",
       "        vertical-align: top;\n",
       "    }\n",
       "\n",
       "    .dataframe thead th {\n",
       "        text-align: right;\n",
       "    }\n",
       "</style>\n",
       "<table border=\"1\" class=\"dataframe\">\n",
       "  <thead>\n",
       "    <tr style=\"text-align: right;\">\n",
       "      <th></th>\n",
       "      <th>Relevant_Text</th>\n",
       "      <th>Non_Relevant_Text</th>\n",
       "    </tr>\n",
       "  </thead>\n",
       "  <tbody>\n",
       "    <tr>\n",
       "      <td>0</td>\n",
       "      <td>Wien, 15. Mai.\\nDas Abgeordnetenhaus setzte he...</td>\n",
       "      <td>Wienerwaldschuhe eingetroffen sind. Da auch al...</td>\n",
       "    </tr>\n",
       "    <tr>\n",
       "      <td>1</td>\n",
       "      <td>Ausland.\\nWien, 17. März. (Zur Tagesgeschichte...</td>\n",
       "      <td>Interessant ist die Stellungnahme des\\nKongres...</td>\n",
       "    </tr>\n",
       "    <tr>\n",
       "      <td>2</td>\n",
       "      <td>Am stärksten ist die Rückwanderung bei den Pol...</td>\n",
       "      <td>Inzwischen ist es Zeit geworden, im Schlosse v...</td>\n",
       "    </tr>\n",
       "    <tr>\n",
       "      <td>3</td>\n",
       "      <td>Nachforschung nach den Eltern eines Kriegsgefa...</td>\n",
       "      <td>[Vortragsabend Stella Berger=Hohenfels.] Frau ...</td>\n",
       "    </tr>\n",
       "    <tr>\n",
       "      <td>4</td>\n",
       "      <td>von Kriessgesengenen Pe#######emer#den, Anstau...</td>\n",
       "      <td>Agram, 20. April. [Orig.=Corr.] (Banus. Landta...</td>\n",
       "    </tr>\n",
       "  </tbody>\n",
       "</table>\n",
       "</div>"
      ],
      "text/plain": [
       "                                       Relevant_Text  \\\n",
       "0  Wien, 15. Mai.\\nDas Abgeordnetenhaus setzte he...   \n",
       "1  Ausland.\\nWien, 17. März. (Zur Tagesgeschichte...   \n",
       "2  Am stärksten ist die Rückwanderung bei den Pol...   \n",
       "3  Nachforschung nach den Eltern eines Kriegsgefa...   \n",
       "4  von Kriessgesengenen Pe#######emer#den, Anstau...   \n",
       "\n",
       "                                   Non_Relevant_Text  \n",
       "0  Wienerwaldschuhe eingetroffen sind. Da auch al...  \n",
       "1  Interessant ist die Stellungnahme des\\nKongres...  \n",
       "2  Inzwischen ist es Zeit geworden, im Schlosse v...  \n",
       "3  [Vortragsabend Stella Berger=Hohenfels.] Frau ...  \n",
       "4  Agram, 20. April. [Orig.=Corr.] (Banus. Landta...  "
      ]
     },
     "execution_count": 51,
     "metadata": {},
     "output_type": "execute_result"
    }
   ],
   "source": [
    "#transform your lists into a dataframe\n",
    "df_relevant = pd.DataFrame(np.column_stack([text_relevant]), \n",
    "                               columns=['Relevant_Text'])\n",
    "\n",
    "df_non_relevant = pd.DataFrame(np.column_stack([text_non_relevant]), \n",
    "                               columns=['Unrelevant_Text'])\n",
    "\n",
    "\n",
    "df_results = pd.concat([df_relevant,df_non_relevant], ignore_index=True, axis=1)\n",
    "df_results.columns=['Relevant_Text','Non_Relevant_Text']\n",
    "df_results.head(5)"
   ]
  },
  {
   "cell_type": "markdown",
   "metadata": {},
   "source": [
    "## Exporting the results to check if the method worked well <a class=\"anchor\" id=\"18-bullet\"></a>"
   ]
  },
  {
   "cell_type": "code",
   "execution_count": 52,
   "metadata": {},
   "outputs": [],
   "source": [
    "df_results.to_csv('results.csv')"
   ]
  },
  {
   "cell_type": "markdown",
   "metadata": {},
   "source": [
    "### Saving the results in the form of your original file <a class=\"anchor\" id=\"19-bullet\"></a>\n"
   ]
  },
  {
   "cell_type": "code",
   "execution_count": 53,
   "metadata": {},
   "outputs": [
    {
     "data": {
      "text/html": [
       "<div>\n",
       "<style scoped>\n",
       "    .dataframe tbody tr th:only-of-type {\n",
       "        vertical-align: middle;\n",
       "    }\n",
       "\n",
       "    .dataframe tbody tr th {\n",
       "        vertical-align: top;\n",
       "    }\n",
       "\n",
       "    .dataframe thead th {\n",
       "        text-align: right;\n",
       "    }\n",
       "</style>\n",
       "<table border=\"1\" class=\"dataframe\">\n",
       "  <thead>\n",
       "    <tr style=\"text-align: right;\">\n",
       "      <th></th>\n",
       "      <th>id</th>\n",
       "      <th>language</th>\n",
       "      <th>date</th>\n",
       "      <th>newspaper_id</th>\n",
       "      <th>iiif_url</th>\n",
       "      <th>text</th>\n",
       "    </tr>\n",
       "  </thead>\n",
       "  <tbody>\n",
       "    <tr>\n",
       "      <td>0</td>\n",
       "      <td>arbeiter_zeitung_aze19120516_article_36</td>\n",
       "      <td>de</td>\n",
       "      <td>arbeiter_zeitung</td>\n",
       "      <td>1912-05-16T00:00:00Z</td>\n",
       "      <td>https://platform.newseye.eu/iiif/arbeiter_zeit...</td>\n",
       "      <td>Wien, 15. Mai.\\nDas Abgeordnetenhaus setzte he...</td>\n",
       "    </tr>\n",
       "    <tr>\n",
       "      <td>1</td>\n",
       "      <td>neue_freie_presse_nfp19130318_article_473</td>\n",
       "      <td>de</td>\n",
       "      <td>neue_freie_presse</td>\n",
       "      <td>1913-03-18T00:00:00Z</td>\n",
       "      <td>https://platform.newseye.eu/iiif/neue_freie_pr...</td>\n",
       "      <td>Ausland.\\nWien, 17. März. (Zur Tagesgeschichte...</td>\n",
       "    </tr>\n",
       "    <tr>\n",
       "      <td>2</td>\n",
       "      <td>neue_freie_presse_nfp19220519_article_677</td>\n",
       "      <td>de</td>\n",
       "      <td>neue_freie_presse</td>\n",
       "      <td>1922-05-19T00:00:00Z</td>\n",
       "      <td>https://platform.newseye.eu/iiif/neue_freie_pr...</td>\n",
       "      <td>Am stärksten ist die Rückwanderung bei den Pol...</td>\n",
       "    </tr>\n",
       "    <tr>\n",
       "      <td>3</td>\n",
       "      <td>innsbrucker_nachrichten_ibn19210215_article_84</td>\n",
       "      <td>de</td>\n",
       "      <td>innsbrucker_nachrichten</td>\n",
       "      <td>1921-02-15T00:00:00Z</td>\n",
       "      <td>https://platform.newseye.eu/iiif/innsbrucker_n...</td>\n",
       "      <td>Nachforschung nach den Eltern eines Kriegsgefa...</td>\n",
       "    </tr>\n",
       "    <tr>\n",
       "      <td>4</td>\n",
       "      <td>illustrierte_kronen_zeitung_krz19180607_articl...</td>\n",
       "      <td>de</td>\n",
       "      <td>illustrierte_kronen_zeitung</td>\n",
       "      <td>1918-06-07T00:00:00Z</td>\n",
       "      <td>https://platform.newseye.eu/iiif/illustrierte_...</td>\n",
       "      <td>von Kriessgesengenen Pe#######emer#den, Anstau...</td>\n",
       "    </tr>\n",
       "  </tbody>\n",
       "</table>\n",
       "</div>"
      ],
      "text/plain": [
       "                                                  id language  \\\n",
       "0            arbeiter_zeitung_aze19120516_article_36       de   \n",
       "1          neue_freie_presse_nfp19130318_article_473       de   \n",
       "2          neue_freie_presse_nfp19220519_article_677       de   \n",
       "3     innsbrucker_nachrichten_ibn19210215_article_84       de   \n",
       "4  illustrierte_kronen_zeitung_krz19180607_articl...       de   \n",
       "\n",
       "                          date          newspaper_id  \\\n",
       "0             arbeiter_zeitung  1912-05-16T00:00:00Z   \n",
       "1            neue_freie_presse  1913-03-18T00:00:00Z   \n",
       "2            neue_freie_presse  1922-05-19T00:00:00Z   \n",
       "3      innsbrucker_nachrichten  1921-02-15T00:00:00Z   \n",
       "4  illustrierte_kronen_zeitung  1918-06-07T00:00:00Z   \n",
       "\n",
       "                                            iiif_url  \\\n",
       "0  https://platform.newseye.eu/iiif/arbeiter_zeit...   \n",
       "1  https://platform.newseye.eu/iiif/neue_freie_pr...   \n",
       "2  https://platform.newseye.eu/iiif/neue_freie_pr...   \n",
       "3  https://platform.newseye.eu/iiif/innsbrucker_n...   \n",
       "4  https://platform.newseye.eu/iiif/illustrierte_...   \n",
       "\n",
       "                                                text  \n",
       "0  Wien, 15. Mai.\\nDas Abgeordnetenhaus setzte he...  \n",
       "1  Ausland.\\nWien, 17. März. (Zur Tagesgeschichte...  \n",
       "2  Am stärksten ist die Rückwanderung bei den Pol...  \n",
       "3  Nachforschung nach den Eltern eines Kriegsgefa...  \n",
       "4  von Kriessgesengenen Pe#######emer#den, Anstau...  "
      ]
     },
     "execution_count": 53,
     "metadata": {},
     "output_type": "execute_result"
    }
   ],
   "source": [
    "df_final = pd.DataFrame(np.column_stack([id_relevant, language_relevant, newspaper_id_relevant, date_relevant, iiif_url_relevant, text_relevant]), \n",
    "                               columns=['id', 'language', 'date', 'newspaper_id', 'iiif_url', 'text'])\n",
    "\n",
    "\n",
    "df_new = pd.concat([df_final], ignore_index=True, axis=1)\n",
    "df_new.columns=['id','language', 'date', 'newspaper_id', 'iiif_url', 'text']\n",
    "df_new.head(5)"
   ]
  },
  {
   "cell_type": "markdown",
   "metadata": {},
   "source": [
    "## Exporting the final collection  <a class=\"anchor\" id=\"29-bullet\"></a>"
   ]
  },
  {
   "cell_type": "code",
   "execution_count": 54,
   "metadata": {},
   "outputs": [],
   "source": [
    "df_new.to_csv('Collection_no_false_positives.csv')"
   ]
  },
  {
   "cell_type": "code",
   "execution_count": null,
   "metadata": {},
   "outputs": [],
   "source": []
  }
 ],
 "metadata": {
  "kernelspec": {
   "display_name": "Python 3",
   "language": "python",
   "name": "python3"
  },
  "language_info": {
   "codemirror_mode": {
    "name": "ipython",
    "version": 3
   },
   "file_extension": ".py",
   "mimetype": "text/x-python",
   "name": "python",
   "nbconvert_exporter": "python",
   "pygments_lexer": "ipython3",
   "version": "3.7.4"
  }
 },
 "nbformat": 4,
 "nbformat_minor": 2
}
