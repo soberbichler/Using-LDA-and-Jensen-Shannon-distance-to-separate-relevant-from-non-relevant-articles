{
 "cells": [
  {
   "cell_type": "markdown",
   "metadata": {},
   "source": [
    "# Using LDA and Jensen-Shannon Distance (JSD) to group similar newspaper articles \n",
    "\n",
    "\n",
    "Many researchers have the problem that their data sets or automated set annotations contain articles that are irrelevant to their research question. For example, if the goal is to find articles on return migration, researchers have to deal with some ambiguous search terms. The German words \"Heimkehr\" (returning home) or \"Rückkehr\" (returning back) lead to many articles that are relevant to the research question, but also to articles that are not relevant (e.g. return from a mountain tour, work, etc.). By using topic models and document similarity measurements, this notebook allows me to exclude these articles without combining the word \"Heimkehr\" with other search terms. Furthermore, the same code can also be used to remove or prefer a certain genre, e.g. advertising, sports news, etc.\n",
    "\n",
    "To give another example: If I want to create a collection of articles about the disease cancer, one of the important German words for cancer is \"Krebs\". But \"Krebs\" in German is also a common surname, an animal (crab) or a sign of the zodiac.\n",
    "\n",
    "The main purpose of this notebook is to take into account the context of articles in order to automatically refine a search query. This means that even ambiguous words can be used for the search without having to combine them with other words, making the search less influenced by the researcher's prior knowledge and avoiding a too narrow tunnel vision. \n",
    "\n",
    "\n",
    "#### So how is this working? \n",
    "\n",
    "Given a manually annotated collection of articles containing relevant as well as non relevant articles, this program will get the topic distribution of each document using LDA (gensim library). These topic distributions serve as a comparison for other, unseen articles, in order to automatically distinguish between relevant and non-relevant articles. The annotations are used for evaluation and counting the relevance probability for an unseen article. \n",
    "\n",
    "For the comparison, the Jensen-Shannon distance method is used to measure the similarity between the topic distribution of an unseen article and the topic distribution of the training corpus. Therefore, the topic distribution of each new article will be compared to the topic distribution of the articles in the trained corpus. Then, for each unseen article, the 10 most similar articles from the training corpus are being extracted. These articles carry the information about the manually assigned relevancy. If 60 precent of the automatically found similar articles were annotated as relevant, the new article will be marked as relevant. Otherwise it will be marked as irrelevant. Using two different datasets (one about cancer and one about return migration), the average score of correct selected articles is between 80 and 90 percent. \n",
    "\n",
    "Read more about <a href=\"https://monkeylearn.com/blog/introduction-to-topic-modeling/\" target=\"_blank\">Topic Modeling</a> and the <a href=\"https://axialcorps.wordpress.com/tag/jensen-shannon-divergence/\" target=\"_blank\">Jensen-Shannon distance method</a>.\n",
    "\n",
    "\n",
    "Acknowledgments:\n",
    "\n",
    "This work has been inspired by Selva Prabhakaran's <a href=\"https://www.machinelearningplus.com/nlp/topic-modeling-gensim-python/\" target=\"_blank\">topic modeling tutorials</a> and a notebook on <a href=\"https://www.kaggle.com/ktattan/lda-and-document-similarity\" target=\"_blank\">LDA and document similarity</a> and was supported by the European Union's Horizon 2020 research and innovation programme under grant 770299 (NewsEye).\n"
   ]
  },
  {
   "cell_type": "markdown",
   "metadata": {},
   "source": [
    "## Step by step...\n",
    "* [Prepare a small manually annotated collection](#1-bullet)\n",
    "* [Install packages in command line](#2-bullet)\n",
    "* [Import packages](#3-bullet)\n",
    "* [Import your manually annotated newspaper collection](#4-bullet)\n",
    "* [Clean and tokenize the text (pre-processing)](#5-bullet)\n",
    "* [Optional: Reduce your data to nouns, adjectives, verbs, or adverbs](#6-bullet)\n",
    "* [Have a look at your data](#7-bullet)\n",
    "* [Remove articles that are too short](#8-bullet)\n",
    "* [Use your dataset to create a training corpus and test corpus](#9-bullet)\n",
    "* [Create topic models using your training corpus](#10-bullet)\n",
    "* [Find the dominant topic for each article](#11-bullet)\n",
    "* [Find similar articles using the Jensen Shannon function](#12-bullet)\n",
    "* [Calculate the score of the output](#13-bullet)\n",
    "* [If your score is higher than 80 percent, you can start to use your whole collection](#14-bullet)\n",
    "* [Clean (pre-process) your whole collection](#15-bullet)\n",
    "* [Optional: Reduce your data to nouns, adjectives, verbs, or adverbs](#16-bullet)\n",
    "* [Calculate similarities in comparing articles to your training corpus](#17-bullet)\n",
    "* [Export your results to check if the method worked well ](#18-bullet)\n",
    "* [Export your final collection](#19-bullet)\n",
    "\n"
   ]
  },
  {
   "cell_type": "markdown",
   "metadata": {},
   "source": [
    "## Prepare a small manually annotated collection <a class=\"anchor\" id=\"1-bullet\"></a>\n",
    "\n",
    "This program uses annotations for self evaluation and for the calcuation of the relevanvy-probability to successfully distinguish between relevant and non-relevant articles in an unseen collection of newspaper articles. Therefore, a manually annotated collection of at least 150 to 200 articles is needed to work with this program. To create this collection, the number 3 has to assignet to articles that are relevant and the number 0 to articles that are irrelevant (if you work with the NewsEye demonstrator and tag your articles with \"very relevant\" or \"not relevant\", these numbers will be already assigned to your collection. When you create this collection, make sure you create a representative collection of the whole search result. If you use a long time period, make sure all timer periods are represented in your small collection. \n",
    "The newspaper articles with the annotations should be saved as CSV.\n",
    "\n",
    "The following steps are illustrated using the case study on return migration. The main goal is to separate the relevant from the irrelevant articles and to export the \"cleaned\" collection as CSV. Thus, the articles I want to keep deal with remigratory processes between 1850 and 1950, while the articles I want to remove deal with all kinds of topics including the word \"Heimkehr\" (return from the mountain trip, vacation, work, etc.). "
   ]
  },
  {
   "cell_type": "markdown",
   "metadata": {},
   "source": [
    "## Install packages in command line <a class=\"anchor\" id=\"2-bullet\"></a>\n",
    " \n",
    "If you need help on how to pip install, have a look at this tutorial: https://packaging.python.org/tutorials/installing-packages/\n",
    "\n",
    "pip install pandas\n",
    "\n",
    "pip install spacy\n",
    "\n",
    "pip install regex\n",
    "\n",
    "pip install nltk\n",
    "\n",
    "pip install matplotlib\n",
    "\n",
    "pip install numpy\n",
    "\n",
    "pip install seaborn\n",
    "\n",
    "pip install gensim\n"
   ]
  },
  {
   "cell_type": "markdown",
   "metadata": {},
   "source": [
    "## Import packages <a class=\"anchor\" id=\"3-bullet\"></a>\n",
    "\n",
    "Before you can get started, you have to install and import some packages. We are using Gensim for the topic modeling and similartiy mesure. "
   ]
  },
  {
   "cell_type": "code",
   "execution_count": 37,
   "metadata": {},
   "outputs": [],
   "source": [
    "%matplotlib inline\n",
    "import pandas as pd\n",
    "import numpy as np\n",
    "import nltk\n",
    "from nltk.corpus import stopwords\n",
    "import gensim\n",
    "from gensim.models import LdaModel\n",
    "from gensim import models, corpora, similarities\n",
    "import re\n",
    "from nltk.stem.porter import PorterStemmer\n",
    "import time\n",
    "from nltk import FreqDist\n",
    "from scipy.stats import entropy\n",
    "import matplotlib.pyplot as plt\n",
    "import seaborn as sns\n",
    "sns.set_style(\"darkgrid\")\n",
    "import matplotlib.pyplot as plt\n",
    "%matplotlib inline\n",
    "from gensim.utils import lemmatize, simple_preprocess\n",
    "import spacy\n",
    "\n",
    "\n",
    "import gensim, spacy, logging, warnings\n",
    "import gensim.corpora as corpora\n",
    "from gensim.utils import lemmatize, simple_preprocess\n",
    "from gensim.models import CoherenceModel\n",
    "import matplotlib.pyplot as plt\n",
    "\n",
    "import sys\n",
    "import re, numpy as np, pandas as pd\n",
    "from pprint import pprint"
   ]
  },
  {
   "cell_type": "markdown",
   "metadata": {},
   "source": [
    "## Import your manually annotated newspaper collection <a class=\"anchor\" id=\"4-bullet\"></a>\n"
   ]
  },
  {
   "cell_type": "code",
   "execution_count": 38,
   "metadata": {},
   "outputs": [],
   "source": [
    "import csv"
   ]
  },
  {
   "cell_type": "code",
   "execution_count": 39,
   "metadata": {},
   "outputs": [],
   "source": [
    "df = pd.read_csv('export_remigration_04_06_2020_04_07.csv')"
   ]
  },
  {
   "cell_type": "markdown",
   "metadata": {},
   "source": [
    "### Have a look at your data"
   ]
  },
  {
   "cell_type": "code",
   "execution_count": 40,
   "metadata": {},
   "outputs": [
    {
     "data": {
      "text/html": [
       "<div>\n",
       "<style scoped>\n",
       "    .dataframe tbody tr th:only-of-type {\n",
       "        vertical-align: middle;\n",
       "    }\n",
       "\n",
       "    .dataframe tbody tr th {\n",
       "        vertical-align: top;\n",
       "    }\n",
       "\n",
       "    .dataframe thead th {\n",
       "        text-align: right;\n",
       "    }\n",
       "</style>\n",
       "<table border=\"1\" class=\"dataframe\">\n",
       "  <thead>\n",
       "    <tr style=\"text-align: right;\">\n",
       "      <th></th>\n",
       "      <th>id</th>\n",
       "      <th>language</th>\n",
       "      <th>date</th>\n",
       "      <th>newspaper_id</th>\n",
       "      <th>iiif_url</th>\n",
       "      <th>relevancy</th>\n",
       "      <th>text</th>\n",
       "    </tr>\n",
       "  </thead>\n",
       "  <tbody>\n",
       "    <tr>\n",
       "      <td>0</td>\n",
       "      <td>illustrierte_kronen_zeitung_krz19381218_articl...</td>\n",
       "      <td>de</td>\n",
       "      <td>1938-12-18T00:00:00Z</td>\n",
       "      <td>illustrierte_kronen_zeitung</td>\n",
       "      <td>https://platform.newseye.eu/iiif/illustrierte_...</td>\n",
       "      <td>3</td>\n",
       "      <td>Der Leiter der Zweigstelle Wien des Rückwander...</td>\n",
       "    </tr>\n",
       "    <tr>\n",
       "      <td>1</td>\n",
       "      <td>innsbrucker_nachrichten_ibn19120525_article_1689</td>\n",
       "      <td>de</td>\n",
       "      <td>1912-05-25T00:00:00Z</td>\n",
       "      <td>innsbrucker_nachrichten</td>\n",
       "      <td>https://platform.newseye.eu/iiif/innsbrucker_n...</td>\n",
       "      <td>0</td>\n",
       "      <td>„Ober wos denkst denn, so long ausbleibn!“\\nFü...</td>\n",
       "    </tr>\n",
       "    <tr>\n",
       "      <td>2</td>\n",
       "      <td>innsbrucker_nachrichten_ibn19151210_article_578</td>\n",
       "      <td>de</td>\n",
       "      <td>1915-12-10T00:00:00Z</td>\n",
       "      <td>innsbrucker_nachrichten</td>\n",
       "      <td>https://platform.newseye.eu/iiif/innsbrucker_n...</td>\n",
       "      <td>3</td>\n",
       "      <td>KB. Rom, 9. Dez. Vor der nur zur Hälfte\\nbeset...</td>\n",
       "    </tr>\n",
       "    <tr>\n",
       "      <td>3</td>\n",
       "      <td>innsbrucker_nachrichten_ibn19390531_article_1326</td>\n",
       "      <td>de</td>\n",
       "      <td>1939-05-31T00:00:00Z</td>\n",
       "      <td>innsbrucker_nachrichten</td>\n",
       "      <td>https://platform.newseye.eu/iiif/innsbrucker_n...</td>\n",
       "      <td>0</td>\n",
       "      <td>Innsbruck, 31. Mai. Auf einer Pressefahrt der ...</td>\n",
       "    </tr>\n",
       "    <tr>\n",
       "      <td>4</td>\n",
       "      <td>illustrierte_kronen_zeitung_krz19390721_articl...</td>\n",
       "      <td>de</td>\n",
       "      <td>1939-07-21T00:00:00Z</td>\n",
       "      <td>illustrierte_kronen_zeitung</td>\n",
       "      <td>https://platform.newseye.eu/iiif/illustrierte_...</td>\n",
       "      <td>0</td>\n",
       "      <td>Die Ergebnisse der amtsärztlichen Untersuchung...</td>\n",
       "    </tr>\n",
       "  </tbody>\n",
       "</table>\n",
       "</div>"
      ],
      "text/plain": [
       "                                                  id language  \\\n",
       "0  illustrierte_kronen_zeitung_krz19381218_articl...       de   \n",
       "1   innsbrucker_nachrichten_ibn19120525_article_1689       de   \n",
       "2    innsbrucker_nachrichten_ibn19151210_article_578       de   \n",
       "3   innsbrucker_nachrichten_ibn19390531_article_1326       de   \n",
       "4  illustrierte_kronen_zeitung_krz19390721_articl...       de   \n",
       "\n",
       "                   date                 newspaper_id  \\\n",
       "0  1938-12-18T00:00:00Z  illustrierte_kronen_zeitung   \n",
       "1  1912-05-25T00:00:00Z      innsbrucker_nachrichten   \n",
       "2  1915-12-10T00:00:00Z      innsbrucker_nachrichten   \n",
       "3  1939-05-31T00:00:00Z      innsbrucker_nachrichten   \n",
       "4  1939-07-21T00:00:00Z  illustrierte_kronen_zeitung   \n",
       "\n",
       "                                            iiif_url  relevancy  \\\n",
       "0  https://platform.newseye.eu/iiif/illustrierte_...          3   \n",
       "1  https://platform.newseye.eu/iiif/innsbrucker_n...          0   \n",
       "2  https://platform.newseye.eu/iiif/innsbrucker_n...          3   \n",
       "3  https://platform.newseye.eu/iiif/innsbrucker_n...          0   \n",
       "4  https://platform.newseye.eu/iiif/illustrierte_...          0   \n",
       "\n",
       "                                                text  \n",
       "0  Der Leiter der Zweigstelle Wien des Rückwander...  \n",
       "1  „Ober wos denkst denn, so long ausbleibn!“\\nFü...  \n",
       "2  KB. Rom, 9. Dez. Vor der nur zur Hälfte\\nbeset...  \n",
       "3  Innsbruck, 31. Mai. Auf einer Pressefahrt der ...  \n",
       "4  Die Ergebnisse der amtsärztlichen Untersuchung...  "
      ]
     },
     "execution_count": 40,
     "metadata": {},
     "output_type": "execute_result"
    }
   ],
   "source": [
    "df.head(5)"
   ]
  },
  {
   "cell_type": "markdown",
   "metadata": {},
   "source": [
    "### Check the distribution of relevant articles (3) and non relevant articles (0)"
   ]
  },
  {
   "cell_type": "code",
   "execution_count": 41,
   "metadata": {},
   "outputs": [
    {
     "data": {
      "text/plain": [
       "<matplotlib.axes._subplots.AxesSubplot at 0x147d6e68d88>"
      ]
     },
     "execution_count": 41,
     "metadata": {},
     "output_type": "execute_result"
    },
    {
     "data": {
      "image/png": "[encoded data removed]",
      "text/plain": [
       "<Figure size 432x288 with 1 Axes>"
      ]
     },
     "metadata": {
      "needs_background": "light"
     },
     "output_type": "display_data"
    }
   ],
   "source": [
    "df.relevancy.value_counts().plot(kind='bar')"
   ]
  },
  {
   "cell_type": "markdown",
   "metadata": {},
   "source": [
    "### For the next steps, it is easier to only use the information on text and relevancy"
   ]
  },
  {
   "cell_type": "code",
   "execution_count": 42,
   "metadata": {},
   "outputs": [],
   "source": [
    "df = pd.read_csv('export_remigration_04_06_2020_04_07.csv', usecols = ['text','relevancy'])"
   ]
  },
  {
   "cell_type": "code",
   "execution_count": 43,
   "metadata": {},
   "outputs": [
    {
     "data": {
      "text/html": [
       "<div>\n",
       "<style scoped>\n",
       "    .dataframe tbody tr th:only-of-type {\n",
       "        vertical-align: middle;\n",
       "    }\n",
       "\n",
       "    .dataframe tbody tr th {\n",
       "        vertical-align: top;\n",
       "    }\n",
       "\n",
       "    .dataframe thead th {\n",
       "        text-align: right;\n",
       "    }\n",
       "</style>\n",
       "<table border=\"1\" class=\"dataframe\">\n",
       "  <thead>\n",
       "    <tr style=\"text-align: right;\">\n",
       "      <th></th>\n",
       "      <th>relevancy</th>\n",
       "      <th>text</th>\n",
       "    </tr>\n",
       "  </thead>\n",
       "  <tbody>\n",
       "    <tr>\n",
       "      <td>0</td>\n",
       "      <td>3</td>\n",
       "      <td>Der Leiter der Zweigstelle Wien des Rückwander...</td>\n",
       "    </tr>\n",
       "    <tr>\n",
       "      <td>1</td>\n",
       "      <td>0</td>\n",
       "      <td>„Ober wos denkst denn, so long ausbleibn!“\\nFü...</td>\n",
       "    </tr>\n",
       "    <tr>\n",
       "      <td>2</td>\n",
       "      <td>3</td>\n",
       "      <td>KB. Rom, 9. Dez. Vor der nur zur Hälfte\\nbeset...</td>\n",
       "    </tr>\n",
       "    <tr>\n",
       "      <td>3</td>\n",
       "      <td>0</td>\n",
       "      <td>Innsbruck, 31. Mai. Auf einer Pressefahrt der ...</td>\n",
       "    </tr>\n",
       "    <tr>\n",
       "      <td>4</td>\n",
       "      <td>0</td>\n",
       "      <td>Die Ergebnisse der amtsärztlichen Untersuchung...</td>\n",
       "    </tr>\n",
       "  </tbody>\n",
       "</table>\n",
       "</div>"
      ],
      "text/plain": [
       "   relevancy                                               text\n",
       "0          3  Der Leiter der Zweigstelle Wien des Rückwander...\n",
       "1          0  „Ober wos denkst denn, so long ausbleibn!“\\nFü...\n",
       "2          3  KB. Rom, 9. Dez. Vor der nur zur Hälfte\\nbeset...\n",
       "3          0  Innsbruck, 31. Mai. Auf einer Pressefahrt der ...\n",
       "4          0  Die Ergebnisse der amtsärztlichen Untersuchung..."
      ]
     },
     "execution_count": 43,
     "metadata": {},
     "output_type": "execute_result"
    }
   ],
   "source": [
    "df.head(5)"
   ]
  },
  {
   "cell_type": "markdown",
   "metadata": {},
   "source": [
    "## Clean and tokenize the text (pre-processing) <a class=\"anchor\" id=\"5-bullet\"></a>\n",
    "\n",
    "Before you can start with the training fo the topic models, you have to clean the text of your newspaper articles. The follwing functions remove punctuations, lower case the text, remove stop words and lemmatize the text. \n",
    "\n",
    "#### Stop words: \n",
    "You can change the language used for the stop words. You can also add your own stop words or other words you would like to ignore. It helps to ignore words that are often shared in both, relevant and non-relevant articles. "
   ]
  },
  {
   "cell_type": "code",
   "execution_count": 44,
   "metadata": {},
   "outputs": [],
   "source": [
    "# Functions to clean, tokenize, and lemmatize the data\n",
    "def initial_clean(text):\n",
    "    text = re.sub(r'[^\\w\\s]','',text)\n",
    "    text = text.lower() \n",
    "    text = nltk.word_tokenize(text)\n",
    "    return text\n",
    "\n",
    "stop_words = stopwords.words('german')#change the language here\n",
    "# add your onw stop words\n",
    "stop_words.extend([\"Heimkehr\", \"Rückkehr\", \"heimkehren\", \"zurückkehren\", \"a\", \"ab\",\"aber\",\"ach\",\"acht\",\"achte\",\"achten\",\"achter\",\"achtes\",\"ag\",\"alle\",\"allein\",\"allem\",\"allen\",\"aller\",\"allerdings\",\"alles\",\"allgemeinen\",\"als\",\"also\",\"am\",\"an\",\"andere\",\"anderen\",\"andern\",\"anders\",\"au\",\"auch\",\"auf\",\"aus\",\"ausser\",\"außer\",\"ausserdem\",\"außerdem\",\"b\",\"bald\",\"bei\",\"beide\",\"beiden\",\"beim\",\"beispiel\",\"bekannt\",\"bereits\",\"besonders\",\"besser\",\"besten\",\"bin\",\"bis\",\"bisher\",\"bist\",\"c\",\"d\",\"da\",\"dabei\",\"dadurch\",\"dafür\",\"dagegen\",\"daher\",\"dahin\",\"dahinter\",\"damals\",\"damit\",\"danach\",\"daneben\",\"dank\",\"dann\",\"daran\",\"darauf\",\"daraus\",\"darf\",\"darfst\",\"darin\",\"darüber\",\"darum\",\"darunter\",\"das\",\"dasein\",\"daselbst\",\"dass\",\"daß\",\"dasselbe\",\"davon\",\"davor\",\"dazu\",\"dazwischen\",\"dein\",\"deine\",\"deinem\",\"deiner\",\"dem\",\"dementsprechend\",\"demgegenüber\",\"demgemäss\",\"demgemäß\",\"demselben\",\"demzufolge\",\"den\",\"denen\",\"denn\",\"denselben\",\"der\",\"deren\",\"derjenige\",\"derjenigen\",\"dermassen\",\"dermaßen\",\"derselbe\",\"derselben\",\"des\",\"deshalb\",\"desselben\",\"dessen\",\"deswegen\",\"d.h\",\"dich\",\"die\",\"diejenige\",\"diejenigen\",\"dies\",\"diese\",\"dieselbe\",\"dieselben\",\"diesem\",\"diesen\",\"dieser\",\"dieses\",\"dir\",\"doch\",\"dort\",\"drei\",\"drin\",\"dritte\",\"dritten\",\"dritter\",\"drittes\",\"du\",\"durch\",\"durchaus\",\"dürfen\",\"dürft\",\"durfte\",\"durften\",\"e\",\"eben\",\"ebenso\",\"ehrlich\",\"ei\",\"ei,\",\"eigen\",\"eigene\",\"eigenen\",\"eigener\",\"eigenes\",\"ein\",\"einander\",\"eine\",\"einem\",\"einen\",\"einer\",\"eines\",\"einige\",\"einigen\",\"einiger\",\"einiges\",\"einmal\",\"eins\",\"elf\",\"en\",\"ende\",\"endlich\",\"entweder\",\"er\",\"Ernst\",\"erst\",\"erste\",\"ersten\",\"erster\",\"erstes\",\"es\",\"etwa\",\"etwas\",\"euch\",\"f\",\"früher\",\"fünf\",\"fünfte\",\"fünften\",\"fünfter\",\"fünftes\",\"für\",\"g\",\"gab\",\"ganz\",\"ganze\",\"ganzen\",\"ganzer\",\"ganzes\",\"gar\",\"gedurft\",\"gegen\",\"gegenüber\",\"gehabt\",\"gehen\",\"geht\",\"gekannt\",\"gekonnt\",\"gemacht\",\"gemocht\",\"gemusst\",\"genug\",\"gerade\",\"gern\",\"gesagt\",\"geschweige\",\"gewesen\",\"gewollt\",\"geworden\",\"gibt\",\"ging\",\"gleich\",\"gott\",\"gross\",\"groß\",\"grosse\",\"große\",\"grossen\",\"großen\",\"grosser\",\"großer\",\"grosses\",\"großes\",\"gut\",\"gute\",\"guter\",\"gutes\",\"h\",\"habe\",\"haben\",\"habt\",\"hast\",\"hat\",\"hatte\",\"hätte\",\"hatten\",\"hätten\",\"heisst\",\"her\",\"heute\",\"hier\",\"hin\",\"hinter\",\"hoch\",\"i\",\"ich\",\"ihm\",\"ihn\",\"ihnen\",\"ihr\",\"ihre\",\"ihrem\",\"ihren\",\"ihrer\",\"ihres\",\"im\",\"immer\",\"in\",\"indem\",\"infolgedessen\",\"ins\",\"irgend\",\"ist\",\"j\",\"ja\",\"jahr\",\"jahre\",\"jahren\",\"je\",\"jede\",\"jedem\",\"jeden\",\"jeder\",\"jedermann\",\"jedermanns\",\"jedoch\",\"jemand\",\"jemandem\",\"jemanden\",\"jene\",\"jenem\",\"jenen\",\"jener\",\"jenes\",\"jetzt\",\"k\",\"kam\",\"kann\",\"kannst\",\"kaum\",\"kein\",\"keine\",\"keinem\",\"keinen\",\"keiner\",\"kleine\",\"kleinen\",\"kleiner\",\"kleines\",\"kommen\",\"kommt\",\"können\",\"könnt\",\"konnte\",\"könnte\",\"konnten\",\"kurz\",\"l\",\"lang\",\"lange\",\"leicht\",\"leide\",\"lieber\",\"los\",\"m\",\"machen\",\"macht\",\"machte\",\"mag\",\"magst\",\"mahn\",\"man\",\"manche\",\"manchem\",\"manchen\",\"mancher\",\"manches\",\"mann\",\"mehr\",\"mein\",\"meine\",\"meinem\",\"meinen\",\"meiner\",\"meines\",\"mensch\",\"menschen\",\"mich\",\"mir\",\"mit\",\"mittel\",\"mochte\",\"möchte\",\"mochten\",\"mögen\",\"möglich\",\"mögt\",\"morgen\",\"muss\",\"muß\",\"müssen\",\"musst\",\"müsst\",\"musste\",\"mussten\",\"n\",\"na\",\"nach\",\"nachdem\",\"nahm\",\"natürlich\",\"neben\",\"nein\",\"neue\",\"neuen\",\"neun\",\"neunte\",\"neunten\",\"neunter\",\"neuntes\",\"nicht\",\"nichts\",\"nie\",\"niemand\",\"niemandem\",\"niemanden\",\"noch\",\"nun\",\"nur\",\"o\",\"ob\",\"oben\",\"oder\",\"offen\",\"oft\",\"ohne\",\"Ordnung\",\"p\",\"q\",\"r\",\"recht\",\"rechte\",\"rechten\",\"rechter\",\"rechtes\",\"richtig\",\"rund\",\"s\",\"sa\",\"sache\",\"sagt\",\"sagte\",\"sah\",\"satt\",\"schlecht\",\"Schluss\",\"schon\",\"sechs\",\"sechste\",\"sechsten\",\"sechster\",\"sechstes\",\"sehr\",\"sei\",\"seid\",\"seien\",\"sein\",\"seine\",\"seinem\",\"seinen\",\"seiner\",\"seines\",\"seit\",\"seitdem\",\"selbst\",\"sich\",\"sie\",\"sieben\",\"siebente\",\"siebenten\",\"siebenter\",\"siebentes\",\"sind\",\"so\",\"solang\",\"solche\",\"solchem\",\"solchen\",\"solcher\",\"solches\",\"soll\",\"sollen\",\"sollte\",\"sollten\",\"sondern\",\"sonst\",\"sowie\",\"später\",\"statt\",\"t\",\"tag\",\"tage\",\"tagen\",\"tat\",\"teil\",\"tel\",\"tritt\",\"trotzdem\",\"tun\",\"u\",\"über\",\"überhaupt\",\"übrigens\",\"uhr\",\"um\",\"und\",\"und?\",\"uns\",\"unser\",\"unsere\",\"unserer\",\"unter\",\"v\",\"vergangenen\",\"viel\",\"viele\",\"vielem\",\"vielen\",\"vielleicht\",\"vier\",\"vierte\",\"vierten\",\"vierter\",\"viertes\",\"vom\",\"von\",\"vor\",\"w\",\"wahr?\",\"während\",\"währenddem\",\"währenddessen\",\"wann\",\"war\",\"wäre\",\"waren\",\"wart\",\"warum\",\"was\",\"wegen\",\"weil\",\"weit\",\"weiter\",\"weitere\",\"weiteren\",\"weiteres\",\"welche\",\"welchem\",\"welchen\",\"welcher\",\"welches\",\"wem\",\"wen\",\"wenig\",\"wenige\",\"weniger\",\"weniges\",\"wenigstens\",\"wenn\",\"wer\",\"werde\",\"werden\",\"werdet\",\"wessen\",\"wie\",\"wieder\",\"will\",\"willst\",\"wir\",\"wird\",\"wirklich\",\"wirst\",\"wo\",\"wohl\",\"wollen\",\"wollt\",\"wollte\",\"wollten\",\"worden\",\"wurde\",\"würde\",\"wurden\",\"würden\",\"x\",\"y\",\"z\",\"z.b\",\"zehn\",\"zehnte\",\"zehnten\",\"zehnter\",\"zehntes\",\"zeit\",\"zu\",\"zuerst\",\"zugleich\",\"zum\",\"zunächst\",\"zur\",\"zurück\",\"zusammen\",\"zwanzig\",\"zwar\",\"zwei\",\"zweite\",\"zweiten\",\"zweiter\",\"zweites\",\"zwischen\",\"zwölf\",\"euer\",\"eure\",\"hattest\",\"hattet\",\"jedes\",\"mußt\",\"müßt\",\"sollst\",\"sollt\",\"soweit\",\"weshalb\",\"wieso\",\"woher\",\"wohin\"])\n",
    "def remove_stop_words(text):\n",
    "    return [word for word in text if word not in stop_words]\n",
    "\n",
    "stemmer = PorterStemmer()\n",
    "def stem_words(text):\n",
    "    try:\n",
    "        text = [stemmer.stem(word) for word in text]\n",
    "        text = [word for word in text if len(word) > 1] \n",
    "    except IndexError: \n",
    "        pass\n",
    "    return text\n",
    "\n",
    "def apply_all(text):\n",
    "    return stem_words(remove_stop_words(initial_clean(text)))"
   ]
  },
  {
   "cell_type": "code",
   "execution_count": 45,
   "metadata": {},
   "outputs": [],
   "source": [
    "\n",
    "df['tokenized'] = df['text'].apply(apply_all) \n"
   ]
  },
  {
   "cell_type": "markdown",
   "metadata": {},
   "source": [
    "## Optional: Reduce your data to nouns, adjectives, verbs, or adverbs  <a class=\"anchor\" id=\"6-bullet\"></a>\n",
    "\n",
    "This function be can used or be omitted. Sometimes, it makes sense to reduce your data to parts of speech (pos). This depents very much on the research question. To see which method works best, it makes sense to run this program once with and once without pos-tagging. The package Spacy is used for the pos tagging. Spacy can be used in many differnt languages. To use Spazy in your preferred language, you have to install the right model. This model can be found here: https://spacy.io/usage/models"
   ]
  },
  {
   "cell_type": "code",
   "execution_count": 46,
   "metadata": {},
   "outputs": [],
   "source": [
    "def lemmatization(texts, allowed_postags=['NOUN', 'ADJ', 'VERB', 'ADV']):\n",
    "    texts_out = []\n",
    "    for sent in texts:\n",
    "        doc = nlp(\" \".join(sent)) \n",
    "        texts_out.append([token.lemma_ for token in doc if token.pos_ in allowed_postags])\n",
    "    return texts_out"
   ]
  },
  {
   "cell_type": "markdown",
   "metadata": {},
   "source": [
    "If you don't want to use pos tagging, you can put hashtags in front of the code. "
   ]
  },
  {
   "cell_type": "code",
   "execution_count": 47,
   "metadata": {},
   "outputs": [],
   "source": [
    "#nlp = spacy.load('de_core_news_sm', disable=['parser', 'ner'])\n",
    "\n",
    "#df['tokenized'] = lemmatization(df['tokenized'], allowed_postags=['NOUN', 'ADJ'])"
   ]
  },
  {
   "cell_type": "markdown",
   "metadata": {},
   "source": [
    "## Have a look at your data <a class=\"anchor\" id=\"7-bullet\"></a>\n",
    "\n",
    "Check out, if everything went alright so far. Have a look at the tokens, the number of words and their frequency distribution."
   ]
  },
  {
   "cell_type": "code",
   "execution_count": 48,
   "metadata": {},
   "outputs": [
    {
     "data": {
      "text/html": [
       "<div>\n",
       "<style scoped>\n",
       "    .dataframe tbody tr th:only-of-type {\n",
       "        vertical-align: middle;\n",
       "    }\n",
       "\n",
       "    .dataframe tbody tr th {\n",
       "        vertical-align: top;\n",
       "    }\n",
       "\n",
       "    .dataframe thead th {\n",
       "        text-align: right;\n",
       "    }\n",
       "</style>\n",
       "<table border=\"1\" class=\"dataframe\">\n",
       "  <thead>\n",
       "    <tr style=\"text-align: right;\">\n",
       "      <th></th>\n",
       "      <th>relevancy</th>\n",
       "      <th>text</th>\n",
       "      <th>tokenized</th>\n",
       "    </tr>\n",
       "  </thead>\n",
       "  <tbody>\n",
       "    <tr>\n",
       "      <td>0</td>\n",
       "      <td>3</td>\n",
       "      <td>Der Leiter der Zweigstelle Wien des Rückwander...</td>\n",
       "      <td>[leiter, zweigstel, wien, rückwandereramt, pg,...</td>\n",
       "    </tr>\n",
       "    <tr>\n",
       "      <td>1</td>\n",
       "      <td>0</td>\n",
       "      <td>„Ober wos denkst denn, so long ausbleibn!“\\nFü...</td>\n",
       "      <td>[ober, wo, denkst, long, ausbleibn, getadelten...</td>\n",
       "    </tr>\n",
       "    <tr>\n",
       "      <td>2</td>\n",
       "      <td>3</td>\n",
       "      <td>KB. Rom, 9. Dez. Vor der nur zur Hälfte\\nbeset...</td>\n",
       "      <td>[kb, rom, dez, hälfte, besetzten, kammer, depu...</td>\n",
       "    </tr>\n",
       "    <tr>\n",
       "      <td>3</td>\n",
       "      <td>0</td>\n",
       "      <td>Innsbruck, 31. Mai. Auf einer Pressefahrt der ...</td>\n",
       "      <td>[innsbruck, 31, mai, pressefahrt, reichsleitun...</td>\n",
       "    </tr>\n",
       "    <tr>\n",
       "      <td>4</td>\n",
       "      <td>0</td>\n",
       "      <td>Die Ergebnisse der amtsärztlichen Untersuchung...</td>\n",
       "      <td>[ergebniss, amtsärztlichen, untersuchungen, eh...</td>\n",
       "    </tr>\n",
       "    <tr>\n",
       "      <td>...</td>\n",
       "      <td>...</td>\n",
       "      <td>...</td>\n",
       "      <td>...</td>\n",
       "    </tr>\n",
       "    <tr>\n",
       "      <td>204</td>\n",
       "      <td>3</td>\n",
       "      <td>Davon sind allerdings die Rückwanderer abzuzie...</td>\n",
       "      <td>[rückwander, abzuziehen, zahl, belief, 190809,...</td>\n",
       "    </tr>\n",
       "    <tr>\n",
       "      <td>205</td>\n",
       "      <td>3</td>\n",
       "      <td>* Beweismaterial gegen die Kriegsgefangenen.\\n...</td>\n",
       "      <td>[beweismateri, kriegsgefangenen, kriegsminist,...</td>\n",
       "    </tr>\n",
       "    <tr>\n",
       "      <td>206</td>\n",
       "      <td>3</td>\n",
       "      <td>Der Austausch der Kriegsgefangenen wird\\nim An...</td>\n",
       "      <td>[austausch, kriegsgefangenen, anschluß, peters...</td>\n",
       "    </tr>\n",
       "    <tr>\n",
       "      <td>207</td>\n",
       "      <td>3</td>\n",
       "      <td>* Das amerikanische Echo. Aus New=York wird\\nu...</td>\n",
       "      <td>[amerikanisch, echo, newyork, geschrieben, mas...</td>\n",
       "    </tr>\n",
       "    <tr>\n",
       "      <td>208</td>\n",
       "      <td>3</td>\n",
       "      <td>Der Tag von Adua, die fruchtlosen Kämpfe in\\nT...</td>\n",
       "      <td>[adua, fruchtlosen, kämpfe, tripoli, urteil, w...</td>\n",
       "    </tr>\n",
       "  </tbody>\n",
       "</table>\n",
       "<p>209 rows × 3 columns</p>\n",
       "</div>"
      ],
      "text/plain": [
       "     relevancy                                               text  \\\n",
       "0            3  Der Leiter der Zweigstelle Wien des Rückwander...   \n",
       "1            0  „Ober wos denkst denn, so long ausbleibn!“\\nFü...   \n",
       "2            3  KB. Rom, 9. Dez. Vor der nur zur Hälfte\\nbeset...   \n",
       "3            0  Innsbruck, 31. Mai. Auf einer Pressefahrt der ...   \n",
       "4            0  Die Ergebnisse der amtsärztlichen Untersuchung...   \n",
       "..         ...                                                ...   \n",
       "204          3  Davon sind allerdings die Rückwanderer abzuzie...   \n",
       "205          3  * Beweismaterial gegen die Kriegsgefangenen.\\n...   \n",
       "206          3  Der Austausch der Kriegsgefangenen wird\\nim An...   \n",
       "207          3  * Das amerikanische Echo. Aus New=York wird\\nu...   \n",
       "208          3  Der Tag von Adua, die fruchtlosen Kämpfe in\\nT...   \n",
       "\n",
       "                                             tokenized  \n",
       "0    [leiter, zweigstel, wien, rückwandereramt, pg,...  \n",
       "1    [ober, wo, denkst, long, ausbleibn, getadelten...  \n",
       "2    [kb, rom, dez, hälfte, besetzten, kammer, depu...  \n",
       "3    [innsbruck, 31, mai, pressefahrt, reichsleitun...  \n",
       "4    [ergebniss, amtsärztlichen, untersuchungen, eh...  \n",
       "..                                                 ...  \n",
       "204  [rückwander, abzuziehen, zahl, belief, 190809,...  \n",
       "205  [beweismateri, kriegsgefangenen, kriegsminist,...  \n",
       "206  [austausch, kriegsgefangenen, anschluß, peters...  \n",
       "207  [amerikanisch, echo, newyork, geschrieben, mas...  \n",
       "208  [adua, fruchtlosen, kämpfe, tripoli, urteil, w...  \n",
       "\n",
       "[209 rows x 3 columns]"
      ]
     },
     "execution_count": 48,
     "metadata": {},
     "output_type": "execute_result"
    }
   ],
   "source": [
    "df"
   ]
  },
  {
   "cell_type": "code",
   "execution_count": 49,
   "metadata": {},
   "outputs": [
    {
     "data": {
      "text/plain": [
       "'The number of unique words is 8353'"
      ]
     },
     "execution_count": 49,
     "metadata": {},
     "output_type": "execute_result"
    }
   ],
   "source": [
    "# first get a list of all words\n",
    "all_words = [word for item in list(df['tokenized']) for word in item]\n",
    "# use nltk fdist to get a frequency distribution of all words\n",
    "fdist = FreqDist(all_words)\n",
    "f\"The number of unique words is {len(fdist)}\""
   ]
  },
  {
   "cell_type": "code",
   "execution_count": 50,
   "metadata": {},
   "outputs": [
    {
     "name": "stdout",
     "output_type": "stream",
     "text": [
      "length of list: 209\n",
      "average document length: 76.92822966507177\n",
      "minimum document length: 12\n",
      "maximum document length: 296\n"
     ]
    }
   ],
   "source": [
    "# document length\n",
    "df['doc_len'] = df['tokenized'].apply(lambda x: len(x))\n",
    "doc_lengths = list(df['doc_len'])\n",
    "df.drop(labels='doc_len', axis=1, inplace=True)\n",
    "\n",
    "print(f\"length of list: {len(doc_lengths)}\")\n",
    "print(f\"average document length: {np.average(doc_lengths)}\")\n",
    "print(f\"minimum document length: {min(doc_lengths)}\")\n",
    "print(f\"maximum document length: {max(doc_lengths)}\")"
   ]
  },
  {
   "cell_type": "markdown",
   "metadata": {},
   "source": [
    "## Remove articles that are too short <a class=\"anchor\" id=\"8-bullet\"></a>\n",
    "\n",
    "To optimize the topic model results, you should avoid to have artcles with less then 30 tokens after cleaning"
   ]
  },
  {
   "cell_type": "code",
   "execution_count": 51,
   "metadata": {},
   "outputs": [
    {
     "name": "stdout",
     "output_type": "stream",
     "text": [
      "After cleaning and excluding short aticles, the dataframe now has: 193 articles\n"
     ]
    }
   ],
   "source": [
    "df = df[df['tokenized'].map(len) >= 30]\n",
    "# make sure all tokenized items are lists\n",
    "df = df[df['tokenized'].map(type) == list]\n",
    "df.reset_index(drop=True,inplace=True)\n",
    "print(\"After cleaning and excluding short aticles, the dataframe now has:\", len(df), \"articles\")"
   ]
  },
  {
   "cell_type": "code",
   "execution_count": 52,
   "metadata": {},
   "outputs": [
    {
     "data": {
      "text/html": [
       "<div>\n",
       "<style scoped>\n",
       "    .dataframe tbody tr th:only-of-type {\n",
       "        vertical-align: middle;\n",
       "    }\n",
       "\n",
       "    .dataframe tbody tr th {\n",
       "        vertical-align: top;\n",
       "    }\n",
       "\n",
       "    .dataframe thead th {\n",
       "        text-align: right;\n",
       "    }\n",
       "</style>\n",
       "<table border=\"1\" class=\"dataframe\">\n",
       "  <thead>\n",
       "    <tr style=\"text-align: right;\">\n",
       "      <th></th>\n",
       "      <th>relevancy</th>\n",
       "      <th>text</th>\n",
       "      <th>tokenized</th>\n",
       "    </tr>\n",
       "  </thead>\n",
       "  <tbody>\n",
       "    <tr>\n",
       "      <td>0</td>\n",
       "      <td>3</td>\n",
       "      <td>Der Leiter der Zweigstelle Wien des Rückwander...</td>\n",
       "      <td>[leiter, zweigstel, wien, rückwandereramt, pg,...</td>\n",
       "    </tr>\n",
       "    <tr>\n",
       "      <td>1</td>\n",
       "      <td>0</td>\n",
       "      <td>„Ober wos denkst denn, so long ausbleibn!“\\nFü...</td>\n",
       "      <td>[ober, wo, denkst, long, ausbleibn, getadelten...</td>\n",
       "    </tr>\n",
       "    <tr>\n",
       "      <td>2</td>\n",
       "      <td>3</td>\n",
       "      <td>KB. Rom, 9. Dez. Vor der nur zur Hälfte\\nbeset...</td>\n",
       "      <td>[kb, rom, dez, hälfte, besetzten, kammer, depu...</td>\n",
       "    </tr>\n",
       "    <tr>\n",
       "      <td>3</td>\n",
       "      <td>0</td>\n",
       "      <td>Innsbruck, 31. Mai. Auf einer Pressefahrt der ...</td>\n",
       "      <td>[innsbruck, 31, mai, pressefahrt, reichsleitun...</td>\n",
       "    </tr>\n",
       "    <tr>\n",
       "      <td>4</td>\n",
       "      <td>0</td>\n",
       "      <td>Die geraubten Malvinen müssen wieder zurück!\\n...</td>\n",
       "      <td>[geraubten, malvinen, bueno, air, 23, okt, kür...</td>\n",
       "    </tr>\n",
       "  </tbody>\n",
       "</table>\n",
       "</div>"
      ],
      "text/plain": [
       "   relevancy                                               text  \\\n",
       "0          3  Der Leiter der Zweigstelle Wien des Rückwander...   \n",
       "1          0  „Ober wos denkst denn, so long ausbleibn!“\\nFü...   \n",
       "2          3  KB. Rom, 9. Dez. Vor der nur zur Hälfte\\nbeset...   \n",
       "3          0  Innsbruck, 31. Mai. Auf einer Pressefahrt der ...   \n",
       "4          0  Die geraubten Malvinen müssen wieder zurück!\\n...   \n",
       "\n",
       "                                           tokenized  \n",
       "0  [leiter, zweigstel, wien, rückwandereramt, pg,...  \n",
       "1  [ober, wo, denkst, long, ausbleibn, getadelten...  \n",
       "2  [kb, rom, dez, hälfte, besetzten, kammer, depu...  \n",
       "3  [innsbruck, 31, mai, pressefahrt, reichsleitun...  \n",
       "4  [geraubten, malvinen, bueno, air, 23, okt, kür...  "
      ]
     },
     "execution_count": 52,
     "metadata": {},
     "output_type": "execute_result"
    }
   ],
   "source": [
    "df.head()"
   ]
  },
  {
   "cell_type": "markdown",
   "metadata": {},
   "source": [
    "## Use your dataset to create a training corpus and test corpus <a class=\"anchor\" id=\"9-bullet\"></a>\n",
    "\n",
    "Before we use our method on a big collection, we use our manual annotated dataset to train the models and to find relevant and non-relevant articles. This helps to control the output (you can compare the output with your manual annotation and see if the program worked correctly) and to adapt the code in order to get the best results for your own collection. \n",
    "\n",
    "You can change the size of training and testing corpus by changing the number in following line: msk = np.random.rand(len(df)) < 0.599"
   ]
  },
  {
   "cell_type": "code",
   "execution_count": 53,
   "metadata": {},
   "outputs": [],
   "source": [
    "# create a mask of binary values\n",
    "msk = np.random.rand(len(df)) < 0.699"
   ]
  },
  {
   "cell_type": "code",
   "execution_count": 54,
   "metadata": {},
   "outputs": [],
   "source": [
    "train_df = df[msk]\n",
    "train_df.reset_index(drop=True,inplace=True)\n",
    "\n",
    "test_df = df[~msk]\n",
    "test_df.reset_index(drop=True,inplace=True)"
   ]
  },
  {
   "cell_type": "code",
   "execution_count": 55,
   "metadata": {},
   "outputs": [
    {
     "name": "stdout",
     "output_type": "stream",
     "text": [
      "193 132 61\n"
     ]
    }
   ],
   "source": [
    "print(len(df),len(train_df),len(test_df))"
   ]
  },
  {
   "cell_type": "markdown",
   "metadata": {},
   "source": [
    "## Create topic models using your training corpus <a class=\"anchor\" id=\"10-bullet\"></a>\n",
    "\n",
    "The function \"train_lda\" trains the lda model. You can change the parameters like number of topics or chunksize. To distinguish between relevant and non-relevant articles, a high number of topics is best suited. Of course, this can change from research question to research question, and it makes sense to train your models with a changing number of topics to find out which amount works best for your collection.\n",
    "\n",
    "We also do several passes of the data since this is a small dataset, so we want the distributions to stabilize. \n"
   ]
  },
  {
   "cell_type": "code",
   "execution_count": 56,
   "metadata": {},
   "outputs": [],
   "source": [
    "def train_lda(data):\n",
    "    num_topics = 250\n",
    "    chunksize = 300\n",
    "    dictionary = corpora.Dictionary(data['tokenized'])\n",
    "    corpus = [dictionary.doc2bow(doc) for doc in data['tokenized']]\n",
    "    t1 = time.time()\n",
    "    # low alpha means each document is only represented by a small number of topics, and vice versa\n",
    "    # low eta means each topic is only represented by a small number of words, and vice versa\n",
    "    lda = LdaModel(corpus=corpus, num_topics=num_topics, id2word=dictionary,\n",
    "                   alpha=1e-2, eta=0.5e-2, chunksize=chunksize, minimum_probability=0.0, passes=4)\n",
    "    t2 = time.time()\n",
    "    print(\"Time to train LDA model on \", len(train_df), \"articles: \", (t2-t1)/60, \"min\")\n",
    "    return dictionary,corpus,lda"
   ]
  },
  {
   "cell_type": "code",
   "execution_count": 57,
   "metadata": {},
   "outputs": [
    {
     "name": "stdout",
     "output_type": "stream",
     "text": [
      "Time to train LDA model on  132 articles:  0.4141575932502747 min\n"
     ]
    }
   ],
   "source": [
    "dictionary,corpus,lda = train_lda(train_df)"
   ]
  },
  {
   "cell_type": "markdown",
   "metadata": {},
   "source": [
    "Inspect the outcome of your topics. You can see all your topics in changing the topicid to the number of topic you want to see. You can also adapt the number of tokens (topn) by changing the number. "
   ]
  },
  {
   "cell_type": "code",
   "execution_count": 58,
   "metadata": {},
   "outputs": [
    {
     "data": {
      "text/plain": [
       "[('criminalfal', 0.00016347882),\n",
       " ('baron', 0.00016347882),\n",
       " ('klingspor', 0.00016347882),\n",
       " ('anklag', 0.00016347882),\n",
       " ('allabendlich', 0.00016347882),\n",
       " ('beachtet', 0.00016347882),\n",
       " ('auflauern', 0.00016347882),\n",
       " ('brotmess', 0.00016347882),\n",
       " ('interessanten', 0.00016347882),\n",
       " ('danzing', 0.00016347882),\n",
       " ('dienstgeb', 0.00016347882),\n",
       " ('einzelheiten', 0.00016347882),\n",
       " ('gespannt', 0.00016347882),\n",
       " ('handgemeng', 0.00016347882),\n",
       " ('handl', 0.00016347882),\n",
       " ('hausthür', 0.00016347882),\n",
       " ('hofrath', 0.00016347882),\n",
       " ('breier', 0.00016347882),\n",
       " ('begab', 0.00016347882),\n",
       " ('beraubt', 0.00016347882)]"
      ]
     },
     "execution_count": 58,
     "metadata": {},
     "output_type": "execute_result"
    }
   ],
   "source": [
    "\n",
    "\n",
    "lda.show_topic(topicid=0, topn=20)\n",
    "\n"
   ]
  },
  {
   "cell_type": "markdown",
   "metadata": {},
   "source": [
    "## Find the dominant topic for each article <a class=\"anchor\" id=\"11-bullet\"></a>\n",
    "\n",
    "This function will find the most dominant topic for each article in your training corpus. The manual annotated relevance label of each article is includet in the graph. This makes it possible to visualize relevant and non-relevant articles together with their dominant topics. This visualization helps to see how effective the models were trained. The fewer articles share the same dominant topic, the better the results: \n",
    "\n"
   ]
  },
  {
   "cell_type": "code",
   "execution_count": 59,
   "metadata": {},
   "outputs": [
    {
     "data": {
      "text/html": [
       "<div>\n",
       "<style scoped>\n",
       "    .dataframe tbody tr th:only-of-type {\n",
       "        vertical-align: middle;\n",
       "    }\n",
       "\n",
       "    .dataframe tbody tr th {\n",
       "        vertical-align: top;\n",
       "    }\n",
       "\n",
       "    .dataframe thead th {\n",
       "        text-align: right;\n",
       "    }\n",
       "</style>\n",
       "<table border=\"1\" class=\"dataframe\">\n",
       "  <thead>\n",
       "    <tr style=\"text-align: right;\">\n",
       "      <th></th>\n",
       "      <th>Document_No</th>\n",
       "      <th>Dominant_Topic</th>\n",
       "      <th>Topic_Perc_Contrib</th>\n",
       "      <th>Keywords</th>\n",
       "      <th>Relevancy</th>\n",
       "    </tr>\n",
       "  </thead>\n",
       "  <tbody>\n",
       "    <tr>\n",
       "      <td>0</td>\n",
       "      <td>0</td>\n",
       "      <td>119.0</td>\n",
       "      <td>0.9336</td>\n",
       "      <td>pg, rückwander, letzten, zahl, herben, nation,...</td>\n",
       "      <td>3</td>\n",
       "    </tr>\n",
       "    <tr>\n",
       "      <td>1</td>\n",
       "      <td>1</td>\n",
       "      <td>175.0</td>\n",
       "      <td>0.9917</td>\n",
       "      <td>dö, wo, göd, mohrenkönig, heilig, holt, mutter...</td>\n",
       "      <td>0</td>\n",
       "    </tr>\n",
       "    <tr>\n",
       "      <td>2</td>\n",
       "      <td>2</td>\n",
       "      <td>129.0</td>\n",
       "      <td>0.9194</td>\n",
       "      <td>millionen, lire, schatzminist, finanziellen, w...</td>\n",
       "      <td>3</td>\n",
       "    </tr>\n",
       "    <tr>\n",
       "      <td>3</td>\n",
       "      <td>3</td>\n",
       "      <td>33.0</td>\n",
       "      <td>0.9620</td>\n",
       "      <td>innsbruck, heimat, blatternerkrankungen, bosni...</td>\n",
       "      <td>0</td>\n",
       "    </tr>\n",
       "    <tr>\n",
       "      <td>4</td>\n",
       "      <td>4</td>\n",
       "      <td>162.0</td>\n",
       "      <td>0.9476</td>\n",
       "      <td>gauleit, gau, schwere, adolf, erwachsen, meldu...</td>\n",
       "      <td>0</td>\n",
       "    </tr>\n",
       "  </tbody>\n",
       "</table>\n",
       "</div>"
      ],
      "text/plain": [
       "   Document_No  Dominant_Topic  Topic_Perc_Contrib  \\\n",
       "0            0           119.0              0.9336   \n",
       "1            1           175.0              0.9917   \n",
       "2            2           129.0              0.9194   \n",
       "3            3            33.0              0.9620   \n",
       "4            4           162.0              0.9476   \n",
       "\n",
       "                                            Keywords  Relevancy  \n",
       "0  pg, rückwander, letzten, zahl, herben, nation,...          3  \n",
       "1  dö, wo, göd, mohrenkönig, heilig, holt, mutter...          0  \n",
       "2  millionen, lire, schatzminist, finanziellen, w...          3  \n",
       "3  innsbruck, heimat, blatternerkrankungen, bosni...          0  \n",
       "4  gauleit, gau, schwere, adolf, erwachsen, meldu...          0  "
      ]
     },
     "execution_count": 59,
     "metadata": {},
     "output_type": "execute_result"
    }
   ],
   "source": [
    "def format_topics_sentences(ldamodel=None, corpus=corpus, relevancy=df['relevancy']):\n",
    "    # Init output\n",
    "    sent_topics_df = pd.DataFrame()\n",
    "\n",
    "    # Get main topic in each document\n",
    "    for i, row in enumerate(ldamodel[corpus]):\n",
    "        row = sorted(row, key=lambda x: (x[1]), reverse=True)\n",
    "        # Get the Dominant topic, Perc Contribution and Keywords for each document\n",
    "        for j, (topic_num, prop_topic) in enumerate(row):\n",
    "            if j == 0:  # => dominant topic\n",
    "                wp = ldamodel.show_topic(topic_num)\n",
    "                topic_keywords = \", \".join([word for word, prop in wp])\n",
    "                sent_topics_df = sent_topics_df.append(pd.Series([int(topic_num), round(prop_topic,4), topic_keywords]), ignore_index=True)\n",
    "            else:\n",
    "                break\n",
    "    sent_topics_df.columns = ['Dominant_Topic', 'Perc_Contribution', 'Topic_Keywords']\n",
    "\n",
    "    # Add relevancy to the end of the output\n",
    "    contents = pd.Series(relevancy)\n",
    "    \n",
    "    sent_topics_df = pd.concat([sent_topics_df, contents], axis=1)\n",
    "    return(sent_topics_df)\n",
    "\n",
    "\n",
    "df_topic_sents_keywords = format_topics_sentences(ldamodel=lda, corpus=corpus, relevancy=df['relevancy'])\n",
    "\n",
    "# Format\n",
    "df_dominant_topic = df_topic_sents_keywords.reset_index()\n",
    "df_dominant_topic.columns = ['Document_No', 'Dominant_Topic', 'Topic_Perc_Contrib', 'Keywords', 'Relevancy']\n",
    "\n",
    "# Show\n",
    "df_dominant_topic.head(5)"
   ]
  },
  {
   "cell_type": "markdown",
   "metadata": {},
   "source": [
    "We save the output as csv and create lists using the numbers of the dominant topic and numbers of the relevancy level"
   ]
  },
  {
   "cell_type": "code",
   "execution_count": 60,
   "metadata": {},
   "outputs": [],
   "source": [
    "df_dominant_topic.to_csv('topic_relevancy.csv')"
   ]
  },
  {
   "cell_type": "code",
   "execution_count": 61,
   "metadata": {},
   "outputs": [],
   "source": [
    "import csv"
   ]
  },
  {
   "cell_type": "code",
   "execution_count": 62,
   "metadata": {},
   "outputs": [],
   "source": [
    "with open('topic_relevancy.csv', 'r') as infile:\n",
    "    reader = csv.reader(infile)    \n",
    "    csv_data = list(reader)"
   ]
  },
  {
   "cell_type": "code",
   "execution_count": 63,
   "metadata": {},
   "outputs": [],
   "source": [
    "df_dominant_topics= pd.read_csv('topic_relevancy.csv', usecols = ['Dominant_Topic', 'Relevancy'])\n"
   ]
  },
  {
   "cell_type": "code",
   "execution_count": 64,
   "metadata": {},
   "outputs": [],
   "source": [
    "list_topic = []\n",
    "for key in csv_data: \n",
    "    list_topic.append(key[2])\n",
    "topic = list_topic[1:]\n",
    "\n",
    "list_relevancy = []\n",
    "for key in csv_data:\n",
    "    list_relevancy.append(key[5])\n",
    "relevance = list_relevancy[1:]   "
   ]
  },
  {
   "cell_type": "markdown",
   "metadata": {},
   "source": [
    "Create a network visualization to see how well the dominant topics are separated between relevant (3) and non-relevant (0) articles. This helps to see if your topics are clearly related to the relevant articles or to the non-relevant articles. "
   ]
  },
  {
   "cell_type": "code",
   "execution_count": 65,
   "metadata": {},
   "outputs": [
    {
     "data": {
      "image/png": "[encoded data removed]",
      "text/plain": [
       "<Figure size 432x288 with 1 Axes>"
      ]
     },
     "metadata": {},
     "output_type": "display_data"
    }
   ],
   "source": [
    "import pandas as pd\n",
    "import numpy as np\n",
    "import networkx as nx\n",
    "import matplotlib.pyplot as plt\n",
    "\n",
    "# Build a dataframe with 4 connections\n",
    "df = pd.DataFrame({ 'from': relevance, 'to': topic})\n",
    "df\n",
    "\n",
    "# Build your graph\n",
    "G = nx.from_pandas_edgelist(df, 'from', 'to')\n",
    "\n",
    "\n",
    "\n",
    "# Plot it\n",
    "nx.draw(G, with_labels=True)\n",
    "plt.show()"
   ]
  },
  {
   "cell_type": "markdown",
   "metadata": {},
   "source": [
    "To check out the results, you can also inspect the topics one by one. Choose a topic connected to a relevant article (3) and compare it with a topic conntected to a non-relevant article. If the results do not make sense, restart the kurnel and train the models again. "
   ]
  },
  {
   "cell_type": "code",
   "execution_count": 66,
   "metadata": {},
   "outputs": [
    {
     "data": {
      "text/plain": [
       "[('millionen', 0.0007885565),\n",
       " ('auswanderung', 0.00078484794),\n",
       " ('berechnet', 0.0007834034),\n",
       " ('summen', 0.0006210406),\n",
       " ('deutschen', 0.0005059217),\n",
       " ('krieg', 0.0004965126),\n",
       " ('200', 0.00047860318),\n",
       " ('auswander', 0.00046018776),\n",
       " ('mark', 0.00043525724),\n",
       " ('anlagekapit', 0.000433686),\n",
       " ('gulden', 0.00042147705),\n",
       " ('20', 0.0004104384),\n",
       " ('volksvermögen', 0.00038006177),\n",
       " ('bedeutend', 0.00037227743),\n",
       " ('deutschland', 0.00036329936),\n",
       " ('schwankt', 0.00034183337),\n",
       " ('berechnen', 0.00032746771),\n",
       " ('jährlich', 0.0003259285),\n",
       " ('amtlichen', 0.00032044106),\n",
       " ('mitgebracht', 0.00031460586)]"
      ]
     },
     "execution_count": 66,
     "metadata": {},
     "output_type": "execute_result"
    }
   ],
   "source": [
    "lda.show_topic(topicid=99, topn=20)"
   ]
  },
  {
   "cell_type": "markdown",
   "metadata": {},
   "source": [
    "Insepct the shared topics and find out what tokens are often shared between relevant and non-relevant articles (it might help to remove some of these words in order to improve the segmentation) "
   ]
  },
  {
   "cell_type": "code",
   "execution_count": 67,
   "metadata": {},
   "outputs": [
    {
     "name": "stdout",
     "output_type": "stream",
     "text": [
      "['', '248.0', '139.0', '110.0', '77.0', '23.0', '130.0', '29.0', '97.0', '181.0', '33.0', '174.0', '187.0', '198.0', '205.0', '129.0', '177.0', '125.0', '48.0', '164.0', '200.0', '119.0', '86.0', '85.0', '121.0', '222.0', '223.0', '186.0', '15.0', '197.0']\n"
     ]
    }
   ],
   "source": [
    "# Inspect the shared topics\n",
    "topic_share = [x for x in set(topic) if topic.count(x) > 1]\n",
    "print(topic_share)"
   ]
  },
  {
   "cell_type": "markdown",
   "metadata": {},
   "source": [
    "## Find similar articles using the Jensen Shannon function <a class=\"anchor\" id=\"12-bullet\"></a>\n",
    "\n",
    "Now lets see if the articles in the test corpus you created are relevant or irrelevant to your research question. Therefore, we compare each unseen article in the test corpus with the topic distribution of the articles in the trained corpus. \n",
    "\n",
    "The first function implements a Jensen-Shannon similarity between the input query (an LDA topic distribution for a document)and the entire corpus of topic distributions. It returns an array of length M where M is the number of documents in the corpus. The second function implements the Jensen-Shannon distance above and retruns the top k (in our case 10) indices of the smallest jensen shannon distances. \n",
    "\n",
    "### make sure you are using the scipy version 1.3.1"
   ]
  },
  {
   "cell_type": "code",
   "execution_count": 68,
   "metadata": {},
   "outputs": [],
   "source": [
    "def jensen_shannon(query, matrix):\n",
    "    p = query[None,:].T \n",
    "    q = matrix.T \n",
    "    m = 0.5*(p + q)\n",
    "    return np.sqrt(0.5*(entropy(p,m) + entropy(q,m)))"
   ]
  },
  {
   "cell_type": "code",
   "execution_count": 69,
   "metadata": {},
   "outputs": [],
   "source": [
    "def get_most_similar_documents(query,matrix,k=10):\n",
    "    sims = jensen_shannon(query,matrix) \n",
    "    return sims.argsort()[:k] "
   ]
  },
  {
   "cell_type": "markdown",
   "metadata": {},
   "source": [
    "Now we compare every single article in the test corpus with the articles in the train corpus. Each useen article gets 10 most similar articles from the training corpus. If 60 percent of the automatically found similar articles were manually annotated as relevant, the new article will be marked as relevant. \n",
    "You can change the numner in line: if sum(most_similar_df['relevancy']) > 17. Check out what is happing if you change the number to 14 or 20. \n"
   ]
  },
  {
   "cell_type": "code",
   "execution_count": 70,
   "metadata": {},
   "outputs": [],
   "source": [
    "#create lists for your output\n",
    "\n",
    "text_relevant = []\n",
    "number_relevant = []\n",
    "text_non_relevant = []\n",
    "number_non_relevant = []\n",
    "\n",
    "#find most similar articles and select between relevant and non-relevant\n",
    "\n",
    "index = 0\n",
    "while index < len(test_df) -1:\n",
    "    index +=1\n",
    "    new_bow = dictionary.doc2bow(test_df.iloc[index,2])\n",
    "    new_doc_distribution = np.array([tup[1] for tup in lda.get_document_topics(bow=new_bow)])\n",
    "    doc_topic_dist = np.stack([np.array([tup[1] for tup in lst]) for lst in lda[corpus]])\n",
    "    doc_topic_dist.shape\n",
    "    most_sim_ids = get_most_similar_documents(new_doc_distribution,doc_topic_dist)\n",
    "    most_similar_df = train_df[train_df.index.isin(most_sim_ids)]\n",
    "    relevant = []\n",
    "    if sum(most_similar_df['relevancy']) > 17: \n",
    "        text_relevant.append(test_df.iloc[index,1])\n",
    "        number_relevant.append(test_df.iloc[index,0])\n",
    "    else:\n",
    "        text_non_relevant.append(test_df.iloc[index,1])\n",
    "        number_non_relevant.append(test_df.iloc[index,0])\n",
    "    pass\n",
    "\n"
   ]
  },
  {
   "cell_type": "code",
   "execution_count": 71,
   "metadata": {
    "scrolled": true
   },
   "outputs": [
    {
     "data": {
      "text/html": [
       "<div>\n",
       "<style scoped>\n",
       "    .dataframe tbody tr th:only-of-type {\n",
       "        vertical-align: middle;\n",
       "    }\n",
       "\n",
       "    .dataframe tbody tr th {\n",
       "        vertical-align: top;\n",
       "    }\n",
       "\n",
       "    .dataframe thead th {\n",
       "        text-align: right;\n",
       "    }\n",
       "</style>\n",
       "<table border=\"1\" class=\"dataframe\">\n",
       "  <thead>\n",
       "    <tr style=\"text-align: right;\">\n",
       "      <th></th>\n",
       "      <th>Relevant_Text</th>\n",
       "      <th>3</th>\n",
       "      <th>Non_Relevant_Text</th>\n",
       "      <th>0</th>\n",
       "    </tr>\n",
       "  </thead>\n",
       "  <tbody>\n",
       "    <tr>\n",
       "      <td>0</td>\n",
       "      <td>Die geraubten Malvinen müssen wieder zurück!\\n...</td>\n",
       "      <td>0</td>\n",
       "      <td>Welt schaffen, daß es die alliierten Agressore...</td>\n",
       "      <td>0</td>\n",
       "    </tr>\n",
       "    <tr>\n",
       "      <td>1</td>\n",
       "      <td>Das ist alles recht schön, aber jedenfalls\\nei...</td>\n",
       "      <td>3</td>\n",
       "      <td>Der Stand der Sonne erinnerte Henriette daran,...</td>\n",
       "      <td>0</td>\n",
       "    </tr>\n",
       "    <tr>\n",
       "      <td>2</td>\n",
       "      <td>Tomaschek war nach Kriegsausbruch eingerückt, ...</td>\n",
       "      <td>3</td>\n",
       "      <td>Die äußeren Ursachen sind bekannt: Die Rückwan...</td>\n",
       "      <td>0</td>\n",
       "    </tr>\n",
       "    <tr>\n",
       "      <td>3</td>\n",
       "      <td>Nach Südamerika wanderten aus über Triest\\nim ...</td>\n",
       "      <td>3</td>\n",
       "      <td>die ebenso spannend ist wie das ihr zugrunde l...</td>\n",
       "      <td>0</td>\n",
       "    </tr>\n",
       "    <tr>\n",
       "      <td>4</td>\n",
       "      <td>Die Militärverwaltung hat sich von vornherein ...</td>\n",
       "      <td>3</td>\n",
       "      <td>doch unwiderruflich für alle Zukunft mein Lage...</td>\n",
       "      <td>0</td>\n",
       "    </tr>\n",
       "    <tr>\n",
       "      <td>5</td>\n",
       "      <td>Ein großer Teil der bosnischen Rückwanderer — ...</td>\n",
       "      <td>3</td>\n",
       "      <td>Daß die Versorgung der Heimkehrenden in der\\ne...</td>\n",
       "      <td>3</td>\n",
       "    </tr>\n",
       "    <tr>\n",
       "      <td>6</td>\n",
       "      <td>gd. Schwaz. Zum Tode des Ortsgruppenleiters\\nF...</td>\n",
       "      <td>0</td>\n",
       "      <td>In unserem Gymnasium gab es Schüler,\\ndie wir ...</td>\n",
       "      <td>0</td>\n",
       "    </tr>\n",
       "    <tr>\n",
       "      <td>7</td>\n",
       "      <td>Millionen Soldaten, die im großen Weltkrieg fü...</td>\n",
       "      <td>0</td>\n",
       "      <td>überragendsten Denker der deutschen Geistesges...</td>\n",
       "      <td>0</td>\n",
       "    </tr>\n",
       "    <tr>\n",
       "      <td>8</td>\n",
       "      <td>Der Schatzminister bezifferte die vom August 1...</td>\n",
       "      <td>3</td>\n",
       "      <td>Der Aufbau in der Ostmark\\nGauleiter Dr. Jury ...</td>\n",
       "      <td>0</td>\n",
       "    </tr>\n",
       "    <tr>\n",
       "      <td>9</td>\n",
       "      <td>Chiasso, 20. Mai. Jeder Schnellzug aus\\nChiass...</td>\n",
       "      <td>3</td>\n",
       "      <td>jahre die Ermächtigung des Völkerbundes erteil...</td>\n",
       "      <td>0</td>\n",
       "    </tr>\n",
       "    <tr>\n",
       "      <td>10</td>\n",
       "      <td>Der Ausbruch des europäischen Konfliktes besch...</td>\n",
       "      <td>3</td>\n",
       "      <td>säule. Zugleich aber fiel das Barometer, und s...</td>\n",
       "      <td>0</td>\n",
       "    </tr>\n",
       "    <tr>\n",
       "      <td>11</td>\n",
       "      <td>Eine der brennendsten Fragen der ungarischen\\n...</td>\n",
       "      <td>3</td>\n",
       "      <td>Repertoire des Raimund=Theaters: Sonntag\\nden ...</td>\n",
       "      <td>0</td>\n",
       "    </tr>\n",
       "    <tr>\n",
       "      <td>12</td>\n",
       "      <td>Zu den Forderungen, deren Befriedigungsfonds i...</td>\n",
       "      <td>3</td>\n",
       "      <td>Berlin, 19. Mai. Ueber die eigentlichen Ursach...</td>\n",
       "      <td>3</td>\n",
       "    </tr>\n",
       "    <tr>\n",
       "      <td>13</td>\n",
       "      <td>dem englisch=amerikanischen Schiffahrtstrust u...</td>\n",
       "      <td>3</td>\n",
       "      <td>London, 5. Dezember\\nDie Rückwanderung des in ...</td>\n",
       "      <td>0</td>\n",
       "    </tr>\n",
       "    <tr>\n",
       "      <td>14</td>\n",
       "      <td>In der holländischen\\nHafenstadt Rotterdam\\nun...</td>\n",
       "      <td>3</td>\n",
       "      <td>Rückwanderung europäischer Fluchtgelder\\nNewyo...</td>\n",
       "      <td>0</td>\n",
       "    </tr>\n",
       "    <tr>\n",
       "      <td>15</td>\n",
       "      <td>Tausende von Volksgenossen haben in diesem Jah...</td>\n",
       "      <td>3</td>\n",
       "      <td>Die Lleche, Fante  umt ja shoarz. de D fiunz i...</td>\n",
       "      <td>0</td>\n",
       "    </tr>\n",
       "    <tr>\n",
       "      <td>16</td>\n",
       "      <td>reichisch=bosnischen Interessentenverband\\nReg...</td>\n",
       "      <td>3</td>\n",
       "      <td>neues Leben zu beginnen. Er will von ihr das\\n...</td>\n",
       "      <td>0</td>\n",
       "    </tr>\n",
       "    <tr>\n",
       "      <td>17</td>\n",
       "      <td>Die Regelung des Auswandererverkehres in\\nOest...</td>\n",
       "      <td>3</td>\n",
       "      <td>Die Wiltener und die Mühlauer Musik spielten a...</td>\n",
       "      <td>0</td>\n",
       "    </tr>\n",
       "    <tr>\n",
       "      <td>18</td>\n",
       "      <td>Noues Gesetz. Wenn Sie jetzt Fi\\nmehr als zwei...</td>\n",
       "      <td>3</td>\n",
       "      <td>zeigt die Erfahrung, daß sich Exemplare dessel...</td>\n",
       "      <td>0</td>\n",
       "    </tr>\n",
       "    <tr>\n",
       "      <td>19</td>\n",
       "      <td>In Tirano trafen nun lange Züge italieni\\nsche...</td>\n",
       "      <td>3</td>\n",
       "      <td>NaN</td>\n",
       "      <td>NaN</td>\n",
       "    </tr>\n",
       "    <tr>\n",
       "      <td>20</td>\n",
       "      <td>Das Großdeutsche Reich hat die baltendeutschen...</td>\n",
       "      <td>3</td>\n",
       "      <td>NaN</td>\n",
       "      <td>NaN</td>\n",
       "    </tr>\n",
       "    <tr>\n",
       "      <td>21</td>\n",
       "      <td>Serie der Urlauber rückt wieder ein. Mehr wind...</td>\n",
       "      <td>3</td>\n",
       "      <td>NaN</td>\n",
       "      <td>NaN</td>\n",
       "    </tr>\n",
       "    <tr>\n",
       "      <td>22</td>\n",
       "      <td>Es folgen dann Bestimmungen über die Verpflegu...</td>\n",
       "      <td>3</td>\n",
       "      <td>NaN</td>\n",
       "      <td>NaN</td>\n",
       "    </tr>\n",
       "    <tr>\n",
       "      <td>23</td>\n",
       "      <td>Beamtenheimstättenwerkes wird nunmehr auch auf...</td>\n",
       "      <td>0</td>\n",
       "      <td>NaN</td>\n",
       "      <td>NaN</td>\n",
       "    </tr>\n",
       "    <tr>\n",
       "      <td>24</td>\n",
       "      <td>regung hervorgerufen hat. Man hat den Eintritt...</td>\n",
       "      <td>3</td>\n",
       "      <td>NaN</td>\n",
       "      <td>NaN</td>\n",
       "    </tr>\n",
       "    <tr>\n",
       "      <td>25</td>\n",
       "      <td>Dazu veröffentlicht Reichsminister Dr. Goebbel...</td>\n",
       "      <td>3</td>\n",
       "      <td>NaN</td>\n",
       "      <td>NaN</td>\n",
       "    </tr>\n",
       "    <tr>\n",
       "      <td>26</td>\n",
       "      <td>rungen für Kinderreiche usw. Wirtschaftliche N...</td>\n",
       "      <td>3</td>\n",
       "      <td>NaN</td>\n",
       "      <td>NaN</td>\n",
       "    </tr>\n",
       "    <tr>\n",
       "      <td>27</td>\n",
       "      <td>auf das schärfste zurückzuweisen.\\nDer Kriegsm...</td>\n",
       "      <td>3</td>\n",
       "      <td>NaN</td>\n",
       "      <td>NaN</td>\n",
       "    </tr>\n",
       "    <tr>\n",
       "      <td>28</td>\n",
       "      <td>[Aus der Lechner'schen Weihnachtsausstellung.]...</td>\n",
       "      <td>0</td>\n",
       "      <td>NaN</td>\n",
       "      <td>NaN</td>\n",
       "    </tr>\n",
       "    <tr>\n",
       "      <td>29</td>\n",
       "      <td>Köln, 15. September.\\nAus Kiel meldet die „Köl...</td>\n",
       "      <td>0</td>\n",
       "      <td>NaN</td>\n",
       "      <td>NaN</td>\n",
       "    </tr>\n",
       "  </tbody>\n",
       "</table>\n",
       "</div>"
      ],
      "text/plain": [
       "                                        Relevant_Text  3  \\\n",
       "0   Die geraubten Malvinen müssen wieder zurück!\\n...  0   \n",
       "1   Das ist alles recht schön, aber jedenfalls\\nei...  3   \n",
       "2   Tomaschek war nach Kriegsausbruch eingerückt, ...  3   \n",
       "3   Nach Südamerika wanderten aus über Triest\\nim ...  3   \n",
       "4   Die Militärverwaltung hat sich von vornherein ...  3   \n",
       "5   Ein großer Teil der bosnischen Rückwanderer — ...  3   \n",
       "6   gd. Schwaz. Zum Tode des Ortsgruppenleiters\\nF...  0   \n",
       "7   Millionen Soldaten, die im großen Weltkrieg fü...  0   \n",
       "8   Der Schatzminister bezifferte die vom August 1...  3   \n",
       "9   Chiasso, 20. Mai. Jeder Schnellzug aus\\nChiass...  3   \n",
       "10  Der Ausbruch des europäischen Konfliktes besch...  3   \n",
       "11  Eine der brennendsten Fragen der ungarischen\\n...  3   \n",
       "12  Zu den Forderungen, deren Befriedigungsfonds i...  3   \n",
       "13  dem englisch=amerikanischen Schiffahrtstrust u...  3   \n",
       "14  In der holländischen\\nHafenstadt Rotterdam\\nun...  3   \n",
       "15  Tausende von Volksgenossen haben in diesem Jah...  3   \n",
       "16  reichisch=bosnischen Interessentenverband\\nReg...  3   \n",
       "17  Die Regelung des Auswandererverkehres in\\nOest...  3   \n",
       "18  Noues Gesetz. Wenn Sie jetzt Fi\\nmehr als zwei...  3   \n",
       "19  In Tirano trafen nun lange Züge italieni\\nsche...  3   \n",
       "20  Das Großdeutsche Reich hat die baltendeutschen...  3   \n",
       "21  Serie der Urlauber rückt wieder ein. Mehr wind...  3   \n",
       "22  Es folgen dann Bestimmungen über die Verpflegu...  3   \n",
       "23  Beamtenheimstättenwerkes wird nunmehr auch auf...  0   \n",
       "24  regung hervorgerufen hat. Man hat den Eintritt...  3   \n",
       "25  Dazu veröffentlicht Reichsminister Dr. Goebbel...  3   \n",
       "26  rungen für Kinderreiche usw. Wirtschaftliche N...  3   \n",
       "27  auf das schärfste zurückzuweisen.\\nDer Kriegsm...  3   \n",
       "28  [Aus der Lechner'schen Weihnachtsausstellung.]...  0   \n",
       "29  Köln, 15. September.\\nAus Kiel meldet die „Köl...  0   \n",
       "\n",
       "                                    Non_Relevant_Text    0  \n",
       "0   Welt schaffen, daß es die alliierten Agressore...    0  \n",
       "1   Der Stand der Sonne erinnerte Henriette daran,...    0  \n",
       "2   Die äußeren Ursachen sind bekannt: Die Rückwan...    0  \n",
       "3   die ebenso spannend ist wie das ihr zugrunde l...    0  \n",
       "4   doch unwiderruflich für alle Zukunft mein Lage...    0  \n",
       "5   Daß die Versorgung der Heimkehrenden in der\\ne...    3  \n",
       "6   In unserem Gymnasium gab es Schüler,\\ndie wir ...    0  \n",
       "7   überragendsten Denker der deutschen Geistesges...    0  \n",
       "8   Der Aufbau in der Ostmark\\nGauleiter Dr. Jury ...    0  \n",
       "9   jahre die Ermächtigung des Völkerbundes erteil...    0  \n",
       "10  säule. Zugleich aber fiel das Barometer, und s...    0  \n",
       "11  Repertoire des Raimund=Theaters: Sonntag\\nden ...    0  \n",
       "12  Berlin, 19. Mai. Ueber die eigentlichen Ursach...    3  \n",
       "13  London, 5. Dezember\\nDie Rückwanderung des in ...    0  \n",
       "14  Rückwanderung europäischer Fluchtgelder\\nNewyo...    0  \n",
       "15  Die Lleche, Fante  umt ja shoarz. de D fiunz i...    0  \n",
       "16  neues Leben zu beginnen. Er will von ihr das\\n...    0  \n",
       "17  Die Wiltener und die Mühlauer Musik spielten a...    0  \n",
       "18  zeigt die Erfahrung, daß sich Exemplare dessel...    0  \n",
       "19                                                NaN  NaN  \n",
       "20                                                NaN  NaN  \n",
       "21                                                NaN  NaN  \n",
       "22                                                NaN  NaN  \n",
       "23                                                NaN  NaN  \n",
       "24                                                NaN  NaN  \n",
       "25                                                NaN  NaN  \n",
       "26                                                NaN  NaN  \n",
       "27                                                NaN  NaN  \n",
       "28                                                NaN  NaN  \n",
       "29                                                NaN  NaN  "
      ]
     },
     "execution_count": 71,
     "metadata": {},
     "output_type": "execute_result"
    }
   ],
   "source": [
    "#Create a dataframe with the automatically selected relevant and non-relevant articles\n",
    "\n",
    "df_relevant = pd.DataFrame(np.column_stack([text_relevant, number_relevant]), \n",
    "                               columns=['Relevant_Text', 'Real_Relevancy'])\n",
    "\n",
    "df_non_relevant = pd.DataFrame(np.column_stack([text_non_relevant, number_non_relevant]), \n",
    "                               columns=['Unrelevant_Text', 'Real_Revelancy'])\n",
    "\n",
    "\n",
    "df_results = pd.concat([df_relevant,df_non_relevant], ignore_index=True, axis=1)\n",
    "df_results.columns=['Relevant_Text', '3','Non_Relevant_Text', '0']\n",
    "df_results.head(30)"
   ]
  },
  {
   "cell_type": "markdown",
   "metadata": {},
   "source": [
    "## Calculate the score of the output <a class=\"anchor\" id=\"13-bullet\"></a>\n",
    "\n",
    "Repeat the calculation (topic models need sometimes several rounds) or adapt the code until you get  a higher score than 80 percent. If you get a higher score than 80 percent, you can continue with your whole dataset. It is recommended to train the models at least twice. "
   ]
  },
  {
   "cell_type": "code",
   "execution_count": 72,
   "metadata": {},
   "outputs": [
    {
     "data": {
      "text/plain": [
       "'Your score is: 0.8333333333333334'"
      ]
     },
     "execution_count": 72,
     "metadata": {},
     "output_type": "execute_result"
    }
   ],
   "source": [
    "rev_3 = []\n",
    "for key in df_results['3']:\n",
    "    if key == '3':\n",
    "        rev_3.append(key)\n",
    "rev_0 = []\n",
    "for key in df_results['3']:\n",
    "    if key == '0':\n",
    "        rev_0.append(key)\n",
    "non_rev_3 = []\n",
    "for key in df_results['0']:\n",
    "    if key == '3':\n",
    "        non_rev_3.append(key)\n",
    "non_rev_0 = []\n",
    "for key in df_results['0']:\n",
    "    if key == '0':\n",
    "        non_rev_0.append(key)\n",
    "result_right = len(non_rev_0) + len(rev_3)\n",
    "result_wrng = len(non_rev_3) + len(rev_0)\n",
    "all = len(non_rev_3) + len(rev_0) + len(non_rev_0) + len(rev_3)\n",
    "score = result_right / all\n",
    "f\"Your score is: {score}\"\n",
    "\n",
    "\n"
   ]
  },
  {
   "cell_type": "markdown",
   "metadata": {},
   "source": [
    "# If your score is higher than 80 percent, you can start to use your whole collection  <a class=\"anchor\" id=\"14-bullet\"></a>\n",
    "\n",
    "Start with importing your whole collection\n"
   ]
  },
  {
   "cell_type": "code",
   "execution_count": 73,
   "metadata": {},
   "outputs": [],
   "source": [
    "df_all = pd.read_csv('export_remigration_all_04_06_2020_04_31.csv', usecols = ['id','language','date','newspaper_id','iiif_url','text'])"
   ]
  },
  {
   "cell_type": "code",
   "execution_count": 74,
   "metadata": {
    "scrolled": true
   },
   "outputs": [
    {
     "data": {
      "text/html": [
       "<div>\n",
       "<style scoped>\n",
       "    .dataframe tbody tr th:only-of-type {\n",
       "        vertical-align: middle;\n",
       "    }\n",
       "\n",
       "    .dataframe tbody tr th {\n",
       "        vertical-align: top;\n",
       "    }\n",
       "\n",
       "    .dataframe thead th {\n",
       "        text-align: right;\n",
       "    }\n",
       "</style>\n",
       "<table border=\"1\" class=\"dataframe\">\n",
       "  <thead>\n",
       "    <tr style=\"text-align: right;\">\n",
       "      <th></th>\n",
       "      <th>id</th>\n",
       "      <th>language</th>\n",
       "      <th>date</th>\n",
       "      <th>newspaper_id</th>\n",
       "      <th>iiif_url</th>\n",
       "      <th>text</th>\n",
       "    </tr>\n",
       "  </thead>\n",
       "  <tbody>\n",
       "    <tr>\n",
       "      <td>0</td>\n",
       "      <td>neue_freie_presse_nfp19180307_article_162</td>\n",
       "      <td>de</td>\n",
       "      <td>1918-03-07T00:00:00Z</td>\n",
       "      <td>neue_freie_presse</td>\n",
       "      <td>https://platform.newseye.eu/iiif/neue_freie_pr...</td>\n",
       "      <td>Nach dem Eintreffen beim zuständigen Ersatzkör...</td>\n",
       "    </tr>\n",
       "    <tr>\n",
       "      <td>1</td>\n",
       "      <td>arbeiter_zeitung_aze19210223_article_211</td>\n",
       "      <td>de</td>\n",
       "      <td>1921-02-23T00:00:00Z</td>\n",
       "      <td>arbeiter_zeitung</td>\n",
       "      <td>https://platform.newseye.eu/iiif/arbeiter_zeit...</td>\n",
       "      <td>Verein der Heimkehrer ans den Lagern WerchneUd...</td>\n",
       "    </tr>\n",
       "    <tr>\n",
       "      <td>2</td>\n",
       "      <td>innsbrucker_nachrichten_ibn19390623_article_327</td>\n",
       "      <td>de</td>\n",
       "      <td>1939-06-23T00:00:00Z</td>\n",
       "      <td>innsbrucker_nachrichten</td>\n",
       "      <td>https://platform.newseye.eu/iiif/innsbrucker_n...</td>\n",
       "      <td>Fink wohnte auf einem kleinen Anwesen, das den...</td>\n",
       "    </tr>\n",
       "    <tr>\n",
       "      <td>3</td>\n",
       "      <td>neue_freie_presse_nfp19130112_article_2049</td>\n",
       "      <td>de</td>\n",
       "      <td>1913-01-12T00:00:00Z</td>\n",
       "      <td>neue_freie_presse</td>\n",
       "      <td>https://platform.newseye.eu/iiif/neue_freie_pr...</td>\n",
       "      <td>ich daraus schließen, daß die Rückwanderung er...</td>\n",
       "    </tr>\n",
       "    <tr>\n",
       "      <td>4</td>\n",
       "      <td>arbeiter_zeitung_aze19160804_article_80</td>\n",
       "      <td>de</td>\n",
       "      <td>1916-08-04T00:00:00Z</td>\n",
       "      <td>arbeiter_zeitung</td>\n",
       "      <td>https://platform.newseye.eu/iiif/arbeiter_zeit...</td>\n",
       "      <td>Stockholen, 3. August. Die Schwedische Telegra...</td>\n",
       "    </tr>\n",
       "  </tbody>\n",
       "</table>\n",
       "</div>"
      ],
      "text/plain": [
       "                                                id language  \\\n",
       "0        neue_freie_presse_nfp19180307_article_162       de   \n",
       "1         arbeiter_zeitung_aze19210223_article_211       de   \n",
       "2  innsbrucker_nachrichten_ibn19390623_article_327       de   \n",
       "3       neue_freie_presse_nfp19130112_article_2049       de   \n",
       "4          arbeiter_zeitung_aze19160804_article_80       de   \n",
       "\n",
       "                   date             newspaper_id  \\\n",
       "0  1918-03-07T00:00:00Z        neue_freie_presse   \n",
       "1  1921-02-23T00:00:00Z         arbeiter_zeitung   \n",
       "2  1939-06-23T00:00:00Z  innsbrucker_nachrichten   \n",
       "3  1913-01-12T00:00:00Z        neue_freie_presse   \n",
       "4  1916-08-04T00:00:00Z         arbeiter_zeitung   \n",
       "\n",
       "                                            iiif_url  \\\n",
       "0  https://platform.newseye.eu/iiif/neue_freie_pr...   \n",
       "1  https://platform.newseye.eu/iiif/arbeiter_zeit...   \n",
       "2  https://platform.newseye.eu/iiif/innsbrucker_n...   \n",
       "3  https://platform.newseye.eu/iiif/neue_freie_pr...   \n",
       "4  https://platform.newseye.eu/iiif/arbeiter_zeit...   \n",
       "\n",
       "                                                text  \n",
       "0  Nach dem Eintreffen beim zuständigen Ersatzkör...  \n",
       "1  Verein der Heimkehrer ans den Lagern WerchneUd...  \n",
       "2  Fink wohnte auf einem kleinen Anwesen, das den...  \n",
       "3  ich daraus schließen, daß die Rückwanderung er...  \n",
       "4  Stockholen, 3. August. Die Schwedische Telegra...  "
      ]
     },
     "execution_count": 74,
     "metadata": {},
     "output_type": "execute_result"
    }
   ],
   "source": [
    "df_all = df_all[df_all['text'].map(type) == str]\n",
    "df_all.dropna(axis=0, inplace=True, subset=['text'])\n",
    "# shuffle the data\n",
    "df_all = df_all.sample(frac=1.0)\n",
    "df_all.reset_index(drop=True,inplace=True)\n",
    "df_all.head()"
   ]
  },
  {
   "cell_type": "markdown",
   "metadata": {},
   "source": [
    "## Clean (pre-process) your whole collection <a class=\"anchor\" id=\"15-bullet\"></a>\n",
    "\n",
    "You repeat the same steps you did with your training and testing corpus"
   ]
  },
  {
   "cell_type": "code",
   "execution_count": 77,
   "metadata": {},
   "outputs": [],
   "source": [
    "# Functions to clean, tokenize, and lemmatize the data\n",
    "def initial_clean(text):\n",
    "    text = re.sub(r'[^\\w\\s]','',text)\n",
    "    text = text.lower() \n",
    "    text = nltk.word_tokenize(text)\n",
    "    return text\n",
    "\n",
    "stop_words = stopwords.words('german')\n",
    "# add your onw stop words\n",
    "stop_words.extend([\"Heimkehr\", \"Rückkehr\", \"heimkehren\", \"zurückkehren\", \"a\", \"ab\",\"aber\",\"ach\",\"acht\",\"achte\",\"achten\",\"achter\",\"achtes\",\"ag\",\"alle\",\"allein\",\"allem\",\"allen\",\"aller\",\"allerdings\",\"alles\",\"allgemeinen\",\"als\",\"also\",\"am\",\"an\",\"andere\",\"anderen\",\"andern\",\"anders\",\"au\",\"auch\",\"auf\",\"aus\",\"ausser\",\"außer\",\"ausserdem\",\"außerdem\",\"b\",\"bald\",\"bei\",\"beide\",\"beiden\",\"beim\",\"beispiel\",\"bekannt\",\"bereits\",\"besonders\",\"besser\",\"besten\",\"bin\",\"bis\",\"bisher\",\"bist\",\"c\",\"d\",\"da\",\"dabei\",\"dadurch\",\"dafür\",\"dagegen\",\"daher\",\"dahin\",\"dahinter\",\"damals\",\"damit\",\"danach\",\"daneben\",\"dank\",\"dann\",\"daran\",\"darauf\",\"daraus\",\"darf\",\"darfst\",\"darin\",\"darüber\",\"darum\",\"darunter\",\"das\",\"dasein\",\"daselbst\",\"dass\",\"daß\",\"dasselbe\",\"davon\",\"davor\",\"dazu\",\"dazwischen\",\"dein\",\"deine\",\"deinem\",\"deiner\",\"dem\",\"dementsprechend\",\"demgegenüber\",\"demgemäss\",\"demgemäß\",\"demselben\",\"demzufolge\",\"den\",\"denen\",\"denn\",\"denselben\",\"der\",\"deren\",\"derjenige\",\"derjenigen\",\"dermassen\",\"dermaßen\",\"derselbe\",\"derselben\",\"des\",\"deshalb\",\"desselben\",\"dessen\",\"deswegen\",\"d.h\",\"dich\",\"die\",\"diejenige\",\"diejenigen\",\"dies\",\"diese\",\"dieselbe\",\"dieselben\",\"diesem\",\"diesen\",\"dieser\",\"dieses\",\"dir\",\"doch\",\"dort\",\"drei\",\"drin\",\"dritte\",\"dritten\",\"dritter\",\"drittes\",\"du\",\"durch\",\"durchaus\",\"dürfen\",\"dürft\",\"durfte\",\"durften\",\"e\",\"eben\",\"ebenso\",\"ehrlich\",\"ei\",\"ei,\",\"eigen\",\"eigene\",\"eigenen\",\"eigener\",\"eigenes\",\"ein\",\"einander\",\"eine\",\"einem\",\"einen\",\"einer\",\"eines\",\"einige\",\"einigen\",\"einiger\",\"einiges\",\"einmal\",\"eins\",\"elf\",\"en\",\"ende\",\"endlich\",\"entweder\",\"er\",\"Ernst\",\"erst\",\"erste\",\"ersten\",\"erster\",\"erstes\",\"es\",\"etwa\",\"etwas\",\"euch\",\"f\",\"früher\",\"fünf\",\"fünfte\",\"fünften\",\"fünfter\",\"fünftes\",\"für\",\"g\",\"gab\",\"ganz\",\"ganze\",\"ganzen\",\"ganzer\",\"ganzes\",\"gar\",\"gedurft\",\"gegen\",\"gegenüber\",\"gehabt\",\"gehen\",\"geht\",\"gekannt\",\"gekonnt\",\"gemacht\",\"gemocht\",\"gemusst\",\"genug\",\"gerade\",\"gern\",\"gesagt\",\"geschweige\",\"gewesen\",\"gewollt\",\"geworden\",\"gibt\",\"ging\",\"gleich\",\"gott\",\"gross\",\"groß\",\"grosse\",\"große\",\"grossen\",\"großen\",\"grosser\",\"großer\",\"grosses\",\"großes\",\"gut\",\"gute\",\"guter\",\"gutes\",\"h\",\"habe\",\"haben\",\"habt\",\"hast\",\"hat\",\"hatte\",\"hätte\",\"hatten\",\"hätten\",\"heisst\",\"her\",\"heute\",\"hier\",\"hin\",\"hinter\",\"hoch\",\"i\",\"ich\",\"ihm\",\"ihn\",\"ihnen\",\"ihr\",\"ihre\",\"ihrem\",\"ihren\",\"ihrer\",\"ihres\",\"im\",\"immer\",\"in\",\"indem\",\"infolgedessen\",\"ins\",\"irgend\",\"ist\",\"j\",\"ja\",\"jahr\",\"jahre\",\"jahren\",\"je\",\"jede\",\"jedem\",\"jeden\",\"jeder\",\"jedermann\",\"jedermanns\",\"jedoch\",\"jemand\",\"jemandem\",\"jemanden\",\"jene\",\"jenem\",\"jenen\",\"jener\",\"jenes\",\"jetzt\",\"k\",\"kam\",\"kann\",\"kannst\",\"kaum\",\"kein\",\"keine\",\"keinem\",\"keinen\",\"keiner\",\"kleine\",\"kleinen\",\"kleiner\",\"kleines\",\"kommen\",\"kommt\",\"können\",\"könnt\",\"konnte\",\"könnte\",\"konnten\",\"kurz\",\"l\",\"lang\",\"lange\",\"leicht\",\"leide\",\"lieber\",\"los\",\"m\",\"machen\",\"macht\",\"machte\",\"mag\",\"magst\",\"mahn\",\"man\",\"manche\",\"manchem\",\"manchen\",\"mancher\",\"manches\",\"mann\",\"mehr\",\"mein\",\"meine\",\"meinem\",\"meinen\",\"meiner\",\"meines\",\"mensch\",\"menschen\",\"mich\",\"mir\",\"mit\",\"mittel\",\"mochte\",\"möchte\",\"mochten\",\"mögen\",\"möglich\",\"mögt\",\"morgen\",\"muss\",\"muß\",\"müssen\",\"musst\",\"müsst\",\"musste\",\"mussten\",\"n\",\"na\",\"nach\",\"nachdem\",\"nahm\",\"natürlich\",\"neben\",\"nein\",\"neue\",\"neuen\",\"neun\",\"neunte\",\"neunten\",\"neunter\",\"neuntes\",\"nicht\",\"nichts\",\"nie\",\"niemand\",\"niemandem\",\"niemanden\",\"noch\",\"nun\",\"nur\",\"o\",\"ob\",\"oben\",\"oder\",\"offen\",\"oft\",\"ohne\",\"Ordnung\",\"p\",\"q\",\"r\",\"recht\",\"rechte\",\"rechten\",\"rechter\",\"rechtes\",\"richtig\",\"rund\",\"s\",\"sa\",\"sache\",\"sagt\",\"sagte\",\"sah\",\"satt\",\"schlecht\",\"Schluss\",\"schon\",\"sechs\",\"sechste\",\"sechsten\",\"sechster\",\"sechstes\",\"sehr\",\"sei\",\"seid\",\"seien\",\"sein\",\"seine\",\"seinem\",\"seinen\",\"seiner\",\"seines\",\"seit\",\"seitdem\",\"selbst\",\"sich\",\"sie\",\"sieben\",\"siebente\",\"siebenten\",\"siebenter\",\"siebentes\",\"sind\",\"so\",\"solang\",\"solche\",\"solchem\",\"solchen\",\"solcher\",\"solches\",\"soll\",\"sollen\",\"sollte\",\"sollten\",\"sondern\",\"sonst\",\"sowie\",\"später\",\"statt\",\"t\",\"tag\",\"tage\",\"tagen\",\"tat\",\"teil\",\"tel\",\"tritt\",\"trotzdem\",\"tun\",\"u\",\"über\",\"überhaupt\",\"übrigens\",\"uhr\",\"um\",\"und\",\"und?\",\"uns\",\"unser\",\"unsere\",\"unserer\",\"unter\",\"v\",\"vergangenen\",\"viel\",\"viele\",\"vielem\",\"vielen\",\"vielleicht\",\"vier\",\"vierte\",\"vierten\",\"vierter\",\"viertes\",\"vom\",\"von\",\"vor\",\"w\",\"wahr?\",\"während\",\"währenddem\",\"währenddessen\",\"wann\",\"war\",\"wäre\",\"waren\",\"wart\",\"warum\",\"was\",\"wegen\",\"weil\",\"weit\",\"weiter\",\"weitere\",\"weiteren\",\"weiteres\",\"welche\",\"welchem\",\"welchen\",\"welcher\",\"welches\",\"wem\",\"wen\",\"wenig\",\"wenige\",\"weniger\",\"weniges\",\"wenigstens\",\"wenn\",\"wer\",\"werde\",\"werden\",\"werdet\",\"wessen\",\"wie\",\"wieder\",\"will\",\"willst\",\"wir\",\"wird\",\"wirklich\",\"wirst\",\"wo\",\"wohl\",\"wollen\",\"wollt\",\"wollte\",\"wollten\",\"worden\",\"wurde\",\"würde\",\"wurden\",\"würden\",\"x\",\"y\",\"z\",\"z.b\",\"zehn\",\"zehnte\",\"zehnten\",\"zehnter\",\"zehntes\",\"zeit\",\"zu\",\"zuerst\",\"zugleich\",\"zum\",\"zunächst\",\"zur\",\"zurück\",\"zusammen\",\"zwanzig\",\"zwar\",\"zwei\",\"zweite\",\"zweiten\",\"zweiter\",\"zweites\",\"zwischen\",\"zwölf\",\"euer\",\"eure\",\"hattest\",\"hattet\",\"jedes\",\"mußt\",\"müßt\",\"sollst\",\"sollt\",\"soweit\",\"weshalb\",\"wieso\",\"woher\",\"wohin\"])\n",
    "def remove_stop_words(text):\n",
    "    return [word for word in text if word not in stop_words]\n",
    "\n",
    "stemmer = PorterStemmer()\n",
    "def stem_words(text):\n",
    "    try:\n",
    "        text = [stemmer.stem(word) for word in text]\n",
    "        text = [word for word in text if len(word) > 1] # make sure we have no 1 letter words\n",
    "    except IndexError: \n",
    "        pass\n",
    "    return text\n",
    "\n",
    "def apply_all(text):\n",
    "    return stem_words(remove_stop_words(initial_clean(text)))"
   ]
  },
  {
   "cell_type": "code",
   "execution_count": 78,
   "metadata": {},
   "outputs": [],
   "source": [
    "\n",
    "df_all['tokenized'] = df_all['text'].apply(apply_all) \n"
   ]
  },
  {
   "cell_type": "markdown",
   "metadata": {},
   "source": [
    "## Optional: Reduce your data to nouns, adjectives, verbs, or adverbs <a class=\"anchor\" id=\"16-bullet\"></a> \n",
    "\n",
    "This function can used or be omitted. Sometimes, it makes sense to reduce your data to parts of speech (pos). This depents very much on the research question. To see which method works best, it makes sense to run this program once with and once without pos-tagging. We use Spacy for the pos tagging. Spacy can be used in many differnt language. To use Spazy in your preferred language, you have to install the right model. This model can be found here: https://spacy.io/usage/models"
   ]
  },
  {
   "cell_type": "code",
   "execution_count": 79,
   "metadata": {},
   "outputs": [],
   "source": [
    "def lemmatization(texts, allowed_postags=['NOUN', 'ADJ', 'VERB', 'ADV']):\n",
    "    \"\"\"https://spacy.io/api/annotation\"\"\"\n",
    "    texts_out = []\n",
    "    for sent in texts:\n",
    "        doc = nlp(\" \".join(sent)) \n",
    "        texts_out.append([token.lemma_ for token in doc if token.pos_ in allowed_postags])\n",
    "    return texts_out"
   ]
  },
  {
   "cell_type": "code",
   "execution_count": 80,
   "metadata": {},
   "outputs": [],
   "source": [
    "#nlp = spacy.load('de_core_news_sm', disable=['parser', 'ner'])\n",
    "\n",
    "#df_all['tokenized'] = lemmatization(df_all['tokenized'], allowed_postags=['NOUN'])\n",
    "\n"
   ]
  },
  {
   "cell_type": "markdown",
   "metadata": {},
   "source": [
    "### Have a look at your data\n",
    "\n",
    "Check out, if everything went alright so for. Have a look at the tokens, see the number of words and their frequency distribution."
   ]
  },
  {
   "cell_type": "code",
   "execution_count": 81,
   "metadata": {},
   "outputs": [
    {
     "data": {
      "text/html": [
       "<div>\n",
       "<style scoped>\n",
       "    .dataframe tbody tr th:only-of-type {\n",
       "        vertical-align: middle;\n",
       "    }\n",
       "\n",
       "    .dataframe tbody tr th {\n",
       "        vertical-align: top;\n",
       "    }\n",
       "\n",
       "    .dataframe thead th {\n",
       "        text-align: right;\n",
       "    }\n",
       "</style>\n",
       "<table border=\"1\" class=\"dataframe\">\n",
       "  <thead>\n",
       "    <tr style=\"text-align: right;\">\n",
       "      <th></th>\n",
       "      <th>id</th>\n",
       "      <th>language</th>\n",
       "      <th>date</th>\n",
       "      <th>newspaper_id</th>\n",
       "      <th>iiif_url</th>\n",
       "      <th>text</th>\n",
       "      <th>tokenized</th>\n",
       "    </tr>\n",
       "  </thead>\n",
       "  <tbody>\n",
       "    <tr>\n",
       "      <td>0</td>\n",
       "      <td>neue_freie_presse_nfp19180307_article_162</td>\n",
       "      <td>de</td>\n",
       "      <td>1918-03-07T00:00:00Z</td>\n",
       "      <td>neue_freie_presse</td>\n",
       "      <td>https://platform.newseye.eu/iiif/neue_freie_pr...</td>\n",
       "      <td>Nach dem Eintreffen beim zuständigen Ersatzkör...</td>\n",
       "      <td>[eintreffen, zuständigen, ersatzkörp, heimkehr...</td>\n",
       "    </tr>\n",
       "    <tr>\n",
       "      <td>1</td>\n",
       "      <td>arbeiter_zeitung_aze19210223_article_211</td>\n",
       "      <td>de</td>\n",
       "      <td>1921-02-23T00:00:00Z</td>\n",
       "      <td>arbeiter_zeitung</td>\n",
       "      <td>https://platform.newseye.eu/iiif/arbeiter_zeit...</td>\n",
       "      <td>Verein der Heimkehrer ans den Lagern WerchneUd...</td>\n",
       "      <td>[verein, heimkehr, an, lagern, werchneudinsk, ...</td>\n",
       "    </tr>\n",
       "    <tr>\n",
       "      <td>2</td>\n",
       "      <td>innsbrucker_nachrichten_ibn19390623_article_327</td>\n",
       "      <td>de</td>\n",
       "      <td>1939-06-23T00:00:00Z</td>\n",
       "      <td>innsbrucker_nachrichten</td>\n",
       "      <td>https://platform.newseye.eu/iiif/innsbrucker_n...</td>\n",
       "      <td>Fink wohnte auf einem kleinen Anwesen, das den...</td>\n",
       "      <td>[fink, wohnt, anwesen, eltern, frau, gehört, e...</td>\n",
       "    </tr>\n",
       "    <tr>\n",
       "      <td>3</td>\n",
       "      <td>neue_freie_presse_nfp19130112_article_2049</td>\n",
       "      <td>de</td>\n",
       "      <td>1913-01-12T00:00:00Z</td>\n",
       "      <td>neue_freie_presse</td>\n",
       "      <td>https://platform.newseye.eu/iiif/neue_freie_pr...</td>\n",
       "      <td>ich daraus schließen, daß die Rückwanderung er...</td>\n",
       "      <td>[schließen, rückwanderung, erheblich, schwächer]</td>\n",
       "    </tr>\n",
       "    <tr>\n",
       "      <td>4</td>\n",
       "      <td>arbeiter_zeitung_aze19160804_article_80</td>\n",
       "      <td>de</td>\n",
       "      <td>1916-08-04T00:00:00Z</td>\n",
       "      <td>arbeiter_zeitung</td>\n",
       "      <td>https://platform.newseye.eu/iiif/arbeiter_zeit...</td>\n",
       "      <td>Stockholen, 3. August. Die Schwedische Telegra...</td>\n",
       "      <td>[stockholen, august, schwedisch, telegraphenag...</td>\n",
       "    </tr>\n",
       "  </tbody>\n",
       "</table>\n",
       "</div>"
      ],
      "text/plain": [
       "                                                id language  \\\n",
       "0        neue_freie_presse_nfp19180307_article_162       de   \n",
       "1         arbeiter_zeitung_aze19210223_article_211       de   \n",
       "2  innsbrucker_nachrichten_ibn19390623_article_327       de   \n",
       "3       neue_freie_presse_nfp19130112_article_2049       de   \n",
       "4          arbeiter_zeitung_aze19160804_article_80       de   \n",
       "\n",
       "                   date             newspaper_id  \\\n",
       "0  1918-03-07T00:00:00Z        neue_freie_presse   \n",
       "1  1921-02-23T00:00:00Z         arbeiter_zeitung   \n",
       "2  1939-06-23T00:00:00Z  innsbrucker_nachrichten   \n",
       "3  1913-01-12T00:00:00Z        neue_freie_presse   \n",
       "4  1916-08-04T00:00:00Z         arbeiter_zeitung   \n",
       "\n",
       "                                            iiif_url  \\\n",
       "0  https://platform.newseye.eu/iiif/neue_freie_pr...   \n",
       "1  https://platform.newseye.eu/iiif/arbeiter_zeit...   \n",
       "2  https://platform.newseye.eu/iiif/innsbrucker_n...   \n",
       "3  https://platform.newseye.eu/iiif/neue_freie_pr...   \n",
       "4  https://platform.newseye.eu/iiif/arbeiter_zeit...   \n",
       "\n",
       "                                                text  \\\n",
       "0  Nach dem Eintreffen beim zuständigen Ersatzkör...   \n",
       "1  Verein der Heimkehrer ans den Lagern WerchneUd...   \n",
       "2  Fink wohnte auf einem kleinen Anwesen, das den...   \n",
       "3  ich daraus schließen, daß die Rückwanderung er...   \n",
       "4  Stockholen, 3. August. Die Schwedische Telegra...   \n",
       "\n",
       "                                           tokenized  \n",
       "0  [eintreffen, zuständigen, ersatzkörp, heimkehr...  \n",
       "1  [verein, heimkehr, an, lagern, werchneudinsk, ...  \n",
       "2  [fink, wohnt, anwesen, eltern, frau, gehört, e...  \n",
       "3   [schließen, rückwanderung, erheblich, schwächer]  \n",
       "4  [stockholen, august, schwedisch, telegraphenag...  "
      ]
     },
     "execution_count": 81,
     "metadata": {},
     "output_type": "execute_result"
    }
   ],
   "source": [
    "df_all.head(5)"
   ]
  },
  {
   "cell_type": "code",
   "execution_count": 82,
   "metadata": {},
   "outputs": [
    {
     "data": {
      "text/plain": [
       "'The number of unique words is 23559'"
      ]
     },
     "execution_count": 82,
     "metadata": {},
     "output_type": "execute_result"
    }
   ],
   "source": [
    "# first get a list of all words\n",
    "all_words = [word for item in list(df_all['tokenized']) for word in item]\n",
    "# use nltk fdist to get a frequency distribution of all words\n",
    "fdist = FreqDist(all_words)\n",
    "f\"The number of unique words is {len(fdist)}\""
   ]
  },
  {
   "cell_type": "code",
   "execution_count": 89,
   "metadata": {},
   "outputs": [
    {
     "name": "stdout",
     "output_type": "stream",
     "text": [
      "length of list: 1158\n",
      "average document length: 57.47409326424871\n",
      "minimum document length: 1\n",
      "maximum document length: 446\n"
     ]
    }
   ],
   "source": [
    "#document length\n",
    "df_all['doc_len'] = df_all['tokenized'].apply(lambda x: len(x))\n",
    "doc_lengths = list(df_all['doc_len'])\n",
    "df_all.drop(labels='doc_len', axis=1, inplace=True)\n",
    "\n",
    "\n",
    "print(f\"length of list: {len(doc_lengths)}\")\n",
    "print(f\"average document length: {np.average(doc_lengths)}\")\n",
    "print(f\"minimum document length: {min(doc_lengths)}\")\n",
    "print(f\"maximum document length: {max(doc_lengths)}\")"
   ]
  },
  {
   "cell_type": "markdown",
   "metadata": {},
   "source": [
    "### Remove articles that are too short \n",
    "\n",
    "Avoid articles that are shorter than 30 tokens"
   ]
  },
  {
   "cell_type": "code",
   "execution_count": 90,
   "metadata": {},
   "outputs": [
    {
     "name": "stdout",
     "output_type": "stream",
     "text": [
      "After cleaning and excluding short aticles, the dataframe now has: 741 articles\n"
     ]
    }
   ],
   "source": [
    "df_all = df_all[df_all['tokenized'].map(len) >= 30]\n",
    "df_all = df_all[df_all['tokenized'].map(type) == list]\n",
    "df_all.reset_index(drop=True,inplace=True)\n",
    "print(\"After cleaning and excluding short aticles, the dataframe now has:\", len(df_all), \"articles\")"
   ]
  },
  {
   "cell_type": "code",
   "execution_count": 91,
   "metadata": {
    "scrolled": true
   },
   "outputs": [
    {
     "data": {
      "text/html": [
       "<div>\n",
       "<style scoped>\n",
       "    .dataframe tbody tr th:only-of-type {\n",
       "        vertical-align: middle;\n",
       "    }\n",
       "\n",
       "    .dataframe tbody tr th {\n",
       "        vertical-align: top;\n",
       "    }\n",
       "\n",
       "    .dataframe thead th {\n",
       "        text-align: right;\n",
       "    }\n",
       "</style>\n",
       "<table border=\"1\" class=\"dataframe\">\n",
       "  <thead>\n",
       "    <tr style=\"text-align: right;\">\n",
       "      <th></th>\n",
       "      <th>id</th>\n",
       "      <th>language</th>\n",
       "      <th>date</th>\n",
       "      <th>newspaper_id</th>\n",
       "      <th>iiif_url</th>\n",
       "      <th>text</th>\n",
       "      <th>tokenized</th>\n",
       "    </tr>\n",
       "  </thead>\n",
       "  <tbody>\n",
       "    <tr>\n",
       "      <td>0</td>\n",
       "      <td>innsbrucker_nachrichten_ibn19390623_article_327</td>\n",
       "      <td>de</td>\n",
       "      <td>1939-06-23T00:00:00Z</td>\n",
       "      <td>innsbrucker_nachrichten</td>\n",
       "      <td>https://platform.newseye.eu/iiif/innsbrucker_n...</td>\n",
       "      <td>Fink wohnte auf einem kleinen Anwesen, das den...</td>\n",
       "      <td>[fink, wohnt, anwesen, eltern, frau, gehört, e...</td>\n",
       "    </tr>\n",
       "    <tr>\n",
       "      <td>1</td>\n",
       "      <td>arbeiter_zeitung_aze19160804_article_80</td>\n",
       "      <td>de</td>\n",
       "      <td>1916-08-04T00:00:00Z</td>\n",
       "      <td>arbeiter_zeitung</td>\n",
       "      <td>https://platform.newseye.eu/iiif/arbeiter_zeit...</td>\n",
       "      <td>Stockholen, 3. August. Die Schwedische Telegra...</td>\n",
       "      <td>[stockholen, august, schwedisch, telegraphenag...</td>\n",
       "    </tr>\n",
       "    <tr>\n",
       "      <td>2</td>\n",
       "      <td>neue_freie_presse_nfp18661113_article_12</td>\n",
       "      <td>de</td>\n",
       "      <td>1866-11-13T00:00:00Z</td>\n",
       "      <td>neue_freie_presse</td>\n",
       "      <td>https://platform.newseye.eu/iiif/neue_freie_pr...</td>\n",
       "      <td>Bekanntlich hat Mendelssohn von dem ganzen Gei...</td>\n",
       "      <td>[bekanntlich, mendelssohn, geibelschen, libret...</td>\n",
       "    </tr>\n",
       "    <tr>\n",
       "      <td>3</td>\n",
       "      <td>innsbrucker_nachrichten_ibn19330520_article_723</td>\n",
       "      <td>de</td>\n",
       "      <td>1933-05-20T00:00:00Z</td>\n",
       "      <td>innsbrucker_nachrichten</td>\n",
       "      <td>https://platform.newseye.eu/iiif/innsbrucker_n...</td>\n",
       "      <td>(Die Rückwanderung der österreichischen Flucht...</td>\n",
       "      <td>[rückwanderung, österreichischen, fluchtgeld, ...</td>\n",
       "    </tr>\n",
       "    <tr>\n",
       "      <td>4</td>\n",
       "      <td>neue_freie_presse_nfp18641207_article_65</td>\n",
       "      <td>de</td>\n",
       "      <td>1864-12-07T00:00:00Z</td>\n",
       "      <td>neue_freie_presse</td>\n",
       "      <td>https://platform.newseye.eu/iiif/neue_freie_pr...</td>\n",
       "      <td>Berlin, 5. December. (Truppenheimkehr. Ministe...</td>\n",
       "      <td>[berlin, decemb, truppenheimkehr, minist, rath...</td>\n",
       "    </tr>\n",
       "  </tbody>\n",
       "</table>\n",
       "</div>"
      ],
      "text/plain": [
       "                                                id language  \\\n",
       "0  innsbrucker_nachrichten_ibn19390623_article_327       de   \n",
       "1          arbeiter_zeitung_aze19160804_article_80       de   \n",
       "2         neue_freie_presse_nfp18661113_article_12       de   \n",
       "3  innsbrucker_nachrichten_ibn19330520_article_723       de   \n",
       "4         neue_freie_presse_nfp18641207_article_65       de   \n",
       "\n",
       "                   date             newspaper_id  \\\n",
       "0  1939-06-23T00:00:00Z  innsbrucker_nachrichten   \n",
       "1  1916-08-04T00:00:00Z         arbeiter_zeitung   \n",
       "2  1866-11-13T00:00:00Z        neue_freie_presse   \n",
       "3  1933-05-20T00:00:00Z  innsbrucker_nachrichten   \n",
       "4  1864-12-07T00:00:00Z        neue_freie_presse   \n",
       "\n",
       "                                            iiif_url  \\\n",
       "0  https://platform.newseye.eu/iiif/innsbrucker_n...   \n",
       "1  https://platform.newseye.eu/iiif/arbeiter_zeit...   \n",
       "2  https://platform.newseye.eu/iiif/neue_freie_pr...   \n",
       "3  https://platform.newseye.eu/iiif/innsbrucker_n...   \n",
       "4  https://platform.newseye.eu/iiif/neue_freie_pr...   \n",
       "\n",
       "                                                text  \\\n",
       "0  Fink wohnte auf einem kleinen Anwesen, das den...   \n",
       "1  Stockholen, 3. August. Die Schwedische Telegra...   \n",
       "2  Bekanntlich hat Mendelssohn von dem ganzen Gei...   \n",
       "3  (Die Rückwanderung der österreichischen Flucht...   \n",
       "4  Berlin, 5. December. (Truppenheimkehr. Ministe...   \n",
       "\n",
       "                                           tokenized  \n",
       "0  [fink, wohnt, anwesen, eltern, frau, gehört, e...  \n",
       "1  [stockholen, august, schwedisch, telegraphenag...  \n",
       "2  [bekanntlich, mendelssohn, geibelschen, libret...  \n",
       "3  [rückwanderung, österreichischen, fluchtgeld, ...  \n",
       "4  [berlin, decemb, truppenheimkehr, minist, rath...  "
      ]
     },
     "execution_count": 91,
     "metadata": {},
     "output_type": "execute_result"
    }
   ],
   "source": [
    "df_all.head()"
   ]
  },
  {
   "cell_type": "markdown",
   "metadata": {},
   "source": [
    "## Calculate similarities in comparing articles to your training corpus   <a class=\"anchor\" id=\"17-bullet\"></a>"
   ]
  },
  {
   "cell_type": "code",
   "execution_count": 92,
   "metadata": {},
   "outputs": [],
   "source": [
    "def jensen_shannon(query, matrix):\n",
    "    p = query[None,:].T \n",
    "    q = matrix.T \n",
    "    m = 0.5*(p + q)\n",
    "    return np.sqrt(0.5*(entropy(p,m) + entropy(q,m)))"
   ]
  },
  {
   "cell_type": "code",
   "execution_count": 93,
   "metadata": {},
   "outputs": [],
   "source": [
    "def get_most_similar_documents(query,matrix,k=10):\n",
    "    sims = jensen_shannon(query,matrix) # list of jensen shannon distances\n",
    "    return sims.argsort()[:k] # the top k positional index of the smallest Jensen Shannon distances"
   ]
  },
  {
   "cell_type": "code",
   "execution_count": 94,
   "metadata": {},
   "outputs": [
    {
     "name": "stderr",
     "output_type": "stream",
     "text": [
      "C:\\Users\\c62255\\anaconda3\\lib\\site-packages\\ipykernel_launcher.py:5: RuntimeWarning: invalid value encountered in sqrt\n",
      "  \"\"\"\n"
     ]
    }
   ],
   "source": [
    "#create lists for your output\n",
    "text_relevant = []\n",
    "number_relevant = []\n",
    "date_relevant = []\n",
    "text_non_relevant = []\n",
    "number_non_relevant = []\n",
    "language_relevant = []\n",
    "newspaper_id_relevant = []\n",
    "iiif_url_relevant = []\n",
    "id_relevant = []\n",
    "\n",
    "#find most similar articles and select between relevant and non-relevant\n",
    "\n",
    "index = 0\n",
    "while index < len(df_all) -1:\n",
    "    index +=1\n",
    "    new_bow = dictionary.doc2bow(df_all.iloc[index,6])\n",
    "    new_doc_distribution = np.array([tup[1] for tup in lda.get_document_topics(bow=new_bow)])\n",
    "    doc_topic_dist = np.stack([np.array([tup[1] for tup in lst]) for lst in lda[corpus]])\n",
    "    doc_topic_dist.shape\n",
    "    most_sim_ids = get_most_similar_documents(new_doc_distribution,doc_topic_dist)\n",
    "    most_similar_df = train_df[train_df.index.isin(most_sim_ids)]\n",
    "    # Calculate \n",
    "    if sum(most_similar_df['relevancy']) > 17: \n",
    "        text_relevant.append(df_all.iloc[index,5])\n",
    "        date_relevant.append(df_all.iloc[index,2])\n",
    "        language_relevant.append(df_all.iloc[index,1])\n",
    "        newspaper_id_relevant.append(df_all.iloc[index,3])\n",
    "        iiif_url_relevant.append(df_all.iloc[index,4])\n",
    "        id_relevant.append(df_all.iloc[index,0])\n",
    "        \n",
    "    else:\n",
    "        text_non_relevant.append(df_all.iloc[index,5])\n",
    "    pass\n"
   ]
  },
  {
   "cell_type": "code",
   "execution_count": 95,
   "metadata": {},
   "outputs": [
    {
     "data": {
      "text/html": [
       "<div>\n",
       "<style scoped>\n",
       "    .dataframe tbody tr th:only-of-type {\n",
       "        vertical-align: middle;\n",
       "    }\n",
       "\n",
       "    .dataframe tbody tr th {\n",
       "        vertical-align: top;\n",
       "    }\n",
       "\n",
       "    .dataframe thead th {\n",
       "        text-align: right;\n",
       "    }\n",
       "</style>\n",
       "<table border=\"1\" class=\"dataframe\">\n",
       "  <thead>\n",
       "    <tr style=\"text-align: right;\">\n",
       "      <th></th>\n",
       "      <th>Relevant_Text</th>\n",
       "      <th>Non_Relevant_Text</th>\n",
       "    </tr>\n",
       "  </thead>\n",
       "  <tbody>\n",
       "    <tr>\n",
       "      <td>0</td>\n",
       "      <td>Berlin, 5. December. (Truppenheimkehr. Ministe...</td>\n",
       "      <td>Stockholen, 3. August. Die Schwedische Telegra...</td>\n",
       "    </tr>\n",
       "    <tr>\n",
       "      <td>1</td>\n",
       "      <td>Kauschmbanden.\\nDas ganz außerordentliche Inte...</td>\n",
       "      <td>Bekanntlich hat Mendelssohn von dem ganzen Gei...</td>\n",
       "    </tr>\n",
       "    <tr>\n",
       "      <td>2</td>\n",
       "      <td>zahlreiche Abschiedsvisiten. Freiherr v. Brenn...</td>\n",
       "      <td>(Die Rückwanderung der österreichischen Flucht...</td>\n",
       "    </tr>\n",
       "    <tr>\n",
       "      <td>3</td>\n",
       "      <td>Nicht wenige von ihnen sind schon in Oesterrei...</td>\n",
       "      <td>Die Mitglieder der croatischen Oppositions=Dep...</td>\n",
       "    </tr>\n",
       "    <tr>\n",
       "      <td>4</td>\n",
       "      <td>[Heimkehr der Sachsen.] Gestern Abends ist ein...</td>\n",
       "      <td>„Das war mein Werk!“ sagte der Herzog von Orle...</td>\n",
       "    </tr>\n",
       "  </tbody>\n",
       "</table>\n",
       "</div>"
      ],
      "text/plain": [
       "                                       Relevant_Text  \\\n",
       "0  Berlin, 5. December. (Truppenheimkehr. Ministe...   \n",
       "1  Kauschmbanden.\\nDas ganz außerordentliche Inte...   \n",
       "2  zahlreiche Abschiedsvisiten. Freiherr v. Brenn...   \n",
       "3  Nicht wenige von ihnen sind schon in Oesterrei...   \n",
       "4  [Heimkehr der Sachsen.] Gestern Abends ist ein...   \n",
       "\n",
       "                                   Non_Relevant_Text  \n",
       "0  Stockholen, 3. August. Die Schwedische Telegra...  \n",
       "1  Bekanntlich hat Mendelssohn von dem ganzen Gei...  \n",
       "2  (Die Rückwanderung der österreichischen Flucht...  \n",
       "3  Die Mitglieder der croatischen Oppositions=Dep...  \n",
       "4  „Das war mein Werk!“ sagte der Herzog von Orle...  "
      ]
     },
     "execution_count": 95,
     "metadata": {},
     "output_type": "execute_result"
    }
   ],
   "source": [
    "#transform your lists into a dataframe\n",
    "df_relevant = pd.DataFrame(np.column_stack([text_relevant]), \n",
    "                               columns=['Relevant_Text'])\n",
    "\n",
    "df_non_relevant = pd.DataFrame(np.column_stack([text_non_relevant]), \n",
    "                               columns=['Unrelevant_Text'])\n",
    "\n",
    "\n",
    "df_results = pd.concat([df_relevant,df_non_relevant], ignore_index=True, axis=1)\n",
    "df_results.columns=['Relevant_Text','Non_Relevant_Text']\n",
    "df_results.head(5)"
   ]
  },
  {
   "cell_type": "markdown",
   "metadata": {},
   "source": [
    "## Export your results to check if the method worked well <a class=\"anchor\" id=\"18-bullet\"></a>"
   ]
  },
  {
   "cell_type": "code",
   "execution_count": 96,
   "metadata": {},
   "outputs": [],
   "source": [
    "df_results.to_csv('results.csv')"
   ]
  },
  {
   "cell_type": "markdown",
   "metadata": {},
   "source": [
    "### If you are satisfied with the results, you can save them in the form of your original file <a class=\"anchor\" id=\"19-bullet\"></a>\n",
    "\n",
    "Otherwise, try to repeat the process"
   ]
  },
  {
   "cell_type": "code",
   "execution_count": 97,
   "metadata": {},
   "outputs": [
    {
     "data": {
      "text/html": [
       "<div>\n",
       "<style scoped>\n",
       "    .dataframe tbody tr th:only-of-type {\n",
       "        vertical-align: middle;\n",
       "    }\n",
       "\n",
       "    .dataframe tbody tr th {\n",
       "        vertical-align: top;\n",
       "    }\n",
       "\n",
       "    .dataframe thead th {\n",
       "        text-align: right;\n",
       "    }\n",
       "</style>\n",
       "<table border=\"1\" class=\"dataframe\">\n",
       "  <thead>\n",
       "    <tr style=\"text-align: right;\">\n",
       "      <th></th>\n",
       "      <th>id</th>\n",
       "      <th>language</th>\n",
       "      <th>date</th>\n",
       "      <th>newspaper_id</th>\n",
       "      <th>iiif_url</th>\n",
       "      <th>text</th>\n",
       "    </tr>\n",
       "  </thead>\n",
       "  <tbody>\n",
       "    <tr>\n",
       "      <td>0</td>\n",
       "      <td>neue_freie_presse_nfp18641207_article_65</td>\n",
       "      <td>de</td>\n",
       "      <td>neue_freie_presse</td>\n",
       "      <td>1864-12-07T00:00:00Z</td>\n",
       "      <td>https://platform.newseye.eu/iiif/neue_freie_pr...</td>\n",
       "      <td>Berlin, 5. December. (Truppenheimkehr. Ministe...</td>\n",
       "    </tr>\n",
       "    <tr>\n",
       "      <td>1</td>\n",
       "      <td>illustrierte_kronen_zeitung_krz19161213_articl...</td>\n",
       "      <td>de</td>\n",
       "      <td>illustrierte_kronen_zeitung</td>\n",
       "      <td>1916-12-13T00:00:00Z</td>\n",
       "      <td>https://platform.newseye.eu/iiif/illustrierte_...</td>\n",
       "      <td>Kauschmbanden.\\nDas ganz außerordentliche Inte...</td>\n",
       "    </tr>\n",
       "    <tr>\n",
       "      <td>2</td>\n",
       "      <td>neue_freie_presse_nfp18660901_article_1165</td>\n",
       "      <td>de</td>\n",
       "      <td>neue_freie_presse</td>\n",
       "      <td>1866-09-01T00:00:00Z</td>\n",
       "      <td>https://platform.newseye.eu/iiif/neue_freie_pr...</td>\n",
       "      <td>zahlreiche Abschiedsvisiten. Freiherr v. Brenn...</td>\n",
       "    </tr>\n",
       "    <tr>\n",
       "      <td>3</td>\n",
       "      <td>arbeiter_zeitung_aze19180308_article_23</td>\n",
       "      <td>de</td>\n",
       "      <td>arbeiter_zeitung</td>\n",
       "      <td>1918-03-08T00:00:00Z</td>\n",
       "      <td>https://platform.newseye.eu/iiif/arbeiter_zeit...</td>\n",
       "      <td>Nicht wenige von ihnen sind schon in Oesterrei...</td>\n",
       "    </tr>\n",
       "    <tr>\n",
       "      <td>4</td>\n",
       "      <td>neue_freie_presse_nfp18661101_article_101</td>\n",
       "      <td>de</td>\n",
       "      <td>neue_freie_presse</td>\n",
       "      <td>1866-11-01T00:00:00Z</td>\n",
       "      <td>https://platform.newseye.eu/iiif/neue_freie_pr...</td>\n",
       "      <td>[Heimkehr der Sachsen.] Gestern Abends ist ein...</td>\n",
       "    </tr>\n",
       "  </tbody>\n",
       "</table>\n",
       "</div>"
      ],
      "text/plain": [
       "                                                  id language  \\\n",
       "0           neue_freie_presse_nfp18641207_article_65       de   \n",
       "1  illustrierte_kronen_zeitung_krz19161213_articl...       de   \n",
       "2         neue_freie_presse_nfp18660901_article_1165       de   \n",
       "3            arbeiter_zeitung_aze19180308_article_23       de   \n",
       "4          neue_freie_presse_nfp18661101_article_101       de   \n",
       "\n",
       "                          date          newspaper_id  \\\n",
       "0            neue_freie_presse  1864-12-07T00:00:00Z   \n",
       "1  illustrierte_kronen_zeitung  1916-12-13T00:00:00Z   \n",
       "2            neue_freie_presse  1866-09-01T00:00:00Z   \n",
       "3             arbeiter_zeitung  1918-03-08T00:00:00Z   \n",
       "4            neue_freie_presse  1866-11-01T00:00:00Z   \n",
       "\n",
       "                                            iiif_url  \\\n",
       "0  https://platform.newseye.eu/iiif/neue_freie_pr...   \n",
       "1  https://platform.newseye.eu/iiif/illustrierte_...   \n",
       "2  https://platform.newseye.eu/iiif/neue_freie_pr...   \n",
       "3  https://platform.newseye.eu/iiif/arbeiter_zeit...   \n",
       "4  https://platform.newseye.eu/iiif/neue_freie_pr...   \n",
       "\n",
       "                                                text  \n",
       "0  Berlin, 5. December. (Truppenheimkehr. Ministe...  \n",
       "1  Kauschmbanden.\\nDas ganz außerordentliche Inte...  \n",
       "2  zahlreiche Abschiedsvisiten. Freiherr v. Brenn...  \n",
       "3  Nicht wenige von ihnen sind schon in Oesterrei...  \n",
       "4  [Heimkehr der Sachsen.] Gestern Abends ist ein...  "
      ]
     },
     "execution_count": 97,
     "metadata": {},
     "output_type": "execute_result"
    }
   ],
   "source": [
    "df_final = pd.DataFrame(np.column_stack([id_relevant, language_relevant, newspaper_id_relevant, date_relevant, iiif_url_relevant, text_relevant]), \n",
    "                               columns=['id', 'language', 'date', 'newspaper_id', 'iiif_url', 'text'])\n",
    "\n",
    "\n",
    "df_new = pd.concat([df_final], ignore_index=True, axis=1)\n",
    "df_new.columns=['id','language', 'date', 'newspaper_id', 'iiif_url', 'text']\n",
    "df_new.head(5)"
   ]
  },
  {
   "cell_type": "markdown",
   "metadata": {},
   "source": [
    "## Export your final collection  <a class=\"anchor\" id=\"29-bullet\"></a>"
   ]
  },
  {
   "cell_type": "code",
   "execution_count": 98,
   "metadata": {},
   "outputs": [],
   "source": [
    "df_new.to_csv('Collection_no_false_positives.csv')"
   ]
  },
  {
   "cell_type": "code",
   "execution_count": null,
   "metadata": {},
   "outputs": [],
   "source": []
  }
 ],
 "metadata": {
  "kernelspec": {
   "display_name": "Python 3",
   "language": "python",
   "name": "python3"
  },
  "language_info": {
   "codemirror_mode": {
    "name": "ipython",
    "version": 3
   },
   "file_extension": ".py",
   "mimetype": "text/x-python",
   "name": "python",
   "nbconvert_exporter": "python",
   "pygments_lexer": "ipython3",
   "version": "3.7.4"
  }
 },
 "nbformat": 4,
 "nbformat_minor": 2
}
